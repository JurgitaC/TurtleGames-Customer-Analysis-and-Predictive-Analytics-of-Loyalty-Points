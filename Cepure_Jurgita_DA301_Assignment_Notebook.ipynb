{
 "cells": [
  {
   "cell_type": "markdown",
   "id": "59711a08",
   "metadata": {
    "jp-MarkdownHeadingCollapsed": true
   },
   "source": [
    "### LSE Data Analytics Online Career Accelerator \n",
    "\n",
    "# DA301:  Advanced Analytics for Organisational Impact"
   ]
  },
  {
   "cell_type": "markdown",
   "id": "03291ae9",
   "metadata": {},
   "source": [
    "## Assignment template"
   ]
  },
  {
   "cell_type": "markdown",
   "id": "3d90776e",
   "metadata": {},
   "source": [
    "### Scenario\n",
    "You are a data analyst working for Turtle Games, a game manufacturer and retailer. They manufacture and sell their own products, along with sourcing and selling products manufactured by other companies. Their product range includes books, board games, video games and toys. They have a global customer base and have a business objective of improving overall sales performance by utilising customer trends. In particular, Turtle Games wants to understand: \n",
    "- how customers accumulate loyalty points (Week 1)\n",
    "- exploring the structure using decision trees (Week 2)\n",
    "- exploring clusters in customer behaviour (Week 3)\n",
    "- can social data (e.g. customer reviews) be used in marketing campaigns (Week 4)\n",
    "- loading, transforming and visualising data in R (Week 5)\n",
    "- statistical analysis and modelling in R (Week 6)"
   ]
  },
  {
   "cell_type": "markdown",
   "id": "dbdfeaee",
   "metadata": {},
   "source": [
    "# Week 1 assignment: Linear regression using Python\n",
    "The marketing department of Turtle Games prefers Python for data analysis. As you are fluent in Python, they asked you to assist with data analysis of social media data. The marketing department wants to better understand how users accumulate loyalty points. Therefore, you need to investigate the possible relationships between the loyalty points, age, remuneration, and spending scores. Note that you will use this data set in future modules as well and it is, therefore, strongly encouraged to first clean the data as per provided guidelines and then save a copy of the clean data for future use.\n",
    "\n",
    "## Instructions\n",
    "1. Load and explore the data.\n",
    "    1. Create a new DataFrame (e.g. reviews).\n",
    "    2. Sense-check the DataFrame.\n",
    "    3. Determine if there are any missing values in the DataFrame.\n",
    "    4. Create a summary of the descriptive statistics.\n",
    "2. Remove redundant columns (`language` and `platform`).\n",
    "3. Change column headings to names that are easier to reference (e.g. `renumeration` and `spending_score`).\n",
    "4. Save a copy of the clean DataFrame as a CSV file. Import the file to sense-check.\n",
    "5. Use linear regression and goodness of fit metrics to evaluate possible linear relationships between loyalty points and age/renumeration/spending scores to determine whether these can be used to predict the loyalty points.\n",
    "    1. Specify the independent and dependent variables.\n",
    "    2. Create the OLS model.\n",
    "    3. Extract the estimated parameters, standard errors, and predicted values.\n",
    "    4. Generate the regression table based on the X coefficient and constant values.\n",
    "    5. Plot the linear regression and add a regression line.\n",
    "6. Include your insights and observations."
   ]
  },
  {
   "cell_type": "code",
   "execution_count": 5,
   "id": "45cc3186",
   "metadata": {},
   "outputs": [],
   "source": [
    "# Imports\n",
    "import numpy as np\n",
    "import pandas as pd\n",
    "import matplotlib.pyplot as plt\n",
    "import seaborn as sns\n",
    "import statsmodels.api as sm \n",
    "from sklearn import linear_model\n",
    "from sklearn.linear_model import LinearRegression\n",
    "from sklearn.model_selection import train_test_split\n",
    "from statsmodels.formula.api import ols\n",
    "from sklearn.metrics import r2_score\n",
    "from sklearn import metrics\n",
    "from sklearn.metrics import mean_absolute_error\n",
    "from sklearn.metrics import mean_squared_error, mean_absolute_error\n",
    "from statsmodels.stats.outliers_influence import variance_inflation_factor\n",
    "from statsmodels.tools.tools import add_constant\n",
    "import statsmodels.stats.api as sms"
   ]
  },
  {
   "cell_type": "markdown",
   "id": "bbbc0286-8611-498b-ab15-3ccce910e831",
   "metadata": {},
   "source": [
    "## Functions"
   ]
  },
  {
   "cell_type": "code",
   "execution_count": 7,
   "id": "6908ef6b-3823-4d62-9f68-5782dabe6235",
   "metadata": {},
   "outputs": [],
   "source": [
    "#Return unique_counts, duplicate_count, summary_stats\n",
    "def validate_data(df):\n",
    "    \"\"\" \n",
    "    This function validates the data and checks for data types, unique values, missing values\n",
    "    duplicates, summary stats etc.\n",
    "    \"\"\"\n",
    "    #check for basic data frame info and data types\n",
    "    print(\"\\n DataFrame info:\")\n",
    "    dataframe_info = df.info()\n",
    "    \n",
    "    #check for unique values\n",
    "    unique_counts = df.nunique()\n",
    "    print(\"\\nUnique values per column:\")\n",
    "    print(unique_counts)\n",
    "\n",
    "    #check for missing values\n",
    "    missing_values_count = df.isna().sum()\n",
    "    print(\"\\nNumber of missing values:\")\n",
    "    print(missing_values_count)\n",
    "    \n",
    "    #checking for duplicates\n",
    "    duplicate_count = df.duplicated().sum()\n",
    "    print(\"\\nNumber of duplicate rows:\")\n",
    "    print(duplicate_count)\n",
    "    \n",
    "    #summary stats\n",
    "    summary_stats = df.describe()\n",
    "    print(\"\\nSummary statistics:\")\n",
    "    print(summary_stats)\n",
    "    \n",
    "    \n",
    "#Returns histogram + smooth curve (clearer idea of the underlying shape of the data).\n",
    "def plot_histogram(df, column):\n",
    "    \"\"\"\n",
    "    Plots a histogram to explore the distribution of a specified column in the DataFrame.\n",
    "    \"\"\"\n",
    "    # Check if the column exists in the DataFrame\n",
    "    if column not in df.columns:\n",
    "        print(f\"Error: Column '{column}' does not exist in the DataFrame.\")\n",
    "        return\n",
    "    \n",
    "    # Plotting\n",
    "    plt.figure(figsize=(10, 6))\n",
    "    sns.histplot(df[column], kde=True, bins=30)\n",
    "    plt.title(f\"{column}\")\n",
    "    plt.xlabel(column)\n",
    "    plt.ylabel('Frequency')\n",
    "    plt.show()\n",
    "\n",
    "\n",
    "# Returns countplot.\n",
    "def plot_countplot (df, column):\n",
    "    \"\"\"\n",
    "    Plots a countplot to explore distribution of categorical column from the DataFrame.\n",
    "    \"\"\"\n",
    "    # Check if the column exists in the DataFrame\n",
    "    if column not in df.columns:\n",
    "        print(f\"Error: Column '{column}' does not exist in the DataFrame.\")\n",
    "        return\n",
    "        \n",
    "    # Plot countplot. \n",
    "    plt.figure(figsize=(8, 6))\n",
    "    sns.countplot(data=df, x=column, hue=column, palette='Set2', legend=False)\n",
    "    plt.title(f\"{column}\")\n",
    "    plt.xlabel(column)\n",
    "    plt.ylabel('Count')\n",
    "    plt.show()\n",
    "    \n",
    "   \n",
    "# Returns boxplot.\n",
    "def plot_boxplot(df, column):\n",
    "    \"\"\"\n",
    "    Plots a boxplot to explore the distribution, spread, and outliers of a specified column in the DataFrame.\n",
    "    \"\"\"\n",
    "    # Check if the column exists in the DataFrame.\n",
    "    if column not in df.columns:\n",
    "        print(f\"Error: Column '{column}' does not exist in the DataFrame.\")\n",
    "        return\n",
    "\n",
    "    # Plotting the boxplot.\n",
    "    plt.figure(figsize=(10, 4))\n",
    "    sns.boxplot(x=df[column], color='skyblue')\n",
    "    plt.title(f\"Boxplot of {column}\")\n",
    "    plt.xlabel(column)\n",
    "    plt.show()\n",
    "\n",
    "# Returns scatterplot.\n",
    "def plot_scatter(df, x_col, y_col):\n",
    "    \"\"\"\n",
    "    Plots a basic scatter plot with labeled axes.\n",
    "    REMEMBER TO ADD plt.title() and plt.show()\n",
    "    \n",
    "    Parameters:\n",
    "    - df: DataFrame containing the data\n",
    "    - x_col: str, name of the column for x-axis\n",
    "    - y_col: str, name of the column for y-axis\n",
    "    \"\"\"\n",
    "    plt.figure(figsize=(10, 6))\n",
    "    sns.scatterplot(x=df[x_col], y=df[y_col], alpha=0.5)\n",
    "    plt.xlabel(x_col.replace('_', ' ').capitalize())\n",
    "    plt.ylabel(y_col.replace('_', ' ').capitalize())\n",
    "   "
   ]
  },
  {
   "cell_type": "markdown",
   "id": "15ea2c71",
   "metadata": {
    "jp-MarkdownHeadingCollapsed": true
   },
   "source": [
    "## 1. Load and validate the data"
   ]
  },
  {
   "cell_type": "code",
   "execution_count": 9,
   "id": "b8c3d8de",
   "metadata": {
    "scrolled": true
   },
   "outputs": [
    {
     "data": {
      "text/html": [
       "<div>\n",
       "<style scoped>\n",
       "    .dataframe tbody tr th:only-of-type {\n",
       "        vertical-align: middle;\n",
       "    }\n",
       "\n",
       "    .dataframe tbody tr th {\n",
       "        vertical-align: top;\n",
       "    }\n",
       "\n",
       "    .dataframe thead th {\n",
       "        text-align: right;\n",
       "    }\n",
       "</style>\n",
       "<table border=\"1\" class=\"dataframe\">\n",
       "  <thead>\n",
       "    <tr style=\"text-align: right;\">\n",
       "      <th></th>\n",
       "      <th>gender</th>\n",
       "      <th>age</th>\n",
       "      <th>remuneration (k£)</th>\n",
       "      <th>spending_score (1-100)</th>\n",
       "      <th>loyalty_points</th>\n",
       "      <th>education</th>\n",
       "      <th>language</th>\n",
       "      <th>platform</th>\n",
       "      <th>product</th>\n",
       "      <th>review</th>\n",
       "      <th>summary</th>\n",
       "    </tr>\n",
       "  </thead>\n",
       "  <tbody>\n",
       "    <tr>\n",
       "      <th>0</th>\n",
       "      <td>Male</td>\n",
       "      <td>18</td>\n",
       "      <td>12.30</td>\n",
       "      <td>39</td>\n",
       "      <td>210</td>\n",
       "      <td>graduate</td>\n",
       "      <td>EN</td>\n",
       "      <td>Web</td>\n",
       "      <td>453</td>\n",
       "      <td>When it comes to a DM's screen, the space on t...</td>\n",
       "      <td>The fact that 50% of this space is wasted on a...</td>\n",
       "    </tr>\n",
       "    <tr>\n",
       "      <th>1</th>\n",
       "      <td>Male</td>\n",
       "      <td>23</td>\n",
       "      <td>12.30</td>\n",
       "      <td>81</td>\n",
       "      <td>524</td>\n",
       "      <td>graduate</td>\n",
       "      <td>EN</td>\n",
       "      <td>Web</td>\n",
       "      <td>466</td>\n",
       "      <td>An Open Letter to GaleForce9*:\\n\\nYour unpaint...</td>\n",
       "      <td>Another worthless Dungeon Master's screen from...</td>\n",
       "    </tr>\n",
       "    <tr>\n",
       "      <th>2</th>\n",
       "      <td>Female</td>\n",
       "      <td>22</td>\n",
       "      <td>13.12</td>\n",
       "      <td>6</td>\n",
       "      <td>40</td>\n",
       "      <td>graduate</td>\n",
       "      <td>EN</td>\n",
       "      <td>Web</td>\n",
       "      <td>254</td>\n",
       "      <td>Nice art, nice printing.  Why two panels are f...</td>\n",
       "      <td>pretty, but also pretty useless</td>\n",
       "    </tr>\n",
       "    <tr>\n",
       "      <th>3</th>\n",
       "      <td>Female</td>\n",
       "      <td>25</td>\n",
       "      <td>13.12</td>\n",
       "      <td>77</td>\n",
       "      <td>562</td>\n",
       "      <td>graduate</td>\n",
       "      <td>EN</td>\n",
       "      <td>Web</td>\n",
       "      <td>263</td>\n",
       "      <td>Amazing buy! Bought it as a gift for our new d...</td>\n",
       "      <td>Five Stars</td>\n",
       "    </tr>\n",
       "    <tr>\n",
       "      <th>4</th>\n",
       "      <td>Female</td>\n",
       "      <td>33</td>\n",
       "      <td>13.94</td>\n",
       "      <td>40</td>\n",
       "      <td>366</td>\n",
       "      <td>graduate</td>\n",
       "      <td>EN</td>\n",
       "      <td>Web</td>\n",
       "      <td>291</td>\n",
       "      <td>As my review of GF9's previous screens these w...</td>\n",
       "      <td>Money trap</td>\n",
       "    </tr>\n",
       "  </tbody>\n",
       "</table>\n",
       "</div>"
      ],
      "text/plain": [
       "   gender  age  remuneration (k£)  spending_score (1-100)  loyalty_points  \\\n",
       "0    Male   18              12.30                      39             210   \n",
       "1    Male   23              12.30                      81             524   \n",
       "2  Female   22              13.12                       6              40   \n",
       "3  Female   25              13.12                      77             562   \n",
       "4  Female   33              13.94                      40             366   \n",
       "\n",
       "  education language platform  product  \\\n",
       "0  graduate       EN      Web      453   \n",
       "1  graduate       EN      Web      466   \n",
       "2  graduate       EN      Web      254   \n",
       "3  graduate       EN      Web      263   \n",
       "4  graduate       EN      Web      291   \n",
       "\n",
       "                                              review  \\\n",
       "0  When it comes to a DM's screen, the space on t...   \n",
       "1  An Open Letter to GaleForce9*:\\n\\nYour unpaint...   \n",
       "2  Nice art, nice printing.  Why two panels are f...   \n",
       "3  Amazing buy! Bought it as a gift for our new d...   \n",
       "4  As my review of GF9's previous screens these w...   \n",
       "\n",
       "                                             summary  \n",
       "0  The fact that 50% of this space is wasted on a...  \n",
       "1  Another worthless Dungeon Master's screen from...  \n",
       "2                    pretty, but also pretty useless  \n",
       "3                                         Five Stars  \n",
       "4                                         Money trap  "
      ]
     },
     "execution_count": 9,
     "metadata": {},
     "output_type": "execute_result"
    }
   ],
   "source": [
    "# Load the CSV file(s) as reviews.\n",
    "df = pd.read_csv('turtle_reviews.csv')\n",
    "\n",
    "# View the DataFrame.\n",
    "df.head()"
   ]
  },
  {
   "cell_type": "code",
   "execution_count": 10,
   "id": "74f96de1-888a-4698-9ec1-23e768642848",
   "metadata": {
    "scrolled": true
   },
   "outputs": [
    {
     "name": "stdout",
     "output_type": "stream",
     "text": [
      "\n",
      " DataFrame info:\n",
      "<class 'pandas.core.frame.DataFrame'>\n",
      "RangeIndex: 2000 entries, 0 to 1999\n",
      "Data columns (total 11 columns):\n",
      " #   Column                  Non-Null Count  Dtype  \n",
      "---  ------                  --------------  -----  \n",
      " 0   gender                  2000 non-null   object \n",
      " 1   age                     2000 non-null   int64  \n",
      " 2   remuneration (k£)       2000 non-null   float64\n",
      " 3   spending_score (1-100)  2000 non-null   int64  \n",
      " 4   loyalty_points          2000 non-null   int64  \n",
      " 5   education               2000 non-null   object \n",
      " 6   language                2000 non-null   object \n",
      " 7   platform                2000 non-null   object \n",
      " 8   product                 2000 non-null   int64  \n",
      " 9   review                  2000 non-null   object \n",
      " 10  summary                 2000 non-null   object \n",
      "dtypes: float64(1), int64(4), object(6)\n",
      "memory usage: 172.0+ KB\n",
      "\n",
      "Unique values per column:\n",
      "gender                       2\n",
      "age                         45\n",
      "remuneration (k£)           64\n",
      "spending_score (1-100)      84\n",
      "loyalty_points             627\n",
      "education                    5\n",
      "language                     1\n",
      "platform                     1\n",
      "product                    200\n",
      "review                    1980\n",
      "summary                   1432\n",
      "dtype: int64\n",
      "\n",
      "Number of missing values:\n",
      "gender                    0\n",
      "age                       0\n",
      "remuneration (k£)         0\n",
      "spending_score (1-100)    0\n",
      "loyalty_points            0\n",
      "education                 0\n",
      "language                  0\n",
      "platform                  0\n",
      "product                   0\n",
      "review                    0\n",
      "summary                   0\n",
      "dtype: int64\n",
      "\n",
      "Number of duplicate rows:\n",
      "0\n",
      "\n",
      "Summary statistics:\n",
      "               age  remuneration (k£)  spending_score (1-100)  loyalty_points  \\\n",
      "count  2000.000000        2000.000000             2000.000000     2000.000000   \n",
      "mean     39.495000          48.079060               50.000000     1578.032000   \n",
      "std      13.573212          23.123984               26.094702     1283.239705   \n",
      "min      17.000000          12.300000                1.000000       25.000000   \n",
      "25%      29.000000          30.340000               32.000000      772.000000   \n",
      "50%      38.000000          47.150000               50.000000     1276.000000   \n",
      "75%      49.000000          63.960000               73.000000     1751.250000   \n",
      "max      72.000000         112.340000               99.000000     6847.000000   \n",
      "\n",
      "            product  \n",
      "count   2000.000000  \n",
      "mean    4320.521500  \n",
      "std     3148.938839  \n",
      "min      107.000000  \n",
      "25%     1589.250000  \n",
      "50%     3624.000000  \n",
      "75%     6654.000000  \n",
      "max    11086.000000  \n"
     ]
    }
   ],
   "source": [
    "# Sense-check data set to determine data types, unique values, missing values, duplicates, summary stats.\n",
    "validate_data(df)"
   ]
  },
  {
   "cell_type": "markdown",
   "id": "1496b9e2-3562-41e6-9b48-b16fbbd638be",
   "metadata": {},
   "source": [
    "#### Data type for 'product'.\n",
    "As per metadata product column holds unique codes and not numeric values, hence dtype should be object."
   ]
  },
  {
   "cell_type": "code",
   "execution_count": 12,
   "id": "3bacd6c3-2589-415b-aa09-c209706e8e51",
   "metadata": {},
   "outputs": [
    {
     "data": {
      "text/plain": [
       "gender                     object\n",
       "age                         int64\n",
       "remuneration (k£)         float64\n",
       "spending_score (1-100)      int64\n",
       "loyalty_points              int64\n",
       "education                  object\n",
       "language                   object\n",
       "platform                   object\n",
       "product                    object\n",
       "review                     object\n",
       "summary                    object\n",
       "dtype: object"
      ]
     },
     "execution_count": 12,
     "metadata": {},
     "output_type": "execute_result"
    }
   ],
   "source": [
    "# Change produts dtype to object.\n",
    "df['product'] = df['product'].astype('object')\n",
    "df.dtypes"
   ]
  },
  {
   "cell_type": "markdown",
   "id": "5d25344d-3aed-4d27-bb24-2142be9c99ef",
   "metadata": {
    "jp-MarkdownHeadingCollapsed": true
   },
   "source": [
    "## 2. Drop columns"
   ]
  },
  {
   "cell_type": "code",
   "execution_count": 14,
   "id": "511b813a-f04f-4c3a-9a11-ad6d7a423525",
   "metadata": {},
   "outputs": [
    {
     "data": {
      "text/html": [
       "<div>\n",
       "<style scoped>\n",
       "    .dataframe tbody tr th:only-of-type {\n",
       "        vertical-align: middle;\n",
       "    }\n",
       "\n",
       "    .dataframe tbody tr th {\n",
       "        vertical-align: top;\n",
       "    }\n",
       "\n",
       "    .dataframe thead th {\n",
       "        text-align: right;\n",
       "    }\n",
       "</style>\n",
       "<table border=\"1\" class=\"dataframe\">\n",
       "  <thead>\n",
       "    <tr style=\"text-align: right;\">\n",
       "      <th></th>\n",
       "      <th>gender</th>\n",
       "      <th>age</th>\n",
       "      <th>remuneration (k£)</th>\n",
       "      <th>spending_score (1-100)</th>\n",
       "      <th>loyalty_points</th>\n",
       "      <th>education</th>\n",
       "      <th>product</th>\n",
       "      <th>review</th>\n",
       "      <th>summary</th>\n",
       "    </tr>\n",
       "  </thead>\n",
       "  <tbody>\n",
       "    <tr>\n",
       "      <th>0</th>\n",
       "      <td>Male</td>\n",
       "      <td>18</td>\n",
       "      <td>12.30</td>\n",
       "      <td>39</td>\n",
       "      <td>210</td>\n",
       "      <td>graduate</td>\n",
       "      <td>453</td>\n",
       "      <td>When it comes to a DM's screen, the space on t...</td>\n",
       "      <td>The fact that 50% of this space is wasted on a...</td>\n",
       "    </tr>\n",
       "    <tr>\n",
       "      <th>1</th>\n",
       "      <td>Male</td>\n",
       "      <td>23</td>\n",
       "      <td>12.30</td>\n",
       "      <td>81</td>\n",
       "      <td>524</td>\n",
       "      <td>graduate</td>\n",
       "      <td>466</td>\n",
       "      <td>An Open Letter to GaleForce9*:\\n\\nYour unpaint...</td>\n",
       "      <td>Another worthless Dungeon Master's screen from...</td>\n",
       "    </tr>\n",
       "    <tr>\n",
       "      <th>2</th>\n",
       "      <td>Female</td>\n",
       "      <td>22</td>\n",
       "      <td>13.12</td>\n",
       "      <td>6</td>\n",
       "      <td>40</td>\n",
       "      <td>graduate</td>\n",
       "      <td>254</td>\n",
       "      <td>Nice art, nice printing.  Why two panels are f...</td>\n",
       "      <td>pretty, but also pretty useless</td>\n",
       "    </tr>\n",
       "    <tr>\n",
       "      <th>3</th>\n",
       "      <td>Female</td>\n",
       "      <td>25</td>\n",
       "      <td>13.12</td>\n",
       "      <td>77</td>\n",
       "      <td>562</td>\n",
       "      <td>graduate</td>\n",
       "      <td>263</td>\n",
       "      <td>Amazing buy! Bought it as a gift for our new d...</td>\n",
       "      <td>Five Stars</td>\n",
       "    </tr>\n",
       "    <tr>\n",
       "      <th>4</th>\n",
       "      <td>Female</td>\n",
       "      <td>33</td>\n",
       "      <td>13.94</td>\n",
       "      <td>40</td>\n",
       "      <td>366</td>\n",
       "      <td>graduate</td>\n",
       "      <td>291</td>\n",
       "      <td>As my review of GF9's previous screens these w...</td>\n",
       "      <td>Money trap</td>\n",
       "    </tr>\n",
       "  </tbody>\n",
       "</table>\n",
       "</div>"
      ],
      "text/plain": [
       "   gender  age  remuneration (k£)  spending_score (1-100)  loyalty_points  \\\n",
       "0    Male   18              12.30                      39             210   \n",
       "1    Male   23              12.30                      81             524   \n",
       "2  Female   22              13.12                       6              40   \n",
       "3  Female   25              13.12                      77             562   \n",
       "4  Female   33              13.94                      40             366   \n",
       "\n",
       "  education product                                             review  \\\n",
       "0  graduate     453  When it comes to a DM's screen, the space on t...   \n",
       "1  graduate     466  An Open Letter to GaleForce9*:\\n\\nYour unpaint...   \n",
       "2  graduate     254  Nice art, nice printing.  Why two panels are f...   \n",
       "3  graduate     263  Amazing buy! Bought it as a gift for our new d...   \n",
       "4  graduate     291  As my review of GF9's previous screens these w...   \n",
       "\n",
       "                                             summary  \n",
       "0  The fact that 50% of this space is wasted on a...  \n",
       "1  Another worthless Dungeon Master's screen from...  \n",
       "2                    pretty, but also pretty useless  \n",
       "3                                         Five Stars  \n",
       "4                                         Money trap  "
      ]
     },
     "execution_count": 14,
     "metadata": {},
     "output_type": "execute_result"
    }
   ],
   "source": [
    "# Drop unnecessary 'language' and 'platform' columns from the DataFrame.\n",
    "df1 = df.drop(columns=['language', 'platform'])\n",
    "\n",
    "# Display the updated DataFrame\n",
    "df1.head()"
   ]
  },
  {
   "cell_type": "markdown",
   "id": "8fafd556-c6fa-439b-aac3-0fe332b1eb45",
   "metadata": {
    "jp-MarkdownHeadingCollapsed": true
   },
   "source": [
    "## 3. Rename columns"
   ]
  },
  {
   "cell_type": "code",
   "execution_count": 16,
   "id": "e06310ed-ab6b-4f6e-8307-bdd3380853f5",
   "metadata": {},
   "outputs": [
    {
     "data": {
      "text/html": [
       "<div>\n",
       "<style scoped>\n",
       "    .dataframe tbody tr th:only-of-type {\n",
       "        vertical-align: middle;\n",
       "    }\n",
       "\n",
       "    .dataframe tbody tr th {\n",
       "        vertical-align: top;\n",
       "    }\n",
       "\n",
       "    .dataframe thead th {\n",
       "        text-align: right;\n",
       "    }\n",
       "</style>\n",
       "<table border=\"1\" class=\"dataframe\">\n",
       "  <thead>\n",
       "    <tr style=\"text-align: right;\">\n",
       "      <th></th>\n",
       "      <th>gender</th>\n",
       "      <th>age</th>\n",
       "      <th>remuneration</th>\n",
       "      <th>spending_score</th>\n",
       "      <th>loyalty_points</th>\n",
       "      <th>education</th>\n",
       "      <th>product</th>\n",
       "      <th>review</th>\n",
       "      <th>summary</th>\n",
       "    </tr>\n",
       "  </thead>\n",
       "  <tbody>\n",
       "    <tr>\n",
       "      <th>0</th>\n",
       "      <td>Male</td>\n",
       "      <td>18</td>\n",
       "      <td>12.30</td>\n",
       "      <td>39</td>\n",
       "      <td>210</td>\n",
       "      <td>graduate</td>\n",
       "      <td>453</td>\n",
       "      <td>When it comes to a DM's screen, the space on t...</td>\n",
       "      <td>The fact that 50% of this space is wasted on a...</td>\n",
       "    </tr>\n",
       "    <tr>\n",
       "      <th>1</th>\n",
       "      <td>Male</td>\n",
       "      <td>23</td>\n",
       "      <td>12.30</td>\n",
       "      <td>81</td>\n",
       "      <td>524</td>\n",
       "      <td>graduate</td>\n",
       "      <td>466</td>\n",
       "      <td>An Open Letter to GaleForce9*:\\n\\nYour unpaint...</td>\n",
       "      <td>Another worthless Dungeon Master's screen from...</td>\n",
       "    </tr>\n",
       "    <tr>\n",
       "      <th>2</th>\n",
       "      <td>Female</td>\n",
       "      <td>22</td>\n",
       "      <td>13.12</td>\n",
       "      <td>6</td>\n",
       "      <td>40</td>\n",
       "      <td>graduate</td>\n",
       "      <td>254</td>\n",
       "      <td>Nice art, nice printing.  Why two panels are f...</td>\n",
       "      <td>pretty, but also pretty useless</td>\n",
       "    </tr>\n",
       "    <tr>\n",
       "      <th>3</th>\n",
       "      <td>Female</td>\n",
       "      <td>25</td>\n",
       "      <td>13.12</td>\n",
       "      <td>77</td>\n",
       "      <td>562</td>\n",
       "      <td>graduate</td>\n",
       "      <td>263</td>\n",
       "      <td>Amazing buy! Bought it as a gift for our new d...</td>\n",
       "      <td>Five Stars</td>\n",
       "    </tr>\n",
       "    <tr>\n",
       "      <th>4</th>\n",
       "      <td>Female</td>\n",
       "      <td>33</td>\n",
       "      <td>13.94</td>\n",
       "      <td>40</td>\n",
       "      <td>366</td>\n",
       "      <td>graduate</td>\n",
       "      <td>291</td>\n",
       "      <td>As my review of GF9's previous screens these w...</td>\n",
       "      <td>Money trap</td>\n",
       "    </tr>\n",
       "  </tbody>\n",
       "</table>\n",
       "</div>"
      ],
      "text/plain": [
       "   gender  age  remuneration  spending_score  loyalty_points education  \\\n",
       "0    Male   18         12.30              39             210  graduate   \n",
       "1    Male   23         12.30              81             524  graduate   \n",
       "2  Female   22         13.12               6              40  graduate   \n",
       "3  Female   25         13.12              77             562  graduate   \n",
       "4  Female   33         13.94              40             366  graduate   \n",
       "\n",
       "  product                                             review  \\\n",
       "0     453  When it comes to a DM's screen, the space on t...   \n",
       "1     466  An Open Letter to GaleForce9*:\\n\\nYour unpaint...   \n",
       "2     254  Nice art, nice printing.  Why two panels are f...   \n",
       "3     263  Amazing buy! Bought it as a gift for our new d...   \n",
       "4     291  As my review of GF9's previous screens these w...   \n",
       "\n",
       "                                             summary  \n",
       "0  The fact that 50% of this space is wasted on a...  \n",
       "1  Another worthless Dungeon Master's screen from...  \n",
       "2                    pretty, but also pretty useless  \n",
       "3                                         Five Stars  \n",
       "4                                         Money trap  "
      ]
     },
     "execution_count": 16,
     "metadata": {},
     "output_type": "execute_result"
    }
   ],
   "source": [
    "# Rename the column headers.\n",
    "df1 = df1.rename(columns={\n",
    "    'remuneration (k£)': 'remuneration', \n",
    "    'spending_score (1-100)':'spending_score'\n",
    "})\n",
    "\n",
    "# View column names.\n",
    "df1.head()"
   ]
  },
  {
   "cell_type": "markdown",
   "id": "903b0f03-7822-43a7-82b3-4d84d92740d2",
   "metadata": {
    "jp-MarkdownHeadingCollapsed": true
   },
   "source": [
    "## 4. Save the DataFrame as a CSV file and re-import"
   ]
  },
  {
   "cell_type": "code",
   "execution_count": 18,
   "id": "76fc1746-570a-47cc-a8a9-fe8b6756a285",
   "metadata": {},
   "outputs": [],
   "source": [
    "# Create a CSV file as output.\n",
    "df1.to_csv('df1.csv', index=False)\n"
   ]
  },
  {
   "cell_type": "code",
   "execution_count": 19,
   "id": "584d4f35-c1b3-40ab-ba63-c5fc551f3ef5",
   "metadata": {},
   "outputs": [
    {
     "name": "stdout",
     "output_type": "stream",
     "text": [
      "<class 'pandas.core.frame.DataFrame'>\n",
      "RangeIndex: 2000 entries, 0 to 1999\n",
      "Data columns (total 9 columns):\n",
      " #   Column          Non-Null Count  Dtype  \n",
      "---  ------          --------------  -----  \n",
      " 0   gender          2000 non-null   object \n",
      " 1   age             2000 non-null   int64  \n",
      " 2   remuneration    2000 non-null   float64\n",
      " 3   spending_score  2000 non-null   int64  \n",
      " 4   loyalty_points  2000 non-null   int64  \n",
      " 5   education       2000 non-null   object \n",
      " 6   product         2000 non-null   object \n",
      " 7   review          2000 non-null   object \n",
      " 8   summary         2000 non-null   object \n",
      "dtypes: float64(1), int64(3), object(5)\n",
      "memory usage: 140.8+ KB\n"
     ]
    }
   ],
   "source": [
    "# Import new CSV file with Pandas.\n",
    "df2 = pd.read_csv('df1.csv')\n",
    "\n",
    "# Explicitly converting the 'product' column back to 'object' dtype as Pandas read is as integer otherwise\n",
    "df2['product'] = df2['product'].astype('object')\n",
    "\n",
    "# View DataFrame.\n",
    "df2.info()"
   ]
  },
  {
   "cell_type": "markdown",
   "id": "3bdd7d5f-2501-4e3e-895c-4a02602e078a",
   "metadata": {
    "jp-MarkdownHeadingCollapsed": true
   },
   "source": [
    "## 5. Linear regression"
   ]
  },
  {
   "cell_type": "markdown",
   "id": "ad08c486-b18c-4003-b862-e83b054fc2e5",
   "metadata": {},
   "source": [
    "### General"
   ]
  },
  {
   "cell_type": "code",
   "execution_count": 22,
   "id": "112ac1f3-ccd7-450d-a680-08d75abd2ce4",
   "metadata": {},
   "outputs": [
    {
     "data": {
      "text/html": [
       "<div>\n",
       "<style scoped>\n",
       "    .dataframe tbody tr th:only-of-type {\n",
       "        vertical-align: middle;\n",
       "    }\n",
       "\n",
       "    .dataframe tbody tr th {\n",
       "        vertical-align: top;\n",
       "    }\n",
       "\n",
       "    .dataframe thead th {\n",
       "        text-align: right;\n",
       "    }\n",
       "</style>\n",
       "<table border=\"1\" class=\"dataframe\">\n",
       "  <thead>\n",
       "    <tr style=\"text-align: right;\">\n",
       "      <th></th>\n",
       "      <th>age</th>\n",
       "      <th>remuneration</th>\n",
       "      <th>spending_score</th>\n",
       "      <th>loyalty_points</th>\n",
       "    </tr>\n",
       "  </thead>\n",
       "  <tbody>\n",
       "    <tr>\n",
       "      <th>age</th>\n",
       "      <td>1.000000</td>\n",
       "      <td>-0.005708</td>\n",
       "      <td>-0.224334</td>\n",
       "      <td>-0.042445</td>\n",
       "    </tr>\n",
       "    <tr>\n",
       "      <th>remuneration</th>\n",
       "      <td>-0.005708</td>\n",
       "      <td>1.000000</td>\n",
       "      <td>0.005612</td>\n",
       "      <td>0.616065</td>\n",
       "    </tr>\n",
       "    <tr>\n",
       "      <th>spending_score</th>\n",
       "      <td>-0.224334</td>\n",
       "      <td>0.005612</td>\n",
       "      <td>1.000000</td>\n",
       "      <td>0.672310</td>\n",
       "    </tr>\n",
       "    <tr>\n",
       "      <th>loyalty_points</th>\n",
       "      <td>-0.042445</td>\n",
       "      <td>0.616065</td>\n",
       "      <td>0.672310</td>\n",
       "      <td>1.000000</td>\n",
       "    </tr>\n",
       "  </tbody>\n",
       "</table>\n",
       "</div>"
      ],
      "text/plain": [
       "                     age  remuneration  spending_score  loyalty_points\n",
       "age             1.000000     -0.005708       -0.224334       -0.042445\n",
       "remuneration   -0.005708      1.000000        0.005612        0.616065\n",
       "spending_score -0.224334      0.005612        1.000000        0.672310\n",
       "loyalty_points -0.042445      0.616065        0.672310        1.000000"
      ]
     },
     "execution_count": 22,
     "metadata": {},
     "output_type": "execute_result"
    }
   ],
   "source": [
    "# Creat dataframe with numeric columns only to print corelation matrix for comparison.\n",
    "df3 = df2[['age', 'remuneration', 'spending_score', 'loyalty_points']]\n",
    "df3.corr()"
   ]
  },
  {
   "cell_type": "code",
   "execution_count": 23,
   "id": "9e15ac71-92f8-4e0d-938d-b08b93baf757",
   "metadata": {},
   "outputs": [
    {
     "data": {
      "image/png": "[encoded data removed]",
      "text/plain": [
       "<Figure size 1000x1000 with 20 Axes>"
      ]
     },
     "metadata": {},
     "output_type": "display_data"
    }
   ],
   "source": [
    "# Pairplot for original data\n",
    "sns.pairplot(df3, kind='scatter')\n",
    "plt.suptitle('Correlation of numeric data', y=1.02)\n",
    "plt.show()"
   ]
  },
  {
   "cell_type": "markdown",
   "id": "95625272-3610-465f-9f35-e24daeb06288",
   "metadata": {},
   "source": [
    "### Target variable loyalty_points"
   ]
  },
  {
   "cell_type": "code",
   "execution_count": 25,
   "id": "0aedab33-f1ce-42a7-943f-c22d18284f05",
   "metadata": {},
   "outputs": [
    {
     "data": {
      "image/png": "[encoded data removed]",
      "text/plain": [
       "<Figure size 1000x600 with 1 Axes>"
      ]
     },
     "metadata": {},
     "output_type": "display_data"
    }
   ],
   "source": [
    "# distribution of loyalty_points\n",
    "plot_histogram(df3, 'loyalty_points')"
   ]
  },
  {
   "cell_type": "code",
   "execution_count": 26,
   "id": "62617dd8-a047-4c4b-a9a6-3b47d77ada0e",
   "metadata": {},
   "outputs": [
    {
     "data": {
      "image/png": "[encoded data removed]",
      "text/plain": [
       "<Figure size 1000x400 with 1 Axes>"
      ]
     },
     "metadata": {},
     "output_type": "display_data"
    }
   ],
   "source": [
    "# Outliers, spread of loyalty points.\n",
    "plot_boxplot(df3, 'loyalty_points')"
   ]
  },
  {
   "cell_type": "code",
   "execution_count": 27,
   "id": "d692eed3-e7b4-4de9-81dc-d709d847eacd",
   "metadata": {},
   "outputs": [
    {
     "name": "stdout",
     "output_type": "stream",
     "text": [
      "count    2000.000000\n",
      "mean     1578.032000\n",
      "std      1283.239705\n",
      "min        25.000000\n",
      "25%       772.000000\n",
      "50%      1276.000000\n",
      "75%      1751.250000\n",
      "max      6847.000000\n",
      "Name: loyalty_points, dtype: float64\n",
      "Mean: 1578.032, Median: 1276.0\n"
     ]
    }
   ],
   "source": [
    "# Central tendency & spread.\n",
    "print(df3['loyalty_points'].describe())\n",
    "\n",
    "# Mean vs median.\n",
    "mean_val = df3['loyalty_points'].mean()\n",
    "median_val = df3['loyalty_points'].median()\n",
    "print(f\"Mean: {mean_val}, Median: {median_val}\")"
   ]
  },
  {
   "cell_type": "code",
   "execution_count": 28,
   "id": "a5c2a445-b4ca-434f-96d9-2e3f6c5199cd",
   "metadata": {},
   "outputs": [
    {
     "name": "stdout",
     "output_type": "stream",
     "text": [
      "Outliers are above this number of loyalty points: 3220.125\n",
      "Number of outliers: 266\n"
     ]
    }
   ],
   "source": [
    "# Outliers\n",
    "Q1 = df3['loyalty_points'].quantile(0.25)\n",
    "Q3 = df3['loyalty_points'].quantile(0.75)\n",
    "IQR = Q3 - Q1\n",
    "\n",
    "lower_bound = Q1 - 1.5 * IQR\n",
    "upper_bound = Q3 + 1.5 * IQR\n",
    "\n",
    "outliers = df3[(df3['loyalty_points'] < lower_bound) | (df3['loyalty_points'] > upper_bound)]\n",
    "print(f\"Outliers are above this number of loyalty points: {upper_bound}\")\n",
    "print(f\"Number of outliers: {len(outliers)}\")\n"
   ]
  },
  {
   "cell_type": "markdown",
   "id": "0efc6271-6d0b-4dfb-8f1d-eaf6199c3af9",
   "metadata": {
    "jp-MarkdownHeadingCollapsed": true
   },
   "source": [
    "## Observations:\n",
    "\n",
    "1. Correlation matrix shows:\n",
    "    * remuneration and loyalty points have a strong positive relationship.\n",
    "    * spending score and loyalty points are also strongly positively correlated.\n",
    "    * age weak or no significant relationships with loyalty points and the other variables.\n",
    "    * remuneration and spending Score have very weak positive correlation (slightly related).\n",
    "\n",
    "2. Pairplot of numeric columns shows linearity between loyalty points and remuneration as well as spending score, but not with age\n",
    "3. Target value - loyalty points:\n",
    "    * has long right skew distribution with mean (1,578) notably higher than median (1,276), indicating the presence of high-value outliers.\n",
    "    * large standard deviation with wide gap between min and max values reinsforces wide variability\n",
    "    * just of 13% of loyalty point holders (266) fall into outliers category (>3220).\n",
    "    * the stats support the split of the dataset for clearer modeling and interpretation, however from business perspective outliers are the most valuable customers - the ones to retain, understand and replaplicate. Removing them will defeat the business purpose. Also, dataset is relatively small hence keeping it intact has beenfits of better learning, cpturing variability and predicting not only average bahavior, but also high loyalty scores. "
   ]
  },
  {
   "cell_type": "markdown",
   "id": "3c2f7aa5-c1c2-4e17-81ef-1c0c9da1c742",
   "metadata": {},
   "source": [
    "## SIMPLE Linear regression"
   ]
  },
  {
   "cell_type": "markdown",
   "id": "97a7f47e",
   "metadata": {
    "jp-MarkdownHeadingCollapsed": true
   },
   "source": [
    "### 5a) spending vs loyalty\n",
    "For a quick and simple analysis will use np.polyfit function with degree =1 for a straight line and will add trend line with np.polyval based on polynomial coefficients. Drawback model does not provide statistical output."
   ]
  },
  {
   "cell_type": "code",
   "execution_count": 32,
   "id": "22d17df1-6e36-4fd1-b915-168b602286f2",
   "metadata": {},
   "outputs": [],
   "source": [
    "# Define independent variable.\n",
    "x = df3['spending_score']\n",
    "\n",
    "# Define dependent variable.\n",
    "y = df3['loyalty_points']"
   ]
  },
  {
   "cell_type": "code",
   "execution_count": 33,
   "id": "604e0af5-bf72-4158-9f64-893873b4c68f",
   "metadata": {},
   "outputs": [
    {
     "name": "stdout",
     "output_type": "stream",
     "text": [
      "Coefficients: [ 33.06169326 -75.05266293]\n"
     ]
    },
    {
     "data": {
      "image/png": "[encoded data removed]",
      "text/plain": [
       "<Figure size 1000x600 with 1 Axes>"
      ]
     },
     "metadata": {},
     "output_type": "display_data"
    },
    {
     "name": "stdout",
     "output_type": "stream",
     "text": [
      "Correlation between Spending score and Loyalty points: 0.6723101119155435\n"
     ]
    }
   ],
   "source": [
    "# Use Polyfit method for one variable simple linear regression.\n",
    "regression = np.polyfit(x, y, deg = 1)\n",
    "\n",
    "# View the output.\n",
    "print(f'Coefficients: {regression}')\n",
    "\n",
    "# Add a trendline to visualize the linear regression.\n",
    "# Use the NumPy polyval method, and specify the regression and the independent variable.\n",
    "trendline = np.polyval(regression, x)\n",
    "\n",
    "# Scatter plot with data using function.\n",
    "plot_scatter(df3, 'spending_score', 'loyalty_points')\n",
    "\n",
    "# Add the trendline.\n",
    "plt.plot(df3['spending_score'], trendline, color='red')\n",
    "\n",
    "#Add the title\n",
    "plt.title('Spending score vs Loyalty points with Trendline')\n",
    "\n",
    "plt.show()\n",
    "\n",
    "# Calculate the correlation.\n",
    "correlation = x.corr(y)\n",
    "print(f'Correlation between Spending score and Loyalty points: {correlation}')"
   ]
  },
  {
   "cell_type": "code",
   "execution_count": 34,
   "id": "cfdd4b30-aeae-406e-bf11-0cdc3fcfcf32",
   "metadata": {},
   "outputs": [
    {
     "name": "stdout",
     "output_type": "stream",
     "text": [
      "                            OLS Regression Results                            \n",
      "==============================================================================\n",
      "Dep. Variable:         loyalty_points   R-squared:                       0.452\n",
      "Model:                            OLS   Adj. R-squared:                  0.452\n",
      "Method:                 Least Squares   F-statistic:                     1648.\n",
      "Date:                Mon, 14 Apr 2025   Prob (F-statistic):          2.92e-263\n",
      "Time:                        12:51:59   Log-Likelihood:                -16550.\n",
      "No. Observations:                2000   AIC:                         3.310e+04\n",
      "Df Residuals:                    1998   BIC:                         3.312e+04\n",
      "Df Model:                           1                                         \n",
      "Covariance Type:            nonrobust                                         \n",
      "==================================================================================\n",
      "                     coef    std err          t      P>|t|      [0.025      0.975]\n",
      "----------------------------------------------------------------------------------\n",
      "const            -75.0527     45.931     -1.634      0.102    -165.129      15.024\n",
      "spending_score    33.0617      0.814     40.595      0.000      31.464      34.659\n",
      "==============================================================================\n",
      "Omnibus:                      126.554   Durbin-Watson:                   1.191\n",
      "Prob(Omnibus):                  0.000   Jarque-Bera (JB):              260.528\n",
      "Skew:                           0.422   Prob(JB):                     2.67e-57\n",
      "Kurtosis:                       4.554   Cond. No.                         122.\n",
      "==============================================================================\n",
      "\n",
      "Notes:\n",
      "[1] Standard Errors assume that the covariance matrix of the errors is correctly specified.\n"
     ]
    }
   ],
   "source": [
    "# since np.polifit does not provide statistical output also fitted OLS model. \n",
    "# add a constant to the reggression.\n",
    "X = sm.add_constant(x)\n",
    "\n",
    "# Fit the model.\n",
    "model = sm.OLS(y, X).fit()\n",
    "\n",
    "# Summary of the model.\n",
    "print(model.summary())"
   ]
  },
  {
   "cell_type": "code",
   "execution_count": 35,
   "id": "c97f6c73-3a14-4d0f-a324-49394fa1964f",
   "metadata": {},
   "outputs": [
    {
     "name": "stdout",
     "output_type": "stream",
     "text": [
      "Parameters:  const            -75.052663\n",
      "spending_score    33.061693\n",
      "dtype: float64\n",
      "Standard errors:  const             45.930554\n",
      "spending_score     0.814419\n",
      "dtype: float64\n",
      "Predicted values:  [1214.35337415 2602.94449102  123.31749662 ... 2933.56142361  453.93442921\n",
      "  189.44088314]\n"
     ]
    }
   ],
   "source": [
    "# Extract the estimated parameters.\n",
    "print(\"Parameters: \", model.params) \n",
    "\n",
    "# Extract the standard errors(represent variability in the above across different datasets).\n",
    "print(\"Standard errors: \", model.bse) \n",
    "\n",
    "# Extract the predicted values.\n",
    "print(\"Predicted values: \", model.predict()) "
   ]
  },
  {
   "cell_type": "markdown",
   "id": "30bbee5e-2eab-4914-a266-e2a5cd0f935f",
   "metadata": {},
   "source": [
    "### Observation\n",
    "\n",
    "at Correlation = 0.672 model suggests a strong positive relationship between spending score and loyalty points, with coefficients at [ 33.06169326 -75.05266293] every 1 unit increase in spending score, increases loyalty points by 33.06. Standard error for spending score (0.8144) is small compared to the coefficient, indicating a precise estimate.\n",
    "\n",
    "For additional statistical output fitted OLS too: \n",
    "\n",
    "R2 at 0.452 suggests moderate towards the high variance as over 45% in loyalty points can be explained by spending score. \n",
    "\n",
    "High F-stat (1648) with low p-value (0.000) indicates that the model is good fit. \n",
    "\n",
    "Skew (0.422) is below 0.5 indicates that data is approximately symmetrical, but with heavy tails and possibly sharp peak – Kurtosis >3. "
   ]
  },
  {
   "cell_type": "markdown",
   "id": "0bc0f24f",
   "metadata": {
    "jp-MarkdownHeadingCollapsed": true
   },
   "source": [
    "### 5b) renumeration vs loyalty\n",
    "For linear regression this time will use OLS model for better statistical output. "
   ]
  },
  {
   "cell_type": "code",
   "execution_count": 38,
   "id": "db590005-b90a-4005-875e-dbec56155229",
   "metadata": {},
   "outputs": [],
   "source": [
    "# Define independent variable.\n",
    "X = df3['remuneration']\n",
    "\n",
    "# Define dependent variable.\n",
    "y = df3['loyalty_points']"
   ]
  },
  {
   "cell_type": "code",
   "execution_count": 39,
   "id": "81e69c20-41af-493e-b7f3-0d26fee34b31",
   "metadata": {},
   "outputs": [
    {
     "name": "stdout",
     "output_type": "stream",
     "text": [
      "                            OLS Regression Results                            \n",
      "==============================================================================\n",
      "Dep. Variable:         loyalty_points   R-squared:                       0.380\n",
      "Model:                            OLS   Adj. R-squared:                  0.379\n",
      "Method:                 Least Squares   F-statistic:                     1222.\n",
      "Date:                Mon, 14 Apr 2025   Prob (F-statistic):          2.43e-209\n",
      "Time:                        12:51:59   Log-Likelihood:                -16674.\n",
      "No. Observations:                2000   AIC:                         3.335e+04\n",
      "Df Residuals:                    1998   BIC:                         3.336e+04\n",
      "Df Model:                           1                                         \n",
      "Covariance Type:            nonrobust                                         \n",
      "================================================================================\n",
      "                   coef    std err          t      P>|t|      [0.025      0.975]\n",
      "--------------------------------------------------------------------------------\n",
      "const          -65.6865     52.171     -1.259      0.208    -168.001      36.628\n",
      "remuneration    34.1878      0.978     34.960      0.000      32.270      36.106\n",
      "==============================================================================\n",
      "Omnibus:                       21.285   Durbin-Watson:                   3.622\n",
      "Prob(Omnibus):                  0.000   Jarque-Bera (JB):               31.715\n",
      "Skew:                           0.089   Prob(JB):                     1.30e-07\n",
      "Kurtosis:                       3.590   Cond. No.                         123.\n",
      "==============================================================================\n",
      "\n",
      "Notes:\n",
      "[1] Standard Errors assume that the covariance matrix of the errors is correctly specified.\n"
     ]
    }
   ],
   "source": [
    "# OLS model requires to add a constant term to the reggression.\n",
    "X = sm.add_constant(X)\n",
    "\n",
    "# Fit the model.\n",
    "model = sm.OLS(y, X).fit()\n",
    "\n",
    "# Summary of the model.\n",
    "print(model.summary())"
   ]
  },
  {
   "cell_type": "code",
   "execution_count": 40,
   "id": "1ed9759c-f305-4c4c-a756-a1fa2dfa3895",
   "metadata": {},
   "outputs": [
    {
     "name": "stdout",
     "output_type": "stream",
     "text": [
      "Parameters:  const          -65.686513\n",
      "remuneration    34.187825\n",
      "dtype: float64\n",
      "Standard errors:  const           52.170717\n",
      "remuneration     0.977925\n",
      "dtype: float64\n",
      "Predicted values:  [ 354.82374068  354.82374068  382.85775758 ... 3102.15739671 3298.39551499\n",
      " 3102.15739671]\n"
     ]
    }
   ],
   "source": [
    "# Extract the estimated parameters.\n",
    "print(\"Parameters: \", model.params) \n",
    "\n",
    "# Extract the standard errors.\n",
    "print(\"Standard errors: \", model.bse) \n",
    "\n",
    "# Extract the predicted values.\n",
    "print(\"Predicted values: \", model.predict()) "
   ]
  },
  {
   "cell_type": "code",
   "execution_count": 41,
   "id": "e7397065-44c3-41fb-af33-12e2de593aae",
   "metadata": {},
   "outputs": [
    {
     "data": {
      "image/png": "[encoded data removed]",
      "text/plain": [
       "<Figure size 1000x600 with 1 Axes>"
      ]
     },
     "metadata": {},
     "output_type": "display_data"
    },
    {
     "name": "stdout",
     "output_type": "stream",
     "text": [
      "Correlation between Remuneration and Loyalty Points: 0.6160647476356388\n"
     ]
    }
   ],
   "source": [
    "# Predicting loyalty points.\n",
    "predictions = model.predict(X)\n",
    "\n",
    "# Plotting with function\n",
    "plot_scatter(df3, 'remuneration', 'loyalty_points')\n",
    "\n",
    "# Trendline.\n",
    "plt.plot(df3['remuneration'], predictions, color='red')\n",
    "\n",
    "plt.title('Remuneration vs Loyalty points with Trendline')\n",
    "plt.show()\n",
    "\n",
    "# Calculate the correlation\n",
    "correlation = df3['remuneration'].corr(df3['loyalty_points'])\n",
    "print(f'Correlation between Remuneration and Loyalty Points: {correlation}')\n",
    "    "
   ]
  },
  {
   "cell_type": "markdown",
   "id": "2a9bbda8-7e19-4923-8802-ed1f6b18eb96",
   "metadata": {},
   "source": [
    "### Observations:\n",
    "at 0.616 correlation suggests a strong positive relationship between remuneration and loyalty points, with slope being 34.187825 very 1 unit increase in remuneration, increases loyalty points by 34.19. Standard error for remuneration (0.9779) is small compared to the coefficient, indicating a precise estimate.\n",
    "\n",
    "R2 (0.380) and adj.R2 (0379) suggests moderate variance as about 38% in loyalty points can be explained by remuneration. \n",
    "\n",
    "High F-stat (1222) with low p-value (0.000) indicates that the model is good fit. \n",
    "\n",
    "Skew (0.089) is below 0.5 indicates that data is approximately symmetrical, but with heavy tails and possibly sharp peak – Kurtosis >3. "
   ]
  },
  {
   "cell_type": "markdown",
   "id": "c8e1552d",
   "metadata": {
    "jp-MarkdownHeadingCollapsed": true
   },
   "source": [
    "### 5c) age vs loyalty\n",
    "initial correlation matrix did not show age's significant relationships with loyalty points and pairplot did not suggest linearity so it is more to satisfy curiosity and to see stats and plot when no relationship is true. "
   ]
  },
  {
   "cell_type": "code",
   "execution_count": 44,
   "id": "099274ee-8c86-44dc-a8dc-dfbf91e59728",
   "metadata": {},
   "outputs": [],
   "source": [
    "# Define independent variable.\n",
    "X  = df3['age']\n",
    "\n",
    "# Define dependent variable.\n",
    "y  = df3['loyalty_points']"
   ]
  },
  {
   "cell_type": "code",
   "execution_count": 45,
   "id": "fcb3cbaa-4f69-4298-ab04-47a3d69d2a27",
   "metadata": {},
   "outputs": [
    {
     "data": {
      "image/png": "[encoded data removed]",
      "text/plain": [
       "<Figure size 1000x600 with 1 Axes>"
      ]
     },
     "metadata": {},
     "output_type": "display_data"
    },
    {
     "name": "stdout",
     "output_type": "stream",
     "text": [
      "Intercept: 1736.5177393990623\n",
      "Coefficient: -4.01280514999525\n",
      "Correlation between Age and Loyalty Points: -0.04244464682054187\n"
     ]
    }
   ],
   "source": [
    "#### Will use LinearRegresson model from Scikit-learn\n",
    "#Independent variable (X), needs to be in a 2D array hence reshape.\n",
    "X = df3['age'].values.reshape(-1, 1)\n",
    "\n",
    "# Create the model.\n",
    "model = LinearRegression()\n",
    "model.fit(X, y)\n",
    "\n",
    "# Predictions\n",
    "predictions = model.predict(X)\n",
    "\n",
    "# Scatter plot using function.\n",
    "plot_scatter(df3, 'age', 'loyalty_points')\n",
    "\n",
    "# Trendline\n",
    "plt.plot(df3['age'], predictions, color='red')\n",
    "\n",
    "plt.title('Age vs Loyalty points with Trendline')\n",
    "plt.show()\n",
    "\n",
    "# Coefficients\n",
    "print(f'Intercept: {model.intercept_}')\n",
    "print(f'Coefficient: {model.coef_[0]}')\n",
    "\n",
    "# Calculate the correlation\n",
    "correlation = df3['age'].corr(df3['loyalty_points'])\n",
    "print(f'Correlation between Age and Loyalty Points: {correlation}')"
   ]
  },
  {
   "cell_type": "markdown",
   "id": "9076aa1b-ffe2-45e7-858c-475bad652b73",
   "metadata": {},
   "source": [
    "### Observations:\n",
    "age indeed does not have a meaningful linear relationship with loyalty points in this dataset. Negative correlation ( -0.0424), negative coefficient(-4.01) and meaningless intercept atest to it. "
   ]
  },
  {
   "cell_type": "markdown",
   "id": "1a4339f6-3365-464b-be21-91291628007c",
   "metadata": {},
   "source": [
    "## MULTIPLE Linear regression"
   ]
  },
  {
   "cell_type": "markdown",
   "id": "39c83e03-ed84-4755-9c35-7af52e9f0ece",
   "metadata": {
    "jp-MarkdownHeadingCollapsed": true
   },
   "source": [
    "### 5d) spending_score, remuneration, age vs loyalty_points\n"
   ]
  },
  {
   "cell_type": "code",
   "execution_count": 49,
   "id": "a726d287-ef25-4428-9dd1-019e32e3a749",
   "metadata": {},
   "outputs": [],
   "source": [
    "# Define independent variable.\n",
    "X  = df3[['spending_score', 'remuneration', 'age']]\n",
    "\n",
    "# Define dependent variable.\n",
    "y  = df3['loyalty_points']"
   ]
  },
  {
   "cell_type": "code",
   "execution_count": 50,
   "id": "3b1b85d4-e92f-4355-b492-342feb0914b4",
   "metadata": {},
   "outputs": [],
   "source": [
    "# Train-Test split data set into 80% train subset and 20% test subset.\n",
    "X_train, X_test, y_train, y_test = train_test_split(X, y,\n",
    "                                                    test_size=0.2,\n",
    "                                                    random_state=42)"
   ]
  },
  {
   "cell_type": "code",
   "execution_count": 51,
   "id": "9aa27525-6590-459e-8a22-42b93b7ff56d",
   "metadata": {
    "scrolled": true
   },
   "outputs": [
    {
     "data": {
      "text/plain": [
       "array([-4.25709053e+02,  2.99343559e+03,  2.60003812e+03,  1.22401268e+03,\n",
       "        1.53391529e+03,  1.79212254e+03,  4.18943142e+02,  1.38614741e+03,\n",
       "        1.36427501e+03,  3.26123743e+03,  1.28766114e+03,  1.65894130e+03,\n",
       "        1.69575771e+03,  2.33734079e+03,  1.27743942e+03,  1.46204653e+03,\n",
       "        1.69474080e+03,  8.09214691e+02, -2.63922829e+01, -9.61682267e+02,\n",
       "        1.55468086e+03,  5.11057805e+01,  1.64730047e+03,  1.29858491e+03,\n",
       "        1.41546811e+03,  1.42269406e+03,  3.87919648e+03,  1.61275266e+03,\n",
       "        1.63341589e+03,  1.84791589e+03,  8.88818487e+01,  6.70246855e+02,\n",
       "        1.00427573e+03,  1.71837726e+03,  1.66852576e+03,  1.28842071e+03,\n",
       "        8.91492831e+02,  2.09899697e+03,  1.36106930e+03,  1.07872564e+03,\n",
       "        1.02910663e+03,  1.57353521e+03,  1.40597357e+03,  4.23039314e+03,\n",
       "        4.27476021e+03, -3.51451403e+02,  1.71837726e+03,  1.53391529e+03,\n",
       "        1.84020998e+03,  1.77547954e+03,  1.36186127e+03,  8.42143578e+02,\n",
       "        8.92577110e+02, -4.98080057e+02,  1.95151882e+03,  1.49956756e+03,\n",
       "        3.88942654e+02,  4.07828006e+03,  1.54909408e+03,  3.16017028e+03,\n",
       "        1.55434603e+03,  1.36106930e+03,  1.14667191e+03,  1.53391529e+03,\n",
       "        2.06868946e+03,  9.53989635e+02,  3.30148191e+03,  6.65946741e+02,\n",
       "        1.60464252e+03,  1.63810835e+03,  1.48356155e+03,  3.86355797e+03,\n",
       "        4.26374651e+03,  1.07872564e+03,  3.33589728e+03,  1.02910663e+03,\n",
       "        1.51846673e+03,  3.30148191e+03,  1.58173297e+03, -1.58556620e+02,\n",
       "        1.12186356e+03,  1.38307644e+03,  1.19668070e+03,  1.38388866e+03,\n",
       "        2.09503951e+03,  1.74806776e+03,  4.33432303e+02,  1.36106930e+03,\n",
       "        1.60615155e+03,  2.09713084e+03,  3.97369492e+03,  2.19625409e+03,\n",
       "       -4.27965230e+02,  1.50567656e+03, -8.72545679e+02, -9.47217951e+02,\n",
       "        1.40597357e+03,  2.04197244e+03,  1.43264805e+03,  1.17693203e+03,\n",
       "        1.80480025e+03,  4.48580701e+03,  1.84791589e+03,  1.10617995e+03,\n",
       "        1.63190944e+03,  1.28571724e+03,  7.33332541e+01,  1.28766114e+03,\n",
       "        2.10688271e+03,  6.70246855e+02,  3.14611829e+03,  1.66307400e+03,\n",
       "        2.28150289e+03,  1.54362234e+03,  2.82544920e+03,  1.54909408e+03,\n",
       "        1.72066610e+03,  3.78965769e+03,  1.13527830e+03,  1.01307834e+03,\n",
       "       -6.15780078e+02, -2.24236589e+02,  1.71837726e+03,  1.28900045e+03,\n",
       "        4.48580701e+03,  3.87776725e+03,  1.59916039e+03,  1.96851919e+03,\n",
       "        4.48580701e+03,  1.33790241e+03,  1.37513371e+03,  1.65847402e+03,\n",
       "        6.70246855e+02,  2.76289745e+03, -1.30159778e+03,  1.34814667e+03,\n",
       "        3.04620844e+02,  1.22353299e+03,  1.49023786e+03,  3.09104981e+03,\n",
       "        1.36097938e+03,  2.01945497e+03,  1.76734075e+02,  1.64910180e+03,\n",
       "        4.50783440e+03,  5.98100514e+02,  1.07872564e+03,  1.22997911e+03,\n",
       "        2.04197244e+03,  1.90605506e+03,  1.79604043e+03,  3.44696121e+03,\n",
       "        8.76893771e+02,  1.52891055e+03,  1.71837726e+03,  3.16152202e+03,\n",
       "        1.03244709e+03,  1.58020370e+03,  3.86355797e+03, -3.87943109e+02,\n",
       "        1.84020998e+03, -2.55098992e+02,  1.95151882e+03,  1.61275266e+03,\n",
       "        1.32806318e+03,  1.84282353e+03,  7.27309700e+01,  6.27646151e+02,\n",
       "        2.10688271e+03,  4.24036739e+03,  1.90605506e+03,  1.28571724e+03,\n",
       "        1.92135875e+03, -1.14303857e+03,  2.10688271e+03,  1.02910663e+03,\n",
       "        1.54909408e+03,  3.61260151e+03,  1.55468086e+03, -5.71725299e+02,\n",
       "        1.36106930e+03,  4.23039314e+03,  1.19629092e+03,  2.63603744e+03,\n",
       "        1.77679658e+03,  1.44538098e+03,  1.37665286e+03,  1.69781407e+03,\n",
       "        1.87313630e+03,  1.69404886e+03, -1.30159778e+03,  1.84020998e+03,\n",
       "        2.33734079e+03,  1.37841692e+03,  7.16357994e+02,  1.64910180e+03,\n",
       "        1.22401268e+03,  8.98798572e+02,  1.26511908e+03,  1.31965035e+03,\n",
       "        2.31814971e+02,  1.43721562e+03,  3.78965769e+03,  1.90605506e+03,\n",
       "       -7.64262708e+02,  1.58986592e+03,  1.28848808e+03,  3.16152202e+03,\n",
       "        1.71065919e+03,  1.34814667e+03,  2.73290452e+03,  1.71065919e+03,\n",
       "        1.53391529e+03,  1.70236895e+03,  1.71417718e+03,  1.40969394e+03,\n",
       "        2.70706940e+03,  1.03244709e+03, -1.09110602e+01,  1.39244636e+03,\n",
       "        5.98100514e+02,  2.76594560e+03,  3.87919648e+03,  2.65076120e+02,\n",
       "       -8.39504594e+02,  1.11379824e+03,  2.04197244e+03,  1.21207200e+03,\n",
       "        2.15919126e+02,  2.21186749e+03,  1.31794151e+03,  7.33332541e+01,\n",
       "        1.47159602e+03,  2.79829475e+03,  1.05782178e+02,  6.70246855e+02,\n",
       "        1.06882890e+03,  1.86629027e+03,  1.02236038e+03,  1.13527830e+03,\n",
       "        3.26686673e+03,  3.41364025e+03,  4.18943142e+02,  2.01945497e+03,\n",
       "        2.21186749e+03,  1.52493311e+03,  1.84791589e+03,  1.52812869e+03,\n",
       "       -8.34655114e+02,  2.07637742e+03,  2.54877163e+00,  1.22401268e+03,\n",
       "        1.21207200e+03,  1.28571724e+03,  1.83324919e+03,  1.46204653e+03,\n",
       "        1.10617995e+03, -4.36489333e+00,  1.69404886e+03,  1.36427501e+03,\n",
       "        1.36106930e+03,  5.51152572e+02, -5.61738634e+02,  3.32350930e+03,\n",
       "        2.04197244e+03,  3.78091030e+03,  3.41206615e+03,  3.60006866e+03,\n",
       "        1.14317646e+03,  1.68736999e+03,  1.61275266e+03, -1.12101118e+03,\n",
       "        1.54057162e+03,  1.33112376e+03,  1.91997461e+03, -1.62656650e+02,\n",
       "       -4.27965230e+02, -5.61738634e+02,  1.51527115e+03, -4.36489333e+00,\n",
       "        1.65063107e+03,  1.09253043e+03, -5.35846001e+02,  3.82260886e+03,\n",
       "        1.71417718e+03,  1.22997911e+03,  1.44924623e+03,  1.60575164e+03,\n",
       "        1.79212254e+03,  4.45672846e+02,  1.55468086e+03,  1.27100572e+03,\n",
       "        1.12984908e+03,  1.22888471e+03,  3.41364025e+03,  1.80480025e+03,\n",
       "        1.39244636e+03,  1.32190909e+03, -9.65380097e+02,  1.06882890e+03,\n",
       "        3.82260886e+03,  1.59328387e+03,  1.25494476e+03,  2.14578532e+03,\n",
       "        2.04340141e+03,  1.14077515e+03,  3.78965769e+03,  2.16029703e+03,\n",
       "        2.70706940e+03, -5.35846001e+02,  1.03971813e+03,  1.26127639e+03,\n",
       "        1.84791589e+03,  1.27743942e+03,  1.50888227e+03,  1.44598327e+03,\n",
       "        3.06951454e+03,  2.10173054e+03,  1.54218299e+03,  1.02415941e+03,\n",
       "        3.88942654e+02,  4.06642929e+03,  1.58173297e+03,  1.72066610e+03,\n",
       "        1.87313630e+03,  3.33589728e+03,  1.16449923e+03,  1.77679658e+03,\n",
       "        1.68863180e+03,  2.99528956e+03,  1.43692990e+02,  1.54909408e+03,\n",
       "        1.71389731e+03,  3.44225890e+03,  1.64833993e+03,  1.38823262e+02,\n",
       "        3.83043939e+03,  4.23039314e+03,  1.80480025e+03,  2.40342296e+03,\n",
       "        1.64743548e+03,  1.21207200e+03,  1.43348539e+03, -5.61738634e+02,\n",
       "        3.26686673e+03,  1.30433681e+03,  1.02236038e+03,  1.34459371e+03,\n",
       "        1.94822319e+03,  1.52891055e+03,  3.54784853e+03,  1.47202307e+03,\n",
       "        1.87571718e+03,  1.16312725e+03,  3.26123743e+03,  4.82193478e+03,\n",
       "       -1.69168115e+02,  3.54784853e+03,  1.52891055e+03,  4.23039314e+03,\n",
       "        1.38854845e+03,  2.77391114e+03,  1.70236895e+03,  2.21186749e+03,\n",
       "        1.58986592e+03,  1.10125527e+03,  1.06608060e+03,  2.12927734e+03,\n",
       "        2.76594560e+03,  1.30086364e+03,  1.06212517e+03, -1.26855670e+03,\n",
       "        1.55232464e+03,  1.03578781e+03,  1.71351765e+03,  1.84009521e+03,\n",
       "        1.66852576e+03,  1.88398258e+03,  1.16727007e+03,  1.70861525e+03,\n",
       "        1.45025301e+03,  1.53620413e+03, -8.40531625e+02,  4.08375437e+03,\n",
       "        7.16357994e+02,  1.61275266e+03,  2.16029703e+03,  1.33769017e+03,\n",
       "        1.26651591e+03,  2.10948358e+03, -4.50574656e+02, -8.99297928e+02,\n",
       "        1.68736999e+03,  5.98100514e+02,  2.65076120e+02,  3.15603758e+03,\n",
       "        1.50888227e+03,  1.98008022e+03,  1.16122615e+03,  3.16152202e+03])"
      ]
     },
     "execution_count": 51,
     "metadata": {},
     "output_type": "execute_result"
    }
   ],
   "source": [
    "# Run regression on the train subset\n",
    "multilr = LinearRegression()\n",
    "multilr.fit(X_train, y_train)\n",
    "\n",
    "# Predictions on the test set\n",
    "y_pred_test = multilr.predict(X_test)\n",
    "\n",
    "y_pred_test"
   ]
  },
  {
   "cell_type": "code",
   "execution_count": 52,
   "id": "e0c2f953-f184-4883-bf03-ec4a4ce77bfb",
   "metadata": {},
   "outputs": [
    {
     "name": "stdout",
     "output_type": "stream",
     "text": [
      "Mean Absolute Error: 402.2350305637691\n",
      "Mean Squared Error: 277188.70233220584\n",
      "Root Mean Squared Error: 526.4871340614183\n"
     ]
    }
   ],
   "source": [
    "#Evaluate model using 3 metrics:\n",
    "# 1. Calculate mean absolute error.\n",
    "mae = metrics.mean_absolute_error(y_test, y_pred_test)\n",
    "print('Mean Absolute Error:', mae)\n",
    "\n",
    "# 2. Calculate mean squared error.\n",
    "mse = metrics.mean_squared_error(y_test, y_pred_test)\n",
    "print('Mean Squared Error:', mse)\n",
    "\n",
    "# 3. Calculate root mean squared error.\n",
    "rmse = np.sqrt(mse)\n",
    "print('Root Mean Squared Error:', rmse)"
   ]
  },
  {
   "cell_type": "code",
   "execution_count": 53,
   "id": "eb135e24-0929-4a5c-8bcc-8c3bd4bc39dd",
   "metadata": {},
   "outputs": [
    {
     "name": "stdout",
     "output_type": "stream",
     "text": [
      "R-squared for training set:  0.8424891786265964\n",
      "R-squared for test set:  0.8290723396315803\n"
     ]
    }
   ],
   "source": [
    "#### Print R-squared value for the training set\n",
    "r2_train = multilr.score(X_train, y_train)\n",
    "print(\"R-squared for training set: \", r2_train )\n",
    "\n",
    "# Print R-squared value for the test set\n",
    "r2_test = multilr.score(X_test, y_test)\n",
    "print(\"R-squared for test set: \", r2_test)\n"
   ]
  },
  {
   "cell_type": "code",
   "execution_count": 54,
   "id": "cfa53fd6-9511-4796-87c1-0a8e70f0b4ca",
   "metadata": {},
   "outputs": [
    {
     "name": "stdout",
     "output_type": "stream",
     "text": [
      "Adjusted R-squared for train set: 0.8421931056540901\n",
      "Adjusted R-squared for test set: 0.8277774331136378\n"
     ]
    }
   ],
   "source": [
    "# Compute Adjusted R-squared manualy for both sets since scikit-learn only returns the regular R-squared.\n",
    "# Number of observations and predictors\n",
    "n_train = X_train.shape[0]  # number of samples\n",
    "p_train = X_train.shape[1]  # number of predictors\n",
    "\n",
    "# Calculate Adjusted R-squared\n",
    "adjusted_r2_train = 1 - (1 - r2_train) * (n_train - 1) / (n_train - p_train - 1)\n",
    "\n",
    "print(\"Adjusted R-squared for train set:\", adjusted_r2_train)\n",
    "\n",
    "\n",
    "# Number of observations and predictors\n",
    "n_test = X_test.shape[0]  # number of samples\n",
    "p_test = X_test.shape[1]  # number of predictors\n",
    "\n",
    "# Calculate Adjusted R-squared\n",
    "adjusted_r2_test = 1 - (1 - r2_test) * (n_test - 1) / (n_test - p_test - 1)\n",
    "\n",
    "print(\"Adjusted R-squared for test set:\", adjusted_r2_test)\n"
   ]
  },
  {
   "cell_type": "code",
   "execution_count": 55,
   "id": "600b5ef8-0442-416c-a77c-3858ab9ef8b4",
   "metadata": {},
   "outputs": [
    {
     "name": "stdout",
     "output_type": "stream",
     "text": [
      "   VIF Factor        features\n",
      "0        20.7           const\n",
      "1         1.1  spending_score\n",
      "2         1.0    remuneration\n",
      "3         1.1             age\n"
     ]
    }
   ],
   "source": [
    "# Check multicollinearity with VIF.\n",
    "x_temp = sm.add_constant(X_train)\n",
    "\n",
    "# Create an empty DataFrame. \n",
    "vif = pd.DataFrame()\n",
    "\n",
    "# Calculate the VIF for each value.\n",
    "vif['VIF Factor'] = [variance_inflation_factor(x_temp.values,\n",
    "                                               i) for i in range(x_temp.values.shape[1])]\n",
    "\n",
    "# Create the feature columns.\n",
    "vif['features'] = x_temp.columns\n",
    "\n",
    "# Print the values to one decimal points.\n",
    "print(vif.round(1))"
   ]
  },
  {
   "cell_type": "markdown",
   "id": "12fb9663-2bee-4157-9af8-4a408ab4b832",
   "metadata": {},
   "source": [
    "### Observations:\n",
    "1. The increased R2 suggests that the combined model captures more of the underlying relationship between the predictors and the target variable.R2 in training set - 0.842 & similar 0.829 in testing set suggest that model is performing and generalizing well the unseen data. There appears to be no indication of overfitting and performamce appears to be good as about 80% of loyalty_points can be explained by remuneration, spending score and age combined\n",
    "3. MAE (402.235),  RMSE (526.487) are both significant portions of the mean value of loyalty_points (1578.03) confirming significant prediction errors and not highly accurate model with likely some larger outliers.\n",
    "4. Multicollinearity using VIF was tested and it was onserved that spending_score, remuneration, and age VIF values are all low (close to 1 and much <5)indicating that these variables are not highly correlated with each other and are well suited for the linear regression model\n"
   ]
  },
  {
   "cell_type": "markdown",
   "id": "df1fa5b5-ca8f-4ee8-a22e-532142d5cf52",
   "metadata": {},
   "source": [
    "## 6. Observations and insights"
   ]
  },
  {
   "cell_type": "markdown",
   "id": "ba28b6fa-77dc-443c-b8e5-dfdcc229fd3c",
   "metadata": {},
   "source": [
    "Out of four linear regression models the multilinear one appears to have the best nevertheless moderate predictive performance, but still with large errors and would call for improvement.\n",
    "Larger errors are likely due to outlieres, but outliers are the most valuable customers too, hence this need to be taken into consideration before, further optimization of the model. \n",
    "Further actions -  exploring alternative models, such as decision trees (or random forests), which are more robust to outliers and non-linear relationships. "
   ]
  },
  {
   "cell_type": "markdown",
   "id": "08deefef-4168-4131-963f-f7b939f24abc",
   "metadata": {
    "jp-MarkdownHeadingCollapsed": true
   },
   "source": [
    "# Week 2 assignment: Exploring the structure using decision trees.\n",
    "\n",
    "The team wants you to use decision trees to attempt to better understand the structure found in the data. You need to grow and prune a decision tree regressor and then visualise and interpret the output.\n",
    "Make sure to comment on the potential usefulness in decision-making processes and your observations regarding the model.\n",
    "\n",
    "## Instructions\n",
    "1. Prepare the data for creating your decision tree. \n",
    "    1. Import the CSV file you have prepared in Week 1.\n",
    "    2. Create a new DataFrame with the appropriate columns.\n",
    "        1. Specify that loyalty points is the target variable (Y) and should be excluded from your input data.\n",
    "        2. Specify X for the independent variables and y as the dependent variable. Therefore, df\\[cols\\] will be the independent variables and the column containing loyalty points the dependent variable.\n",
    "        3. Explore the new DataFrame. \n",
    "2. Split the data set into a train and test sets for both X and y at a 70:30 ratio. As previously, random_state=42.\n",
    "3. Create a decision tree regressor to explore the impact of other features on the loyalty points.\n",
    "    1. Import the DecisionTreeRegressor class from the sklearn.tree library. \n",
    "    2. Create a variable (e.g. regressor) to store the DecisionTreeRegressor() class. (As previously, random_state=42.).\n",
    "    3. Fit the regressor object to the data set with the fit() function.\n",
    "    4. Remember to prune your tree using basic pruning strategies and compare the performance before and after applying the pruning strategy.\n",
    "    5. Plot the final decision tree.\n",
    "4. Fit a final model and interpret the output.\n",
    "    1. Justify your selection of pruning strategy implemented and interpret the output.\n",
    "    2. Evaluate the usefulness of the obtained result and interpret the tree and how it could be used to inform business decisions in the organisation.\n",
    "5. Summarise (150–200 words) the most important business insights, anything you would like to explore further, and suggested future actions.\n",
    " \n",
    "Back up your work to a safe location. This will allow you to revert to a previous state in the case of making a mistake in the code or deleting a section by mistake. (A simple way of doing this is to save or email a compressed version to yourself at frequent intervals.)\n"
   ]
  },
  {
   "cell_type": "markdown",
   "id": "c91b3df1-cb18-4e1a-a69b-a2f7660e8371",
   "metadata": {
    "jp-MarkdownHeadingCollapsed": true
   },
   "source": [
    "## 1. Load and prepare the data"
   ]
  },
  {
   "cell_type": "code",
   "execution_count": 61,
   "id": "42dac708-e2b3-4afb-a45d-0a233116667e",
   "metadata": {},
   "outputs": [],
   "source": [
    "# Import all the necessary packages\n",
    "from sklearn.tree import DecisionTreeRegressor, plot_tree \n",
    "from sklearn.metrics import accuracy_score, confusion_matrix, ConfusionMatrixDisplay\n",
    "from sklearn.metrics import classification_report\n",
    "from sklearn.preprocessing import LabelEncoder\n",
    "\n",
    "import warnings\n",
    "\n",
    "# Settings for the notebook.\n",
    "warnings.filterwarnings(\"ignore\")\n",
    "plt.rcParams['figure.figsize'] = [15, 10]"
   ]
  },
  {
   "cell_type": "code",
   "execution_count": 62,
   "id": "9346ed95-58b1-4674-b928-31ff33f35332",
   "metadata": {},
   "outputs": [],
   "source": [
    "# Create your new DataFrame.\n",
    "df4 = df2"
   ]
  },
  {
   "cell_type": "markdown",
   "id": "f7dd2992-1b7e-46e5-8fb2-90d828bcd0e7",
   "metadata": {},
   "source": [
    "### 1.1 View Data"
   ]
  },
  {
   "cell_type": "code",
   "execution_count": 64,
   "id": "aa5405a4-3e20-4c2f-9fcf-94e3ba57aab3",
   "metadata": {},
   "outputs": [
    {
     "data": {
      "text/html": [
       "<div>\n",
       "<style scoped>\n",
       "    .dataframe tbody tr th:only-of-type {\n",
       "        vertical-align: middle;\n",
       "    }\n",
       "\n",
       "    .dataframe tbody tr th {\n",
       "        vertical-align: top;\n",
       "    }\n",
       "\n",
       "    .dataframe thead th {\n",
       "        text-align: right;\n",
       "    }\n",
       "</style>\n",
       "<table border=\"1\" class=\"dataframe\">\n",
       "  <thead>\n",
       "    <tr style=\"text-align: right;\">\n",
       "      <th></th>\n",
       "      <th>age</th>\n",
       "      <th>remuneration</th>\n",
       "      <th>spending_score</th>\n",
       "      <th>loyalty_points</th>\n",
       "    </tr>\n",
       "  </thead>\n",
       "  <tbody>\n",
       "    <tr>\n",
       "      <th>count</th>\n",
       "      <td>2000.000000</td>\n",
       "      <td>2000.000000</td>\n",
       "      <td>2000.000000</td>\n",
       "      <td>2000.000000</td>\n",
       "    </tr>\n",
       "    <tr>\n",
       "      <th>mean</th>\n",
       "      <td>39.495000</td>\n",
       "      <td>48.079060</td>\n",
       "      <td>50.000000</td>\n",
       "      <td>1578.032000</td>\n",
       "    </tr>\n",
       "    <tr>\n",
       "      <th>std</th>\n",
       "      <td>13.573212</td>\n",
       "      <td>23.123984</td>\n",
       "      <td>26.094702</td>\n",
       "      <td>1283.239705</td>\n",
       "    </tr>\n",
       "    <tr>\n",
       "      <th>min</th>\n",
       "      <td>17.000000</td>\n",
       "      <td>12.300000</td>\n",
       "      <td>1.000000</td>\n",
       "      <td>25.000000</td>\n",
       "    </tr>\n",
       "    <tr>\n",
       "      <th>25%</th>\n",
       "      <td>29.000000</td>\n",
       "      <td>30.340000</td>\n",
       "      <td>32.000000</td>\n",
       "      <td>772.000000</td>\n",
       "    </tr>\n",
       "    <tr>\n",
       "      <th>50%</th>\n",
       "      <td>38.000000</td>\n",
       "      <td>47.150000</td>\n",
       "      <td>50.000000</td>\n",
       "      <td>1276.000000</td>\n",
       "    </tr>\n",
       "    <tr>\n",
       "      <th>75%</th>\n",
       "      <td>49.000000</td>\n",
       "      <td>63.960000</td>\n",
       "      <td>73.000000</td>\n",
       "      <td>1751.250000</td>\n",
       "    </tr>\n",
       "    <tr>\n",
       "      <th>max</th>\n",
       "      <td>72.000000</td>\n",
       "      <td>112.340000</td>\n",
       "      <td>99.000000</td>\n",
       "      <td>6847.000000</td>\n",
       "    </tr>\n",
       "  </tbody>\n",
       "</table>\n",
       "</div>"
      ],
      "text/plain": [
       "               age  remuneration  spending_score  loyalty_points\n",
       "count  2000.000000   2000.000000     2000.000000     2000.000000\n",
       "mean     39.495000     48.079060       50.000000     1578.032000\n",
       "std      13.573212     23.123984       26.094702     1283.239705\n",
       "min      17.000000     12.300000        1.000000       25.000000\n",
       "25%      29.000000     30.340000       32.000000      772.000000\n",
       "50%      38.000000     47.150000       50.000000     1276.000000\n",
       "75%      49.000000     63.960000       73.000000     1751.250000\n",
       "max      72.000000    112.340000       99.000000     6847.000000"
      ]
     },
     "execution_count": 64,
     "metadata": {},
     "output_type": "execute_result"
    }
   ],
   "source": [
    "df4.describe()"
   ]
  },
  {
   "cell_type": "code",
   "execution_count": 65,
   "id": "ccfee898-9a4e-4a5c-9a0d-de00d4e69a41",
   "metadata": {},
   "outputs": [
    {
     "name": "stdout",
     "output_type": "stream",
     "text": [
      "<class 'pandas.core.frame.DataFrame'>\n",
      "RangeIndex: 2000 entries, 0 to 1999\n",
      "Data columns (total 9 columns):\n",
      " #   Column          Non-Null Count  Dtype  \n",
      "---  ------          --------------  -----  \n",
      " 0   gender          2000 non-null   object \n",
      " 1   age             2000 non-null   int64  \n",
      " 2   remuneration    2000 non-null   float64\n",
      " 3   spending_score  2000 non-null   int64  \n",
      " 4   loyalty_points  2000 non-null   int64  \n",
      " 5   education       2000 non-null   object \n",
      " 6   product         2000 non-null   object \n",
      " 7   review          2000 non-null   object \n",
      " 8   summary         2000 non-null   object \n",
      "dtypes: float64(1), int64(3), object(5)\n",
      "memory usage: 140.8+ KB\n"
     ]
    }
   ],
   "source": [
    "df4.info()"
   ]
  },
  {
   "cell_type": "markdown",
   "id": "348616fd-0836-451a-8998-de8afc75d6a3",
   "metadata": {},
   "source": [
    "### 1.2 Data Prep\n",
    "* drop unnecessary columns\n",
    "* ensure there is no missing values\n",
    "* encode categorical variables\n",
    "* check for nulls as they'll throw errors"
   ]
  },
  {
   "cell_type": "code",
   "execution_count": 67,
   "id": "46874b91-a6f1-42c4-80d4-69768b547017",
   "metadata": {},
   "outputs": [
    {
     "name": "stdout",
     "output_type": "stream",
     "text": [
      "<class 'pandas.core.frame.DataFrame'>\n",
      "RangeIndex: 2000 entries, 0 to 1999\n",
      "Data columns (total 7 columns):\n",
      " #   Column          Non-Null Count  Dtype  \n",
      "---  ------          --------------  -----  \n",
      " 0   gender          2000 non-null   object \n",
      " 1   age             2000 non-null   int64  \n",
      " 2   remuneration    2000 non-null   float64\n",
      " 3   spending_score  2000 non-null   int64  \n",
      " 4   loyalty_points  2000 non-null   int64  \n",
      " 5   education       2000 non-null   object \n",
      " 6   product         2000 non-null   object \n",
      "dtypes: float64(1), int64(3), object(3)\n",
      "memory usage: 109.5+ KB\n"
     ]
    }
   ],
   "source": [
    "# Drop columns unnecessary at this stage.\n",
    "df4 = df4.drop(columns=['review', 'summary'])\n",
    "df4.info()"
   ]
  },
  {
   "cell_type": "code",
   "execution_count": 68,
   "id": "2ed3de71-c8a7-4c2c-92f5-31d674724f19",
   "metadata": {},
   "outputs": [
    {
     "data": {
      "text/plain": [
       "gender            0\n",
       "age               0\n",
       "remuneration      0\n",
       "spending_score    0\n",
       "loyalty_points    0\n",
       "education         0\n",
       "product           0\n",
       "dtype: int64"
      ]
     },
     "execution_count": 68,
     "metadata": {},
     "output_type": "execute_result"
    }
   ],
   "source": [
    "# Any missing values?\n",
    "missing_values = df4.isna().sum()\n",
    "missing_values"
   ]
  },
  {
   "cell_type": "code",
   "execution_count": 69,
   "id": "42befdb6-e933-4f89-9e02-c7cdbd7f5c42",
   "metadata": {},
   "outputs": [
    {
     "data": {
      "text/plain": [
       "array(['graduate', 'PhD', 'diploma', 'postgraduate', 'Basic'],\n",
       "      dtype=object)"
      ]
     },
     "execution_count": 69,
     "metadata": {},
     "output_type": "execute_result"
    }
   ],
   "source": [
    "df4['education'].unique()"
   ]
  },
  {
   "cell_type": "code",
   "execution_count": 70,
   "id": "8d3c8e29-9ecb-448b-a744-82ca060bca25",
   "metadata": {},
   "outputs": [
    {
     "data": {
      "text/html": [
       "<div>\n",
       "<style scoped>\n",
       "    .dataframe tbody tr th:only-of-type {\n",
       "        vertical-align: middle;\n",
       "    }\n",
       "\n",
       "    .dataframe tbody tr th {\n",
       "        vertical-align: top;\n",
       "    }\n",
       "\n",
       "    .dataframe thead th {\n",
       "        text-align: right;\n",
       "    }\n",
       "</style>\n",
       "<table border=\"1\" class=\"dataframe\">\n",
       "  <thead>\n",
       "    <tr style=\"text-align: right;\">\n",
       "      <th></th>\n",
       "      <th>age</th>\n",
       "      <th>remuneration</th>\n",
       "      <th>spending_score</th>\n",
       "      <th>loyalty_points</th>\n",
       "      <th>education_encoded</th>\n",
       "      <th>gender_Male</th>\n",
       "      <th>product_123</th>\n",
       "      <th>product_195</th>\n",
       "      <th>product_231</th>\n",
       "      <th>product_249</th>\n",
       "      <th>...</th>\n",
       "      <th>product_10241</th>\n",
       "      <th>product_10270</th>\n",
       "      <th>product_10281</th>\n",
       "      <th>product_10995</th>\n",
       "      <th>product_11003</th>\n",
       "      <th>product_11004</th>\n",
       "      <th>product_11025</th>\n",
       "      <th>product_11056</th>\n",
       "      <th>product_11084</th>\n",
       "      <th>product_11086</th>\n",
       "    </tr>\n",
       "  </thead>\n",
       "  <tbody>\n",
       "    <tr>\n",
       "      <th>0</th>\n",
       "      <td>18</td>\n",
       "      <td>12.30</td>\n",
       "      <td>39</td>\n",
       "      <td>210</td>\n",
       "      <td>3</td>\n",
       "      <td>True</td>\n",
       "      <td>False</td>\n",
       "      <td>False</td>\n",
       "      <td>False</td>\n",
       "      <td>False</td>\n",
       "      <td>...</td>\n",
       "      <td>False</td>\n",
       "      <td>False</td>\n",
       "      <td>False</td>\n",
       "      <td>False</td>\n",
       "      <td>False</td>\n",
       "      <td>False</td>\n",
       "      <td>False</td>\n",
       "      <td>False</td>\n",
       "      <td>False</td>\n",
       "      <td>False</td>\n",
       "    </tr>\n",
       "    <tr>\n",
       "      <th>1</th>\n",
       "      <td>23</td>\n",
       "      <td>12.30</td>\n",
       "      <td>81</td>\n",
       "      <td>524</td>\n",
       "      <td>3</td>\n",
       "      <td>True</td>\n",
       "      <td>False</td>\n",
       "      <td>False</td>\n",
       "      <td>False</td>\n",
       "      <td>False</td>\n",
       "      <td>...</td>\n",
       "      <td>False</td>\n",
       "      <td>False</td>\n",
       "      <td>False</td>\n",
       "      <td>False</td>\n",
       "      <td>False</td>\n",
       "      <td>False</td>\n",
       "      <td>False</td>\n",
       "      <td>False</td>\n",
       "      <td>False</td>\n",
       "      <td>False</td>\n",
       "    </tr>\n",
       "    <tr>\n",
       "      <th>2</th>\n",
       "      <td>22</td>\n",
       "      <td>13.12</td>\n",
       "      <td>6</td>\n",
       "      <td>40</td>\n",
       "      <td>3</td>\n",
       "      <td>False</td>\n",
       "      <td>False</td>\n",
       "      <td>False</td>\n",
       "      <td>False</td>\n",
       "      <td>False</td>\n",
       "      <td>...</td>\n",
       "      <td>False</td>\n",
       "      <td>False</td>\n",
       "      <td>False</td>\n",
       "      <td>False</td>\n",
       "      <td>False</td>\n",
       "      <td>False</td>\n",
       "      <td>False</td>\n",
       "      <td>False</td>\n",
       "      <td>False</td>\n",
       "      <td>False</td>\n",
       "    </tr>\n",
       "    <tr>\n",
       "      <th>3</th>\n",
       "      <td>25</td>\n",
       "      <td>13.12</td>\n",
       "      <td>77</td>\n",
       "      <td>562</td>\n",
       "      <td>3</td>\n",
       "      <td>False</td>\n",
       "      <td>False</td>\n",
       "      <td>False</td>\n",
       "      <td>False</td>\n",
       "      <td>False</td>\n",
       "      <td>...</td>\n",
       "      <td>False</td>\n",
       "      <td>False</td>\n",
       "      <td>False</td>\n",
       "      <td>False</td>\n",
       "      <td>False</td>\n",
       "      <td>False</td>\n",
       "      <td>False</td>\n",
       "      <td>False</td>\n",
       "      <td>False</td>\n",
       "      <td>False</td>\n",
       "    </tr>\n",
       "    <tr>\n",
       "      <th>4</th>\n",
       "      <td>33</td>\n",
       "      <td>13.94</td>\n",
       "      <td>40</td>\n",
       "      <td>366</td>\n",
       "      <td>3</td>\n",
       "      <td>False</td>\n",
       "      <td>False</td>\n",
       "      <td>False</td>\n",
       "      <td>False</td>\n",
       "      <td>False</td>\n",
       "      <td>...</td>\n",
       "      <td>False</td>\n",
       "      <td>False</td>\n",
       "      <td>False</td>\n",
       "      <td>False</td>\n",
       "      <td>False</td>\n",
       "      <td>False</td>\n",
       "      <td>False</td>\n",
       "      <td>False</td>\n",
       "      <td>False</td>\n",
       "      <td>False</td>\n",
       "    </tr>\n",
       "  </tbody>\n",
       "</table>\n",
       "<p>5 rows × 205 columns</p>\n",
       "</div>"
      ],
      "text/plain": [
       "   age  remuneration  spending_score  loyalty_points  education_encoded  \\\n",
       "0   18         12.30              39             210                  3   \n",
       "1   23         12.30              81             524                  3   \n",
       "2   22         13.12               6              40                  3   \n",
       "3   25         13.12              77             562                  3   \n",
       "4   33         13.94              40             366                  3   \n",
       "\n",
       "   gender_Male  product_123  product_195  product_231  product_249  ...  \\\n",
       "0         True        False        False        False        False  ...   \n",
       "1         True        False        False        False        False  ...   \n",
       "2        False        False        False        False        False  ...   \n",
       "3        False        False        False        False        False  ...   \n",
       "4        False        False        False        False        False  ...   \n",
       "\n",
       "   product_10241  product_10270  product_10281  product_10995  product_11003  \\\n",
       "0          False          False          False          False          False   \n",
       "1          False          False          False          False          False   \n",
       "2          False          False          False          False          False   \n",
       "3          False          False          False          False          False   \n",
       "4          False          False          False          False          False   \n",
       "\n",
       "   product_11004  product_11025  product_11056  product_11084  product_11086  \n",
       "0          False          False          False          False          False  \n",
       "1          False          False          False          False          False  \n",
       "2          False          False          False          False          False  \n",
       "3          False          False          False          False          False  \n",
       "4          False          False          False          False          False  \n",
       "\n",
       "[5 rows x 205 columns]"
      ]
     },
     "execution_count": 70,
     "metadata": {},
     "output_type": "execute_result"
    }
   ],
   "source": [
    "# Encode categorical variables. LabelEncoder for 'education' and One-Hot Encoding for 'gender' and 'product'.\n",
    "# Define the custom order for the 'education' column.\n",
    "custom_order = ['Basic', 'diploma', 'graduate', 'postgraduate', 'PhD']\n",
    "\n",
    "# Convert 'education' to a categorical type with the specified order.\n",
    "df4['education'] = pd.Categorical(df4['education'], categories=custom_order, ordered=True)\n",
    "\n",
    "# Use LabelEncoder to convert the 'education' column to numeric labels.\n",
    "le = LabelEncoder()\n",
    "df4['education_encoded'] = le.fit_transform(df4['education'])\n",
    "\n",
    "# Apply One-Hot Encoding for the 'gender' and 'product' columns using pd.get_dummies.\n",
    "df4 = pd.get_dummies(df4, columns=['gender', 'product'], drop_first=True)\n",
    "\n",
    "# Drop the original 'education' column and keep the encoded one.\n",
    "df4.drop(columns=['education'], inplace=True)\n",
    "\n",
    "df4.head()"
   ]
  },
  {
   "cell_type": "code",
   "execution_count": 71,
   "id": "0d5eb8d7-17d1-4cc6-a08c-d728674f8ac7",
   "metadata": {},
   "outputs": [
    {
     "name": "stdout",
     "output_type": "stream",
     "text": [
      "Series([], dtype: int64)\n"
     ]
    }
   ],
   "source": [
    "# Any missing values? There are 205 variables hence filter.\n",
    "missing_values = df4.isnull().sum()\n",
    "\n",
    "# Filter to show only columns that have missing values\n",
    "missing_values_with_data = missing_values[missing_values > 0]\n",
    "\n",
    "print(missing_values_with_data)"
   ]
  },
  {
   "cell_type": "markdown",
   "id": "44bb51f1-4460-4942-a22c-d7168a34e8e4",
   "metadata": {},
   "source": [
    "### Observation: \n",
    "df4 is now clean and in the shape required for model building"
   ]
  },
  {
   "cell_type": "markdown",
   "id": "1229d942-01cd-41a5-90dd-6aa8f12f4806",
   "metadata": {
    "jp-MarkdownHeadingCollapsed": true
   },
   "source": [
    "### 1.3 Define target and the features\n",
    "* target is loyalty_points\n",
    "* features - everything else in data frame df4"
   ]
  },
  {
   "cell_type": "code",
   "execution_count": 74,
   "id": "90eef5d4-26b2-4b88-8678-577f455e2829",
   "metadata": {},
   "outputs": [],
   "source": [
    "# Specify Y.\n",
    "y = df4['loyalty_points']\n",
    "\n",
    "# Specify X.\n",
    "X = df4.drop('loyalty_points', axis=1)"
   ]
  },
  {
   "cell_type": "code",
   "execution_count": 75,
   "id": "a3e391c8-158c-4bf5-be3d-47d7227b3df0",
   "metadata": {
    "scrolled": true
   },
   "outputs": [
    {
     "name": "stdout",
     "output_type": "stream",
     "text": [
      "   age  remuneration  spending_score  education_encoded  gender_Male  \\\n",
      "0   18         12.30              39                  3         True   \n",
      "1   23         12.30              81                  3         True   \n",
      "2   22         13.12               6                  3        False   \n",
      "3   25         13.12              77                  3        False   \n",
      "4   33         13.94              40                  3        False   \n",
      "\n",
      "   product_123  product_195  product_231  product_249  product_254  ...  \\\n",
      "0        False        False        False        False        False  ...   \n",
      "1        False        False        False        False        False  ...   \n",
      "2        False        False        False        False         True  ...   \n",
      "3        False        False        False        False        False  ...   \n",
      "4        False        False        False        False        False  ...   \n",
      "\n",
      "   product_10241  product_10270  product_10281  product_10995  product_11003  \\\n",
      "0          False          False          False          False          False   \n",
      "1          False          False          False          False          False   \n",
      "2          False          False          False          False          False   \n",
      "3          False          False          False          False          False   \n",
      "4          False          False          False          False          False   \n",
      "\n",
      "   product_11004  product_11025  product_11056  product_11084  product_11086  \n",
      "0          False          False          False          False          False  \n",
      "1          False          False          False          False          False  \n",
      "2          False          False          False          False          False  \n",
      "3          False          False          False          False          False  \n",
      "4          False          False          False          False          False  \n",
      "\n",
      "[5 rows x 204 columns]\n"
     ]
    }
   ],
   "source": [
    "# Review X.\n",
    "print(X.head())"
   ]
  },
  {
   "cell_type": "code",
   "execution_count": 76,
   "id": "5e748c94-2f7a-49bb-9c97-35c5553c4f28",
   "metadata": {},
   "outputs": [
    {
     "name": "stdout",
     "output_type": "stream",
     "text": [
      "0        210\n",
      "1        524\n",
      "2         40\n",
      "3        562\n",
      "4        366\n",
      "        ... \n",
      "1995    4031\n",
      "1996     539\n",
      "1997    5614\n",
      "1998    1048\n",
      "1999     479\n",
      "Name: loyalty_points, Length: 2000, dtype: int64\n"
     ]
    }
   ],
   "source": [
    "# Review y.\n",
    "print(y)"
   ]
  },
  {
   "cell_type": "code",
   "execution_count": 77,
   "id": "b83d113c-a3d8-49a8-a2b8-8de4a698f479",
   "metadata": {},
   "outputs": [
    {
     "data": {
      "text/plain": [
       "['age',\n",
       " 'remuneration',\n",
       " 'spending_score',\n",
       " 'education_encoded',\n",
       " 'gender_Male',\n",
       " 'product_123',\n",
       " 'product_195',\n",
       " 'product_231',\n",
       " 'product_249',\n",
       " 'product_254',\n",
       " 'product_263',\n",
       " 'product_283',\n",
       " 'product_291',\n",
       " 'product_326',\n",
       " 'product_399',\n",
       " 'product_405',\n",
       " 'product_453',\n",
       " 'product_466',\n",
       " 'product_486',\n",
       " 'product_504',\n",
       " 'product_515',\n",
       " 'product_518',\n",
       " 'product_535',\n",
       " 'product_577',\n",
       " 'product_615',\n",
       " 'product_618',\n",
       " 'product_624',\n",
       " 'product_629',\n",
       " 'product_760',\n",
       " 'product_811',\n",
       " 'product_815',\n",
       " 'product_830',\n",
       " 'product_876',\n",
       " 'product_930',\n",
       " 'product_948',\n",
       " 'product_977',\n",
       " 'product_978',\n",
       " 'product_979',\n",
       " 'product_999',\n",
       " 'product_1012',\n",
       " 'product_1031',\n",
       " 'product_1175',\n",
       " 'product_1183',\n",
       " 'product_1212',\n",
       " 'product_1241',\n",
       " 'product_1307',\n",
       " 'product_1459',\n",
       " 'product_1463',\n",
       " 'product_1473',\n",
       " 'product_1497',\n",
       " 'product_1501',\n",
       " 'product_1506',\n",
       " 'product_1577',\n",
       " 'product_1581',\n",
       " 'product_1592',\n",
       " 'product_1618',\n",
       " 'product_1940',\n",
       " 'product_1945',\n",
       " 'product_1970',\n",
       " 'product_2079',\n",
       " 'product_2114',\n",
       " 'product_2130',\n",
       " 'product_2139',\n",
       " 'product_2162',\n",
       " 'product_2173',\n",
       " 'product_2253',\n",
       " 'product_2261',\n",
       " 'product_2285',\n",
       " 'product_2286',\n",
       " 'product_2296',\n",
       " 'product_2324',\n",
       " 'product_2326',\n",
       " 'product_2371',\n",
       " 'product_2387',\n",
       " 'product_2404',\n",
       " 'product_2457',\n",
       " 'product_2495',\n",
       " 'product_2518',\n",
       " 'product_2521',\n",
       " 'product_2793',\n",
       " 'product_2795',\n",
       " 'product_2807',\n",
       " 'product_2811',\n",
       " 'product_2814',\n",
       " 'product_2829',\n",
       " 'product_2849',\n",
       " 'product_2870',\n",
       " 'product_2874',\n",
       " 'product_2877',\n",
       " 'product_3112',\n",
       " 'product_3153',\n",
       " 'product_3158',\n",
       " 'product_3165',\n",
       " 'product_3267',\n",
       " 'product_3277',\n",
       " 'product_3403',\n",
       " 'product_3427',\n",
       " 'product_3436',\n",
       " 'product_3478',\n",
       " 'product_3498',\n",
       " 'product_3524',\n",
       " 'product_3525',\n",
       " 'product_3547',\n",
       " 'product_3619',\n",
       " 'product_3629',\n",
       " 'product_3645',\n",
       " 'product_3657',\n",
       " 'product_3667',\n",
       " 'product_3678',\n",
       " 'product_3711',\n",
       " 'product_3865',\n",
       " 'product_3878',\n",
       " 'product_3885',\n",
       " 'product_3887',\n",
       " 'product_3896',\n",
       " 'product_3955',\n",
       " 'product_3967',\n",
       " 'product_4047',\n",
       " 'product_4065',\n",
       " 'product_4390',\n",
       " 'product_4399',\n",
       " 'product_4405',\n",
       " 'product_4415',\n",
       " 'product_4452',\n",
       " 'product_4459',\n",
       " 'product_4470',\n",
       " 'product_4477',\n",
       " 'product_4491',\n",
       " 'product_4619',\n",
       " 'product_4673',\n",
       " 'product_4692',\n",
       " 'product_4702',\n",
       " 'product_4712',\n",
       " 'product_5429',\n",
       " 'product_5430',\n",
       " 'product_5453',\n",
       " 'product_5493',\n",
       " 'product_5510',\n",
       " 'product_5512',\n",
       " 'product_5726',\n",
       " 'product_5740',\n",
       " 'product_5758',\n",
       " 'product_6215',\n",
       " 'product_6233',\n",
       " 'product_6271',\n",
       " 'product_6287',\n",
       " 'product_6310',\n",
       " 'product_6424',\n",
       " 'product_6431',\n",
       " 'product_6466',\n",
       " 'product_6471',\n",
       " 'product_6504',\n",
       " 'product_6507',\n",
       " 'product_6646',\n",
       " 'product_6678',\n",
       " 'product_6694',\n",
       " 'product_6715',\n",
       " 'product_6720',\n",
       " 'product_6721',\n",
       " 'product_6770',\n",
       " 'product_6815',\n",
       " 'product_7042',\n",
       " 'product_7101',\n",
       " 'product_7141',\n",
       " 'product_7143',\n",
       " 'product_7373',\n",
       " 'product_7381',\n",
       " 'product_7384',\n",
       " 'product_7532',\n",
       " 'product_7533',\n",
       " 'product_7573',\n",
       " 'product_7600',\n",
       " 'product_8235',\n",
       " 'product_8275',\n",
       " 'product_8923',\n",
       " 'product_8933',\n",
       " 'product_8962',\n",
       " 'product_9064',\n",
       " 'product_9080',\n",
       " 'product_9119',\n",
       " 'product_9150',\n",
       " 'product_9507',\n",
       " 'product_9529',\n",
       " 'product_9530',\n",
       " 'product_9560',\n",
       " 'product_9595',\n",
       " 'product_9596',\n",
       " 'product_9597',\n",
       " 'product_9612',\n",
       " 'product_9635',\n",
       " 'product_9875',\n",
       " 'product_10196',\n",
       " 'product_10232',\n",
       " 'product_10240',\n",
       " 'product_10241',\n",
       " 'product_10270',\n",
       " 'product_10281',\n",
       " 'product_10995',\n",
       " 'product_11003',\n",
       " 'product_11004',\n",
       " 'product_11025',\n",
       " 'product_11056',\n",
       " 'product_11084',\n",
       " 'product_11086']"
      ]
     },
     "execution_count": 77,
     "metadata": {},
     "output_type": "execute_result"
    }
   ],
   "source": [
    "# Create the list of feature variables\n",
    "feature_cols = [c for c in X.columns]\n",
    "feature_cols"
   ]
  },
  {
   "cell_type": "markdown",
   "id": "da753934-1196-44e4-a224-4fc1ca9c0769",
   "metadata": {},
   "source": [
    "### Observation\n",
    "there are a lot of features"
   ]
  },
  {
   "cell_type": "markdown",
   "id": "65b4e665-3aa8-4d8a-8c37-b49aebcc6503",
   "metadata": {
    "jp-MarkdownHeadingCollapsed": true
   },
   "source": [
    "## 2. Create train and test data sets."
   ]
  },
  {
   "cell_type": "code",
   "execution_count": 80,
   "id": "b3ac674c-046e-4754-bcaa-0ac7c5e7ad5d",
   "metadata": {},
   "outputs": [],
   "source": [
    "# Split the data into 20% test and 80% train data.\n",
    "X_train, X_test, y_train, y_test = train_test_split(X, y,\n",
    "                                                    test_size=0.2,\n",
    "                                                    random_state=42)"
   ]
  },
  {
   "cell_type": "markdown",
   "id": "5d74e536-fe23-4141-b9da-23d14f7e516b",
   "metadata": {
    "jp-MarkdownHeadingCollapsed": true
   },
   "source": [
    "## 3. Create Decision tree regressor"
   ]
  },
  {
   "cell_type": "code",
   "execution_count": 82,
   "id": "baaebf81-cecc-4a98-92f6-604ce6b2f9c1",
   "metadata": {},
   "outputs": [],
   "source": [
    "# Create your decision tree regressor.\n",
    "dtr = DecisionTreeRegressor(random_state=42)\n",
    "\n",
    "# Train Decision Tree Regressor\n",
    "dtr.fit(X_train, y_train)\n",
    "\n",
    "# Predict loyalty_points on test data.\n",
    "y_pred = dtr.predict(X_test)\n",
    "\n",
    "# Predict loyalty_points on test data for evaluation.\n",
    "y_pred_train = dtr.predict(X_train)"
   ]
  },
  {
   "cell_type": "code",
   "execution_count": 83,
   "id": "39c38215-3c31-40b4-8b1a-6a8625fc7fca",
   "metadata": {},
   "outputs": [
    {
     "data": {
      "text/plain": [
       "(400,)"
      ]
     },
     "execution_count": 83,
     "metadata": {},
     "output_type": "execute_result"
    }
   ],
   "source": [
    "y_pred.shape"
   ]
  },
  {
   "cell_type": "markdown",
   "id": "3324f4f0-ade2-4d71-8c64-365ea373285b",
   "metadata": {
    "jp-MarkdownHeadingCollapsed": true
   },
   "source": [
    "### 3.1 Evaluate the model by testing accuracy"
   ]
  },
  {
   "cell_type": "code",
   "execution_count": 85,
   "id": "588c2c59-715d-409b-a1b4-5edf7e548636",
   "metadata": {},
   "outputs": [
    {
     "name": "stdout",
     "output_type": "stream",
     "text": [
      "Mean Squared Error: 13225.5\n",
      "Mean Absolute Error: 29.37\n",
      "R-squared: 0.9918445313492855\n",
      "R-squared in train set: 1.0\n",
      "Root Mean Squared Error: 115.00217389249649\n"
     ]
    }
   ],
   "source": [
    "#Evaluate the model\n",
    "mse = mean_squared_error(y_test, y_pred)\n",
    "mae = mean_absolute_error(y_test, y_pred)\n",
    "rmse = mean_squared_error(y_test, y_pred, squared=False)\n",
    "r2 = r2_score(y_test, y_pred)\n",
    "\n",
    "# For R2 evaluation purposes\n",
    "r2_train = r2_score(y_train, y_pred_train)\n",
    "\n",
    "print(f\"Mean Squared Error: {mse}\")\n",
    "print(f\"Mean Absolute Error: {mae}\")\n",
    "print(f\"R-squared: {r2}\")\n",
    "print(f\"R-squared in train set: {r2_train}\")\n",
    "print(f\"Root Mean Squared Error: {rmse}\")"
   ]
  },
  {
   "cell_type": "markdown",
   "id": "39eff539-757c-4651-8e8c-3bdfdf03669f",
   "metadata": {},
   "source": [
    "### Observations\n",
    "The **error metrics** indicate that there is some difference between predicted and actual values, though it's not overly large. Given that mean of loyalty_points is 1578.03 the model, on average, is off by about 115 points (RMSE) when making predictions. ~7% of the average loyalty_points\n",
    "\n",
    "An R2 value of 0.991 means that about 99.1% of the variance in loyalty_points is explained by the model, and given that R2 is similarly high in both test & train sets with low error values most likely model generalizes well."
   ]
  },
  {
   "cell_type": "markdown",
   "id": "aba1c74f-e5d5-4ef8-ac6f-c06333088f73",
   "metadata": {},
   "source": [
    "### 3.2. Prune the model to various depths and fit for comparison.\n",
    "* train/fit decition tree again\n",
    "* predict loyalty_points\n",
    "* evaluate the acuracy of the model."
   ]
  },
  {
   "cell_type": "code",
   "execution_count": 88,
   "id": "c7b62cdb-8ade-4860-9a35-5f588ab04ca8",
   "metadata": {},
   "outputs": [
    {
     "name": "stdout",
     "output_type": "stream",
     "text": [
      "The depth of the initial decision tree is: 24\n"
     ]
    }
   ],
   "source": [
    "# Get the depth of the decision tree.\n",
    "initial_tree_depth = dtr.get_depth()\n",
    "print(f\"The depth of the initial decision tree is: {initial_tree_depth}\")"
   ]
  },
  {
   "cell_type": "markdown",
   "id": "746daf09-da54-441b-ab64-e7269f1a76cd",
   "metadata": {
    "jp-MarkdownHeadingCollapsed": true
   },
   "source": [
    "#### 3.2.1 max_depth=5"
   ]
  },
  {
   "cell_type": "code",
   "execution_count": 90,
   "id": "60f25d46-a8d8-4423-8548-4b1a5787d802",
   "metadata": {},
   "outputs": [],
   "source": [
    "# Prune the model max_depth=5\n",
    "dtr_5 = DecisionTreeRegressor(max_depth=5, random_state=42)"
   ]
  },
  {
   "cell_type": "code",
   "execution_count": 91,
   "id": "d7c71fa7-6d4b-47b4-8d8f-c1bf9fbccac0",
   "metadata": {},
   "outputs": [
    {
     "name": "stdout",
     "output_type": "stream",
     "text": [
      "Pruned to Depth of 5 Model Mean Squared Error: 77490.46114717465\n",
      "Pruned to Depth of 5 Model Mean Absolute Error: 187.4280299176245\n",
      "Pruned to Depth of 5 Model R-squared: 0.9522157176201133\n",
      "Pruned to Depth of 5 Root Mean Squared Error: 278.37108532887294\n"
     ]
    }
   ],
   "source": [
    "#Train Decision Tree Regressor\n",
    "dtr_5.fit(X_train, y_train)\n",
    "\n",
    "#Predict loyalty_points on test data\n",
    "y_pred_pruned = dtr_5.predict(X_test)\n",
    "\n",
    "#Evaluate the pruned model\n",
    "mse_pruned = mean_squared_error(y_test, y_pred_pruned)\n",
    "mae_pruned = mean_absolute_error(y_test, y_pred_pruned)\n",
    "rmse_pruned = mean_squared_error(y_test, y_pred_pruned, squared=False)\n",
    "r2_pruned = r2_score(y_test, y_pred_pruned)\n",
    "\n",
    "print(f\"Pruned to Depth of 5 Model Mean Squared Error: {mse_pruned}\")\n",
    "print(f\"Pruned to Depth of 5 Model Mean Absolute Error: {mae_pruned}\")\n",
    "print(f\"Pruned to Depth of 5 Model R-squared: {r2_pruned}\")\n",
    "print(f\"Pruned to Depth of 5 Root Mean Squared Error: {rmse_pruned}\")"
   ]
  },
  {
   "cell_type": "markdown",
   "id": "1a6cfefc-0b8f-4c12-b33b-ea7a3ae10724",
   "metadata": {},
   "source": [
    "#### Observations to pruned model to deapth of 5\n",
    "The error metrics went up significantly, hence pruned to max-depth of 5 model makes larger prediction errors. Given that mean of loyalty_points is 1578.03 the model, on average, is off by about 278 points (RMSE) when making predictions. ~18% of the average loyalty_points\n",
    "\n",
    "An R2 value of 0.952 means that about 95% of the variance in loyalty_points is explained by the model, which is still high & may still suggests overfitting.\n",
    "\n",
    "Although model has higher errors, the pruned model is likely to perform better on unseen data because it has less complexity, reducing overfitting."
   ]
  },
  {
   "cell_type": "markdown",
   "id": "a69dc1f6-775d-487a-aed7-8d32f4ad957f",
   "metadata": {
    "jp-MarkdownHeadingCollapsed": true
   },
   "source": [
    "#### 3.2.2 max_depth=8"
   ]
  },
  {
   "cell_type": "code",
   "execution_count": 94,
   "id": "641b3be2-a2a3-4ef0-aa5f-e46de908b114",
   "metadata": {},
   "outputs": [],
   "source": [
    "# Prune the model max_depth=8\n",
    "dtr_8 = DecisionTreeRegressor(max_depth=8, random_state=42)"
   ]
  },
  {
   "cell_type": "code",
   "execution_count": 95,
   "id": "74391e6a-b802-49d2-9b71-152496ba1944",
   "metadata": {},
   "outputs": [
    {
     "name": "stdout",
     "output_type": "stream",
     "text": [
      "Pruned to Depth of 8 Model Mean Squared Error: 21305.887149254708\n",
      "Pruned to Depth of 8 Model Mean Absolute Error: 87.31836327801895\n",
      "Pruned to Depth of 8 Model R-squared: 0.9868617825623676\n",
      "Pruned to Depth of 8 Root Mean Squared Error: 145.96536284082848\n"
     ]
    }
   ],
   "source": [
    "#Train Decision Tree Regressor\n",
    "dtr_8.fit(X_train, y_train)\n",
    "\n",
    "#Predict loyalty_points on test data\n",
    "y_pred_pruned = dtr_8.predict(X_test)\n",
    "\n",
    "#Evaluate the pruned model\n",
    "mse_pruned = mean_squared_error(y_test, y_pred_pruned)\n",
    "mae_pruned = mean_absolute_error(y_test, y_pred_pruned)\n",
    "rmse_pruned = mean_squared_error(y_test, y_pred_pruned, squared=False)\n",
    "r2_pruned = r2_score(y_test, y_pred_pruned)\n",
    "\n",
    "print(f\"Pruned to Depth of 8 Model Mean Squared Error: {mse_pruned}\")\n",
    "print(f\"Pruned to Depth of 8 Model Mean Absolute Error: {mae_pruned}\")\n",
    "print(f\"Pruned to Depth of 8 Model R-squared: {r2_pruned}\")\n",
    "print(f\"Pruned to Depth of 8 Root Mean Squared Error: {rmse_pruned}\")"
   ]
  },
  {
   "cell_type": "markdown",
   "id": "d87f24c2-605b-4983-a14a-6183a02db9f6",
   "metadata": {},
   "source": [
    "#### Observations to pruned model to depth of 8\n",
    "\n",
    "The error metrics went up significantly, pruned to max-depth of 8 model makes larger prediction errors then unpruned, but smaller then one pruned to max_depth of 5. Given that mean of loyalty_points is 1578.03 the model, on average, is off by about 145 points (RMSE) when making predictions. ~9% of the average loyalty_points\n",
    "\n",
    "An R2 value of 0.986 means that about 99% of the variance in loyalty_points is explained by the model, which is high & may suggests overfitting.\n",
    "\n",
    "Although model has higher errors, the pruned model is likely to perform better on unseen data because it has less complexity, reducing overfitting."
   ]
  },
  {
   "cell_type": "markdown",
   "id": "f9d3f041-e271-477d-99cb-a0ff26e8b348",
   "metadata": {
    "jp-MarkdownHeadingCollapsed": true
   },
   "source": [
    "#### 3.2.3 max_depth=3"
   ]
  },
  {
   "cell_type": "code",
   "execution_count": 98,
   "id": "8a9ce103-3928-4e18-a1fc-5cb2539bd2ce",
   "metadata": {},
   "outputs": [],
   "source": [
    "# Prune the model max_depth=3\n",
    "dtr_3 = DecisionTreeRegressor(max_depth=3, random_state=42)"
   ]
  },
  {
   "cell_type": "code",
   "execution_count": 99,
   "id": "ee872d0c-18d8-4959-bbb2-20bc5e8c53f4",
   "metadata": {},
   "outputs": [
    {
     "name": "stdout",
     "output_type": "stream",
     "text": [
      "Pruned to Depth of 3 Model Mean Squared Error: 141276.38891623393\n",
      "Pruned to Depth of 3 Model Mean Absolute Error: 271.8726068995849\n",
      "Pruned to Depth of 3 Model R-squared: 0.9128822985223626\n",
      "Pruned to Depth of 3 Root Mean Squared Error: 375.86751511168654\n"
     ]
    }
   ],
   "source": [
    "#Train Decision Tree Regressor\n",
    "dtr_3.fit(X_train, y_train)\n",
    "\n",
    "#Predict loyalty_points on test data\n",
    "y_pred_pruned = dtr_3.predict(X_test)\n",
    "\n",
    "#Evaluate the pruned model\n",
    "mse_pruned = mean_squared_error(y_test, y_pred_pruned)\n",
    "mae_pruned = mean_absolute_error(y_test, y_pred_pruned)\n",
    "rmse_pruned = mean_squared_error(y_test, y_pred_pruned, squared=False)\n",
    "r2_pruned = r2_score(y_test, y_pred_pruned)\n",
    "\n",
    "print(f\"Pruned to Depth of 3 Model Mean Squared Error: {mse_pruned}\")\n",
    "print(f\"Pruned to Depth of 3 Model Mean Absolute Error: {mae_pruned}\")\n",
    "print(f\"Pruned to Depth of 3 Model R-squared: {r2_pruned}\")\n",
    "print(f\"Pruned to Depth of 3 Root Mean Squared Error: {rmse_pruned}\")"
   ]
  },
  {
   "cell_type": "markdown",
   "id": "2ced1988-8037-4285-b9d5-9073a4bf1e62",
   "metadata": {},
   "source": [
    "#### Observations for pruned model to depth of 3\n",
    "\n",
    "The error metrics went up significantly, hence pruned to max-depth of 3 model makes largest prediction errors then all other models one Given that mean of loyalty_points is 1578.03 the model, on average, is off by about 376 points (RMSE) when making predictions. ~24% of the average loyalty_points\n",
    "\n",
    "This model is least complexed out of four an R2 value of 0.912 means that about 91% of the variance in loyalty_points is explained by the model, which is still high & may suggests overfitting.\n",
    "\n",
    "Although model has higher errors, the pruned model is likely to perform better on unseen data because it has less complexity, reducing overfitting."
   ]
  },
  {
   "cell_type": "markdown",
   "id": "f6e9adbf-b07e-45ab-85a9-463728dbbed1",
   "metadata": {
    "jp-MarkdownHeadingCollapsed": true
   },
   "source": [
    "#### 3.2.4 max_depth=12 (half of the initial tree depth)"
   ]
  },
  {
   "cell_type": "code",
   "execution_count": 102,
   "id": "e90edbf3-1177-4b32-8f91-b7495f05b274",
   "metadata": {},
   "outputs": [],
   "source": [
    "# Prune the model max_depth=12\n",
    "dtr_12 = DecisionTreeRegressor(max_depth=12, random_state=42)"
   ]
  },
  {
   "cell_type": "code",
   "execution_count": 103,
   "id": "1851e2e4-1bc2-46ec-bb5e-565072768b80",
   "metadata": {},
   "outputs": [
    {
     "name": "stdout",
     "output_type": "stream",
     "text": [
      "Pruned to Depth of 12 Model Mean Squared Error: 15313.656478190323\n",
      "Pruned to Depth of 12 Model Mean Absolute Error: 44.29032040665939\n",
      "Pruned to Depth of 12 Model R-squared: 0.9905568753290468\n",
      "Pruned to Depth of 12 Root Mean Squared Error: 123.74835949696595\n"
     ]
    }
   ],
   "source": [
    "#Train Decision Tree Regressor\n",
    "dtr_12.fit(X_train, y_train)\n",
    "\n",
    "#Predict loyalty_points on test data\n",
    "y_pred_pruned = dtr_12.predict(X_test)\n",
    "\n",
    "#Evaluate the pruned model\n",
    "mse_pruned = mean_squared_error(y_test, y_pred_pruned)\n",
    "mae_pruned = mean_absolute_error(y_test, y_pred_pruned)\n",
    "rmse_pruned = mean_squared_error(y_test, y_pred_pruned, squared=False)\n",
    "r2_pruned = r2_score(y_test, y_pred_pruned)\n",
    "\n",
    "print(f\"Pruned to Depth of 12 Model Mean Squared Error: {mse_pruned}\")\n",
    "print(f\"Pruned to Depth of 12 Model Mean Absolute Error: {mae_pruned}\")\n",
    "print(f\"Pruned to Depth of 12 Model R-squared: {r2_pruned}\")\n",
    "print(f\"Pruned to Depth of 12 Root Mean Squared Error: {rmse_pruned}\")"
   ]
  },
  {
   "cell_type": "markdown",
   "id": "4c66bdb4-f048-4dd4-b9e7-cf432fbc1c6c",
   "metadata": {
    "jp-MarkdownHeadingCollapsed": true
   },
   "source": [
    "#### Observations for pruned model to depth of 12(half of the initial tree depth)\n",
    "\n",
    "This has a good balance between model complexity and performance, with an R2 of 0.9906, and it achieves the best RMSE (123.75) after unpruned model. The MAE is also quite low (44.29)."
   ]
  },
  {
   "cell_type": "markdown",
   "id": "0a30855e-e3df-4639-bf9c-19389a4d475d",
   "metadata": {
    "jp-MarkdownHeadingCollapsed": true
   },
   "source": [
    "### Observation for all pruned vs unpruned\n",
    "* Unpruned Model best fits (R2 = 0.99596) but is likely overfitting (good on training data but may perform poorly on unseen data).\n",
    "* Pruned Depth = 12 offering the best trade-off between complexity and performance,although slightly worse than the unpruned model, it avoids overfitting and generalizes well.\n",
    "* Pruned Depth = 8 has good balance between bias and variance, providing a strong fit with moderate errors. Likely generalizes well.\n",
    "* Pruned Depth = 5 has Moderate performance, with larger errors and a slightly worse fit than Depth = 8.\n",
    "* Pruned Depth = 3 is clearly underfitting, with high error metrics and a low R2. This model is too simple to capture enough of the data's patterns.\n",
    "\n",
    "**For best performance on training data** and minimal error, the unpruned model is superior.\n",
    "**For generalization and better handling of overfitting**, the model pruned to a depth of 12, provides good accuracy with reduced complexity."
   ]
  },
  {
   "cell_type": "markdown",
   "id": "60156044-18d3-4761-b2f6-5505acc0a2ab",
   "metadata": {},
   "source": [
    "### 3.3. Evaluate the importance of features in the model pruned to depth 12 (dtr_12) and the unpruned one (dtr)\n",
    "perhaps there can be less complexed model with good accuracy"
   ]
  },
  {
   "cell_type": "markdown",
   "id": "f3dd2ddf-e393-4001-ad31-e6ffd0fd07c1",
   "metadata": {
    "jp-MarkdownHeadingCollapsed": true
   },
   "source": [
    "#### 3.3.1 the model pruned to depth 12 (dtr_12)"
   ]
  },
  {
   "cell_type": "code",
   "execution_count": 108,
   "id": "56aee4ce-9fda-4590-96b4-768a68672d55",
   "metadata": {},
   "outputs": [
    {
     "data": {
      "text/html": [
       "<div>\n",
       "<style scoped>\n",
       "    .dataframe tbody tr th:only-of-type {\n",
       "        vertical-align: middle;\n",
       "    }\n",
       "\n",
       "    .dataframe tbody tr th {\n",
       "        vertical-align: top;\n",
       "    }\n",
       "\n",
       "    .dataframe thead th {\n",
       "        text-align: right;\n",
       "    }\n",
       "</style>\n",
       "<table border=\"1\" class=\"dataframe\">\n",
       "  <thead>\n",
       "    <tr style=\"text-align: right;\">\n",
       "      <th></th>\n",
       "      <th>Feature</th>\n",
       "      <th>Importance</th>\n",
       "    </tr>\n",
       "  </thead>\n",
       "  <tbody>\n",
       "    <tr>\n",
       "      <th>1</th>\n",
       "      <td>remuneration</td>\n",
       "      <td>0.501676</td>\n",
       "    </tr>\n",
       "    <tr>\n",
       "      <th>2</th>\n",
       "      <td>spending_score</td>\n",
       "      <td>0.482837</td>\n",
       "    </tr>\n",
       "    <tr>\n",
       "      <th>0</th>\n",
       "      <td>age</td>\n",
       "      <td>0.013698</td>\n",
       "    </tr>\n",
       "    <tr>\n",
       "      <th>3</th>\n",
       "      <td>education_encoded</td>\n",
       "      <td>0.000504</td>\n",
       "    </tr>\n",
       "    <tr>\n",
       "      <th>157</th>\n",
       "      <td>product_6720</td>\n",
       "      <td>0.000341</td>\n",
       "    </tr>\n",
       "    <tr>\n",
       "      <th>4</th>\n",
       "      <td>gender_Male</td>\n",
       "      <td>0.000331</td>\n",
       "    </tr>\n",
       "    <tr>\n",
       "      <th>98</th>\n",
       "      <td>product_3478</td>\n",
       "      <td>0.000217</td>\n",
       "    </tr>\n",
       "    <tr>\n",
       "      <th>85</th>\n",
       "      <td>product_2849</td>\n",
       "      <td>0.000077</td>\n",
       "    </tr>\n",
       "    <tr>\n",
       "      <th>133</th>\n",
       "      <td>product_5429</td>\n",
       "      <td>0.000051</td>\n",
       "    </tr>\n",
       "    <tr>\n",
       "      <th>36</th>\n",
       "      <td>product_978</td>\n",
       "      <td>0.000036</td>\n",
       "    </tr>\n",
       "  </tbody>\n",
       "</table>\n",
       "</div>"
      ],
      "text/plain": [
       "               Feature  Importance\n",
       "1         remuneration    0.501676\n",
       "2       spending_score    0.482837\n",
       "0                  age    0.013698\n",
       "3    education_encoded    0.000504\n",
       "157       product_6720    0.000341\n",
       "4          gender_Male    0.000331\n",
       "98        product_3478    0.000217\n",
       "85        product_2849    0.000077\n",
       "133       product_5429    0.000051\n",
       "36         product_978    0.000036"
      ]
     },
     "execution_count": 108,
     "metadata": {},
     "output_type": "execute_result"
    }
   ],
   "source": [
    "#Extract feature importances\n",
    "feature_importances_12 = dtr_12.feature_importances_\n",
    "\n",
    "#Create a DataFrame to display feature importances\n",
    "feature_importance_df4 = pd.DataFrame({'Feature': feature_cols, 'Importance': feature_importances_12})\n",
    "feature_importance_df4 = feature_importance_df4.sort_values(by='Importance', ascending=False)\n",
    "\n",
    "feature_importance_df4.head(10)"
   ]
  },
  {
   "cell_type": "markdown",
   "id": "38cd7b87-e90c-4041-b498-5218331c9e25",
   "metadata": {
    "jp-MarkdownHeadingCollapsed": true
   },
   "source": [
    "#### 3.3.2 The unpruned (dtr)"
   ]
  },
  {
   "cell_type": "code",
   "execution_count": 110,
   "id": "e23465c7-569f-4e16-b05d-59dd29719c9b",
   "metadata": {},
   "outputs": [
    {
     "data": {
      "text/html": [
       "<div>\n",
       "<style scoped>\n",
       "    .dataframe tbody tr th:only-of-type {\n",
       "        vertical-align: middle;\n",
       "    }\n",
       "\n",
       "    .dataframe tbody tr th {\n",
       "        vertical-align: top;\n",
       "    }\n",
       "\n",
       "    .dataframe thead th {\n",
       "        text-align: right;\n",
       "    }\n",
       "</style>\n",
       "<table border=\"1\" class=\"dataframe\">\n",
       "  <thead>\n",
       "    <tr style=\"text-align: right;\">\n",
       "      <th></th>\n",
       "      <th>Feature</th>\n",
       "      <th>Importance</th>\n",
       "    </tr>\n",
       "  </thead>\n",
       "  <tbody>\n",
       "    <tr>\n",
       "      <th>1</th>\n",
       "      <td>remuneration</td>\n",
       "      <td>0.500662</td>\n",
       "    </tr>\n",
       "    <tr>\n",
       "      <th>2</th>\n",
       "      <td>spending_score</td>\n",
       "      <td>0.483518</td>\n",
       "    </tr>\n",
       "    <tr>\n",
       "      <th>0</th>\n",
       "      <td>age</td>\n",
       "      <td>0.013565</td>\n",
       "    </tr>\n",
       "    <tr>\n",
       "      <th>3</th>\n",
       "      <td>education_encoded</td>\n",
       "      <td>0.000579</td>\n",
       "    </tr>\n",
       "    <tr>\n",
       "      <th>4</th>\n",
       "      <td>gender_Male</td>\n",
       "      <td>0.000460</td>\n",
       "    </tr>\n",
       "    <tr>\n",
       "      <th>157</th>\n",
       "      <td>product_6720</td>\n",
       "      <td>0.000341</td>\n",
       "    </tr>\n",
       "    <tr>\n",
       "      <th>98</th>\n",
       "      <td>product_3478</td>\n",
       "      <td>0.000217</td>\n",
       "    </tr>\n",
       "    <tr>\n",
       "      <th>196</th>\n",
       "      <td>product_10281</td>\n",
       "      <td>0.000082</td>\n",
       "    </tr>\n",
       "    <tr>\n",
       "      <th>125</th>\n",
       "      <td>product_4470</td>\n",
       "      <td>0.000063</td>\n",
       "    </tr>\n",
       "    <tr>\n",
       "      <th>192</th>\n",
       "      <td>product_10232</td>\n",
       "      <td>0.000060</td>\n",
       "    </tr>\n",
       "  </tbody>\n",
       "</table>\n",
       "</div>"
      ],
      "text/plain": [
       "               Feature  Importance\n",
       "1         remuneration    0.500662\n",
       "2       spending_score    0.483518\n",
       "0                  age    0.013565\n",
       "3    education_encoded    0.000579\n",
       "4          gender_Male    0.000460\n",
       "157       product_6720    0.000341\n",
       "98        product_3478    0.000217\n",
       "196      product_10281    0.000082\n",
       "125       product_4470    0.000063\n",
       "192      product_10232    0.000060"
      ]
     },
     "execution_count": 110,
     "metadata": {},
     "output_type": "execute_result"
    }
   ],
   "source": [
    "#Extract feature importances\n",
    "feature_importances_unpruned = dtr.feature_importances_\n",
    "\n",
    "#Create a DataFrame to display feature importances\n",
    "feature_importance_df4 = pd.DataFrame({'Feature': feature_cols, 'Importance': feature_importances_unpruned})\n",
    "feature_importance_df4 = feature_importance_df4.sort_values(by='Importance', ascending=False)\n",
    "\n",
    "feature_importance_df4.head(10)"
   ]
  },
  {
   "cell_type": "markdown",
   "id": "1e77a716-9655-415b-ae62-24738a90e2a6",
   "metadata": {},
   "source": [
    "### Observation\n",
    "the same features - remuneration, spending_score - have significant importance (~50%) in both models, age is the third only slightly contributing feature barely crossing 0.01 treashold. Every other feature falls way behind(0.000). "
   ]
  },
  {
   "cell_type": "markdown",
   "id": "8a2d3d8e-3ee4-4f9e-bd2c-13c7243578c0",
   "metadata": {
    "jp-MarkdownHeadingCollapsed": true
   },
   "source": [
    "### 3.4 Retrain and refit decision tree regresor to data frame with significant features only\n",
    "in hope of a more efficient, interpretable, and less overfitted model."
   ]
  },
  {
   "cell_type": "code",
   "execution_count": 113,
   "id": "af916cee-d188-4b86-8d15-ddb6dbbe8b94",
   "metadata": {},
   "outputs": [],
   "source": [
    "# Check the types of columns in dataframe feature_importance_df4.\n",
    "#print(feature_importance_df4.dtypes)\n",
    "\n",
    "# Check if there are any non-numeric values\n",
    "#print(feature_importance_df4.head())"
   ]
  },
  {
   "cell_type": "code",
   "execution_count": 114,
   "id": "16e48aa3-bd9d-477e-afb3-e0a0269dc158",
   "metadata": {},
   "outputs": [],
   "source": [
    "#Set 1% threshold for feature importance\n",
    "threshold = 0.01\n",
    "\n",
    "# Find the features where the importance is greater than the threshold.\n",
    "important_features_1perc = feature_importance_df4[feature_importance_df4['Importance'] > threshold]\n",
    "\n",
    "# Extract the names of the important features.\n",
    "important_feature_names = important_features_1perc['Feature'].values\n",
    "\n",
    "# Filter the X_train and X_test dataframes to include only the important features\n",
    "X_train_impt_feat = X_train[important_feature_names]\n",
    "X_test_impt_feat = X_test[important_feature_names]"
   ]
  },
  {
   "cell_type": "code",
   "execution_count": 115,
   "id": "1b39e1c1-5a3e-42cd-924e-32fecd651193",
   "metadata": {},
   "outputs": [],
   "source": [
    "# Creat decission tree regressor to the train set with selected features only\n",
    "dtr_impt_feat = DecisionTreeRegressor(random_state=42)\n",
    "\n",
    "# Train Decision Tree Regressor\n",
    "dtr_impt_feat.fit(X_train_impt_feat, y_train)\n",
    "\n",
    "# Predict loyalty_points on test data\n",
    "y_pred_impt_feat = dtr_impt_feat.predict(X_test_impt_feat)\n",
    "\n",
    "# For R2 evaluation purposes\n",
    "y_pred_impt_feat_train = dtr_impt_feat.predict(X_train_impt_feat)"
   ]
  },
  {
   "cell_type": "code",
   "execution_count": 116,
   "id": "735503bc-5805-4202-887d-4f9f790f07c2",
   "metadata": {},
   "outputs": [
    {
     "name": "stdout",
     "output_type": "stream",
     "text": [
      "Mean Squared Error with importance of feature >1%: 3940.615\n",
      "Mean Absolute Error with importance of feature >1%: 22.145\n",
      "R-squared with importance of feature >1%: 0.9975700304641008\n",
      "R-squared with importance of feature in train set >1%: 1.0\n",
      "Root Mean Squared Error with importance of feature >1%: 62.77431799709177\n"
     ]
    }
   ],
   "source": [
    "#Evaluate the model accuracy with importance of feature >1%\n",
    "mse = mean_squared_error(y_test, y_pred_impt_feat)\n",
    "mae = mean_absolute_error(y_test, y_pred_impt_feat)\n",
    "rmse = mean_squared_error(y_test, y_pred_impt_feat, squared=False)\n",
    "r2 = r2_score(y_test, y_pred_impt_feat)\n",
    "\n",
    "# For R2 evaluation purposes\n",
    "r2_train = r2_score(y_train, y_pred_impt_feat_train)\n",
    "\n",
    "print(f\"Mean Squared Error with importance of feature >1%: {mse}\")\n",
    "print(f\"Mean Absolute Error with importance of feature >1%: {mae}\")\n",
    "print(f\"R-squared with importance of feature >1%: {r2}\")\n",
    "print(f\"R-squared with importance of feature in train set >1%: {r2_train}\") # For R2 evaluation purposes\n",
    "print(f\"Root Mean Squared Error with importance of feature >1%: {rmse}\")"
   ]
  },
  {
   "cell_type": "markdown",
   "id": "2a7caf6f-899e-4a65-a9be-077acb16c5a3",
   "metadata": {},
   "source": [
    "## Observation:\n",
    "compaired to initial model dtr, model where only three signifficant features (>1%) where used is making less sq. errors since MSE is lower, suggesting it might be better at generalizing/more efficient. Lower MAE and RMSE in the feature ajusted model also suggests the predictions are closer to the true values. Very high R2 in training as well as testing sets of feature ajusted model together with relatively low error measures suggest even better fit. \n",
    "\n",
    "Reducing the number of features to the most important ones has led to better model performance. With fewer features it appears to be more efficient and seems to generalize better as well as make more accurate predictions."
   ]
  },
  {
   "cell_type": "markdown",
   "id": "331a9be3-33fa-4322-9a3f-92298a036bd7",
   "metadata": {
    "jp-MarkdownHeadingCollapsed": true
   },
   "source": [
    "## 4. Plot final model.\n",
    "in light of of the above, will plot model ajusted to specific the most significant features and will prune it to observed optimal depth of half of the unpruned model's depth."
   ]
  },
  {
   "cell_type": "markdown",
   "id": "a1807a59-0541-4bae-8302-89a98fa87ff2",
   "metadata": {
    "jp-MarkdownHeadingCollapsed": true
   },
   "source": [
    "### 4.1 Plot feature ajusted but unprunned model"
   ]
  },
  {
   "cell_type": "code",
   "execution_count": null,
   "id": "ae1e9d63-32cc-4def-96a1-6de789bd3a06",
   "metadata": {
    "scrolled": true
   },
   "outputs": [],
   "source": [
    "# Fit and plot final model.\n",
    "plt.figure(figsize=(15, 10))\n",
    "plot_tree(dtr_impt_feat, feature_names=feature_cols, filled=True)\n",
    "#plt.savefig(\"decision_tree_feat_adjusted.png\", dpi=800)\n",
    "plt.show()"
   ]
  },
  {
   "cell_type": "code",
   "execution_count": null,
   "id": "e7a61b37-d774-42c5-a7a6-2ed5ba8b4530",
   "metadata": {},
   "outputs": [],
   "source": [
    "# Get the depth of the decision tree.\n",
    "tree_depth = dtr_impt_feat.get_depth()\n",
    "print(f\"The depth of the unpruned feature ajusted decision tree is: {tree_depth}\")"
   ]
  },
  {
   "cell_type": "markdown",
   "id": "55ceee28-4066-446d-b3c2-4a0f133c871b",
   "metadata": {
    "jp-MarkdownHeadingCollapsed": true
   },
   "source": [
    "### 4.2 Prune the feature ajusted model and plot it\n",
    "in the data set where all features were used to train the model max_depth of 12(half of the initial tree depth) was the optimal fit for better handling of unseen data, hence will prune the feature ajusted model to 10 and will plot for comparison. "
   ]
  },
  {
   "cell_type": "code",
   "execution_count": null,
   "id": "8a28f738-3351-466b-924d-07fd47e1d76f",
   "metadata": {},
   "outputs": [],
   "source": [
    "# Creat decission tree regressor to the train set with selected features only and prune to depth of 10.\n",
    "dtr_impt_feat_10 = DecisionTreeRegressor(max_depth=10, random_state=42)\n",
    "\n",
    "# Train Decision Tree Regressor\n",
    "dtr_impt_feat_10.fit(X_train_impt_feat, y_train)\n",
    "\n",
    "# Predict loyalty_points on test data\n",
    "y_pred_impt_feat = dtr_impt_feat_10.predict(X_test_impt_feat)\n",
    "\n",
    "# For R2 evaluation purposes\n",
    "y_pred_impt_feat_train = dtr_impt_feat.predict(X_train_impt_feat)"
   ]
  },
  {
   "cell_type": "code",
   "execution_count": null,
   "id": "7762418a-2755-496d-941e-6a105e7aa1a2",
   "metadata": {},
   "outputs": [],
   "source": [
    "#Evaluate the model accuracy with importance of feature >1% & when it is pruned to depth of 10.\n",
    "mse = mean_squared_error(y_test, y_pred_impt_feat)\n",
    "mae = mean_absolute_error(y_test, y_pred_impt_feat)\n",
    "rmse = mean_squared_error(y_test, y_pred_impt_feat, squared=False)\n",
    "r2 = r2_score(y_test, y_pred_impt_feat)\n",
    "\n",
    "# For R2 evaluation purposes\n",
    "r2_train = r2_score(y_train, y_pred_impt_feat_train)\n",
    "\n",
    "print(f\"Mean Squared Error with importance of feature >1% & depth of 10: {mse}\")\n",
    "print(f\"Mean Absolute Error with importance of feature >1% & depth of 10: {mae}\")\n",
    "print(f\"R-squared with importance of feature >1% & depth of 10: {r2}\")\n",
    "print(f\"R-squared with importance of feature in train set >1% & depth of 10: {r2_train}\") # For R2 evaluation purposes\n",
    "print(f\"Root Mean Squared Error with importance of feature >1% & depth of 10: {rmse}\")"
   ]
  },
  {
   "cell_type": "code",
   "execution_count": null,
   "id": "23dd0a17-6c70-406d-943b-d66b6bef61dd",
   "metadata": {
    "scrolled": true
   },
   "outputs": [],
   "source": [
    "# Fit and plot model when it was pruned to max depth of 10.\n",
    "plt.figure(figsize=(15, 10))\n",
    "plot_tree(dtr_impt_feat_10, feature_names=feature_cols, filled=True, fontsize=6)\n",
    "#plt.savefig(\"decision_tree.png\", dpi=600)\n",
    "plt.show()"
   ]
  },
  {
   "cell_type": "markdown",
   "id": "00d9a560-7b4b-4eeb-baee-2df67320e4bf",
   "metadata": {},
   "source": [
    "## Interpret model and note observations.\n",
    "**Feature ajusted but unpruned model** is ideal if priority is maximum accuracy on the test set, but it may overfit and perform poorly on new, unseen data.\n",
    "\n",
    "**Feature ajusted and pruned to depth of 10 model** is a better option if generalization is important—it might have slightly worse test set performance, but it's less likely to overfit and should perform more robustly when deployed on new, unseen data. Given that generalization is often more important than raw accuracy, this model is likely the more optimal choice in a real-world scenario where data distribution may change. It would be the safer choice."
   ]
  },
  {
   "cell_type": "markdown",
   "id": "b0e28c75",
   "metadata": {},
   "source": [
    "# "
   ]
  },
  {
   "cell_type": "markdown",
   "id": "a7c924ec",
   "metadata": {
    "jp-MarkdownHeadingCollapsed": true
   },
   "source": [
    "# Week 3 assignment: Clustering with *k*-means using Python\n",
    "\n",
    "The marketing department also wants to better understand the usefulness of renumeration and spending scores but do not know where to begin. You are tasked to identify groups within the customer base that can be used to target specific market segments. Use *k*-means clustering to identify the optimal number of clusters and then apply and plot the data using the created segments.\n",
    "\n",
    "## Instructions\n",
    "1. Prepare the data for clustering. \n",
    "    1. Import the CSV file you have prepared in Week 1.\n",
    "    2. Create a new DataFrame (e.g. `df3`) containing the `renumeration` and `spending_score` columns.\n",
    "    3. Explore the new DataFrame. \n",
    "2. Plot the renumeration versus spending score.\n",
    "    1. Create a scatterplot.\n",
    "    2. Create a pairplot.\n",
    "3. Use the Silhouette and Elbow methods to determine the optimal number of clusters for *k*-means clustering.\n",
    "    1. Plot both methods and explain how you determine the number of clusters to use.\n",
    "    2. Add titles and legends to the plot.\n",
    "4. Evaluate the usefulness of at least three values for *k* based on insights from the Elbow and Silhoutte methods.\n",
    "    1. Plot the predicted *k*-means.\n",
    "    2. Explain which value might give you the best clustering.\n",
    "5. Fit a final model using your selected value for *k*.\n",
    "    1. Justify your selection and comment on the respective cluster sizes of your final solution.\n",
    "    2. Check the number of observations per predicted class.\n",
    "6. Plot the clusters and interpret the model."
   ]
  },
  {
   "cell_type": "markdown",
   "id": "e4e7299b",
   "metadata": {
    "jp-MarkdownHeadingCollapsed": true
   },
   "source": [
    "## 1. Load and explore the data"
   ]
  },
  {
   "cell_type": "code",
   "execution_count": null,
   "id": "ae1dc705",
   "metadata": {},
   "outputs": [],
   "source": [
    "# Import necessary libraries.\n",
    "import matplotlib.cm as cm\n",
    "\n",
    "from sklearn.preprocessing import StandardScaler\n",
    "from sklearn.cluster import KMeans\n",
    "from sklearn.metrics import silhouette_score\n",
    "from sklearn.metrics import accuracy_score\n",
    "from scipy.spatial.distance import cdist\n"
   ]
  },
  {
   "cell_type": "code",
   "execution_count": null,
   "id": "2645d45c",
   "metadata": {},
   "outputs": [],
   "source": [
    "# View clean DataFrame.\n",
    "df2.tail()\n"
   ]
  },
  {
   "cell_type": "code",
   "execution_count": null,
   "id": "4317dbb3-bab1-4ad3-9c43-ee9af8ffcc0d",
   "metadata": {},
   "outputs": [],
   "source": [
    "# Drop unnecessary columns.\n",
    "df5 = df2.drop(columns=['gender', 'age', 'loyalty_points', 'education', 'product','review','summary'])\n",
    "\n",
    "# View DataFrame.\n",
    "df5"
   ]
  },
  {
   "cell_type": "code",
   "execution_count": null,
   "id": "8f98e886",
   "metadata": {},
   "outputs": [],
   "source": [
    "# Explore the data.\n",
    "df5.info()"
   ]
  },
  {
   "cell_type": "code",
   "execution_count": null,
   "id": "ed6e10d6",
   "metadata": {},
   "outputs": [],
   "source": [
    "# Descriptive statistics.\n",
    "df5.describe()"
   ]
  },
  {
   "cell_type": "markdown",
   "id": "3f971229",
   "metadata": {
    "jp-MarkdownHeadingCollapsed": true
   },
   "source": [
    "## 2. Plot"
   ]
  },
  {
   "cell_type": "code",
   "execution_count": null,
   "id": "80997ee1-bf4e-452c-837d-e6c6eee5a6c9",
   "metadata": {},
   "outputs": [],
   "source": [
    "# Create a scatterplot with Seaborn using function.\n",
    "plot_scatter(df5, 'remuneration', 'spending_score')\n",
    "plt.title('Remuneration vs Spending Score')\n",
    "plt.show()"
   ]
  },
  {
   "cell_type": "code",
   "execution_count": null,
   "id": "600783ce-5a91-4ca8-993f-29499fcc4918",
   "metadata": {},
   "outputs": [],
   "source": [
    "# Create a pairplot with Seaborn.\n",
    "sns.pairplot(df5, vars=['remuneration', 'spending_score'], diag_kind= 'kde')"
   ]
  },
  {
   "cell_type": "markdown",
   "id": "db8acaff-dfe8-47cf-8897-b3daddcb729f",
   "metadata": {},
   "source": [
    "## Observations:\n",
    "the initial scatterplot of two earlier confirmed non-correlating independent variables remuneration and spending_score shows data points distributed in roughly 5 clusters.\n",
    "\n",
    "Pairplot does the same. In addition it shows that spending_score values are more evenly distributed with majority of customers having average spending score with similar numbers at the lower as well as higher ends of the range. Remuneration however is slightly skewed to the right suggesting some high earners, but the bulk of customers are also firmly in the middle and lower end."
   ]
  },
  {
   "cell_type": "markdown",
   "id": "c3d64b28-fc72-4633-af71-2040de573ece",
   "metadata": {
    "jp-MarkdownHeadingCollapsed": true
   },
   "source": [
    "## 3. Elbow and silhoutte methods\n",
    "\n",
    "Given the above observation will elbow and silhouette methods show similar clustering?"
   ]
  },
  {
   "cell_type": "code",
   "execution_count": null,
   "id": "2b37b9bc-c528-4868-b29d-2c317e0aba0f",
   "metadata": {},
   "outputs": [],
   "source": [
    "# Select both features/columns from df5.\n",
    "x = df5[['remuneration', 'spending_score']].values\n",
    "\n",
    "print(x.shape)"
   ]
  },
  {
   "cell_type": "code",
   "execution_count": null,
   "id": "dbd0290f",
   "metadata": {},
   "outputs": [],
   "source": [
    "# Determine the number (or the range of clusters )of clusters: Elbow method.\n",
    "elb = []\n",
    "for i in range(1, 10):\n",
    "    kmeans_e = KMeans(n_clusters=i, init='k-means++', max_iter=500, random_state=42)\n",
    "    kmeans_e.fit(x)\n",
    "    elb.append(sum(np.min(cdist(x, kmeans_e.cluster_centers_, 'euclidean'),axis=1)) / x.shape[0])\n",
    "\n",
    "# Plot\n",
    "plt.plot(range(1, 10), elb, marker='o')\n",
    "plt.show()"
   ]
  },
  {
   "cell_type": "code",
   "execution_count": null,
   "id": "ce995702",
   "metadata": {},
   "outputs": [],
   "source": [
    "# Determine the number or the range of clusters: Silhouette method.\n",
    "sil = []\n",
    "kmax = 10\n",
    "for k in range(2, kmax+1):\n",
    "    kmeans_s = KMeans(n_clusters = k, random_state=30).fit(x)\n",
    "    labels = kmeans_s.labels_\n",
    "    sil.append(silhouette_score(x, labels, metric = 'euclidean'))\n",
    "\n",
    "# Plot\n",
    "plt.plot(range(2, kmax+1), sil, marker='o')\n",
    "plt.show()"
   ]
  },
  {
   "cell_type": "markdown",
   "id": "4abbaf8b-9926-49b8-8b44-1114ba5dd519",
   "metadata": {},
   "source": [
    "## Observation\n",
    "It appears that elbow method shows clear elbow at 5 and after K=5 SSE starts decreasing slowly. Silhouette method's highest point is too at 5 on the plot, what in turn would suggest 5 is the optimal number for clusters. However, Silhouette method's plot has the secondary peak at 8 possibly indicationg laten substructure in the data e.g. distinct behaviors or profiles within a high-value customer segment."
   ]
  },
  {
   "cell_type": "markdown",
   "id": "8e0fd764",
   "metadata": {
    "jp-MarkdownHeadingCollapsed": true
   },
   "source": [
    "## 4. Evaluate k-means model at different values of *k*\n",
    "\n",
    "k=5 clusters were found to be optimal number for the model, but will evaluate k=8 too."
   ]
  },
  {
   "cell_type": "code",
   "execution_count": null,
   "id": "20e340aa-fac0-4cd1-8da0-ee5502a81504",
   "metadata": {},
   "outputs": [],
   "source": [
    "# Evaluate 5 clusters model.\n",
    "x = pd.DataFrame(x, columns=['remuneration', 'spending_score'])\n",
    "\n",
    "kmeans = KMeans(n_clusters = 5, max_iter = 500, init = 'k-means++', random_state=0).fit(x)\n",
    "clusters = kmeans.labels_\n",
    "x['K-Means Predicted'] = clusters\n",
    "\n",
    "sns.pairplot(x, hue=\"K-Means Predicted\", diag_kind= 'kde')"
   ]
  },
  {
   "cell_type": "code",
   "execution_count": null,
   "id": "2b6c930c-9cde-41d7-88b3-d57b9fdf3ade",
   "metadata": {},
   "outputs": [],
   "source": [
    "# Check the number of observations per predicted class in model with 5 clusters.\n",
    "x['K-Means Predicted'].value_counts()"
   ]
  },
  {
   "cell_type": "markdown",
   "id": "75151a7e-91e5-4234-9165-d7dcf12849c7",
   "metadata": {},
   "source": [
    "### Observation:\n",
    "5 clusters model looks very similar to initial exploratory pairplot in terms clusters and seems to split dataset into optimal number of groups."
   ]
  },
  {
   "cell_type": "code",
   "execution_count": null,
   "id": "92b52e49-a8b5-4fed-8705-ceb80309e93b",
   "metadata": {},
   "outputs": [],
   "source": [
    "# Evaluate 8 clusters model.\n",
    "\n",
    "#Import patches for custom legend since seaborn.pairplot was not showing legend correctly.\n",
    "import matplotlib.patches as mpatches\n",
    "\n",
    "x = pd.DataFrame(x, columns=['remuneration', 'spending_score'])\n",
    "\n",
    "kmeans = KMeans(n_clusters = 8, max_iter = 500, init = 'k-means++', random_state=0).fit(x)\n",
    "clusters = kmeans.labels_\n",
    "x['K-Means Predicted'] = clusters\n",
    "\n",
    "# Create the pairplot\n",
    "g = sns.pairplot(x, hue=\"K-Means Predicted\", diag_kind='kde', palette='tab20')\n",
    "\n",
    "# Get the unique cluster labels and colors\n",
    "cluster_labels = sorted(x['K-Means Predicted'].unique())\n",
    "palette = sns.color_palette('tab20', n_colors=len(cluster_labels))\n",
    "\n",
    "# Manually create legend handles\n",
    "handles = [mpatches.Patch(color=palette[i], label=f'Cluster {cluster_labels[i]}') for i in range(len(cluster_labels))]\n",
    "\n",
    "# Remove the existing legend and add the custom one\n",
    "g._legend.remove()\n",
    "g.fig.legend(handles=handles, title='K-Means Predicted', loc='upper right', bbox_to_anchor=(1.15, 0.85))"
   ]
  },
  {
   "cell_type": "code",
   "execution_count": null,
   "id": "37c282f7-fa2a-4011-80fb-ce3150a1062d",
   "metadata": {},
   "outputs": [],
   "source": [
    "# Check the number of observations per predicted class in model with 8 clusters.\n",
    "x['K-Means Predicted'].value_counts()"
   ]
  },
  {
   "cell_type": "markdown",
   "id": "e6d3307d-3831-4a05-ba52-4cfe24262ec6",
   "metadata": {
    "jp-MarkdownHeadingCollapsed": true
   },
   "source": [
    "## 5. Fit final model and justify your choice"
   ]
  },
  {
   "cell_type": "code",
   "execution_count": null,
   "id": "e0830e63-c778-4b6b-80d5-0e8b71c07873",
   "metadata": {},
   "outputs": [],
   "source": [
    "# Final model with 8 clusters.\n",
    "x = pd.DataFrame(x, columns=['remuneration', 'spending_score'])\n",
    "\n",
    "kmeans = KMeans(n_clusters = 8, max_iter = 500, init = 'k-means++', random_state=0).fit(x)\n",
    "clusters = kmeans.labels_\n",
    "x['K-Means Predicted'] = clusters\n",
    "\n",
    "# Create the pairplot\n",
    "g = sns.pairplot(x, hue=\"K-Means Predicted\", diag_kind='kde', palette='tab20')\n",
    "\n",
    "# Get the unique cluster labels and colors\n",
    "cluster_labels = sorted(x['K-Means Predicted'].unique())\n",
    "palette = sns.color_palette('tab20', n_colors=len(cluster_labels))\n",
    "\n",
    "# Manually create legend handles\n",
    "handles = [mpatches.Patch(color=palette[i], label=f'Cluster {cluster_labels[i]}') for i in range(len(cluster_labels))]\n",
    "\n",
    "# Remove the existing legend and add the custom one\n",
    "g._legend.remove()\n",
    "g.fig.legend(handles=handles, title='K-Means Predicted', loc='upper right', bbox_to_anchor=(1.15, 0.85))"
   ]
  },
  {
   "cell_type": "markdown",
   "id": "22103d84-0d34-49c9-a0d9-c9d759681bd7",
   "metadata": {},
   "source": [
    "## Observation\n",
    "Even though k=5 may be the \"optimal\" choice from a silhouette or elbow method perspective, k=8 does seem to uncover:\n",
    "* Smaller, more specialized customer segments that more generic model k=5 would miss\n",
    "* Potential niche marketing opportunities (e.g., a small but high-spending group that behaves differently)"
   ]
  },
  {
   "cell_type": "markdown",
   "id": "ec7d2cf2",
   "metadata": {
    "jp-MarkdownHeadingCollapsed": true
   },
   "source": [
    "## 6. Plot and interpret the clusters"
   ]
  },
  {
   "cell_type": "code",
   "execution_count": null,
   "id": "e8cd85f4",
   "metadata": {},
   "outputs": [],
   "source": [
    "# Visualising the clusters.\n",
    "# View the K-Means predicted.\n",
    "print(x.head(10))\n"
   ]
  },
  {
   "cell_type": "code",
   "execution_count": null,
   "id": "4de2b0d0",
   "metadata": {},
   "outputs": [],
   "source": [
    "# Visualising the clusters.\n",
    "# Set plot size.\n",
    "sns.set(rc = {'figure.figsize':(10, 6)})\n",
    "sns.set(style=\"white\")\n",
    "\n",
    "# Create a scatterplot.\n",
    "sns.scatterplot(x='remuneration' , \n",
    "                y ='spending_score',\n",
    "                data=x,\n",
    "                hue='K-Means Predicted',\n",
    "                palette='tab20',\n",
    "                s=70)\n",
    "# Set the title\n",
    "plt.title(\"8 Clusters of Customers: Spending Behavior vs. Income\", fontsize=16)\n",
    "\n",
    "# Move the legend outside\n",
    "plt.legend(title='Cluster', bbox_to_anchor=(1.05, 1), loc='upper left', borderaxespad=0.)\n",
    "\n",
    "# Show the plot\n",
    "plt.tight_layout()\n",
    "plt.show()"
   ]
  },
  {
   "cell_type": "code",
   "execution_count": null,
   "id": "02abc7c8-6f34-48a0-894e-aafb029357c4",
   "metadata": {},
   "outputs": [],
   "source": [
    "# Basic statistics to further understand each cluster.\n",
    "x.groupby('K-Means Predicted')[['remuneration', 'spending_score']].describe()"
   ]
  },
  {
   "cell_type": "code",
   "execution_count": null,
   "id": "29c3fb5d-61f4-406f-b64f-9590d262d348",
   "metadata": {},
   "outputs": [],
   "source": [
    "# Rename clusters and plot for clarity.\n",
    "cluster_map = {\n",
    "    0: \"0 - Moderate Earners & Spenders\",\n",
    "    1: \"1 - High Earners, Low Spenders\",\n",
    "    2: \"2 - Premium Customers\",\n",
    "    3: \"3 - Aspirational Spenders\",\n",
    "    4: \"4 - Low Budget Segment\",\n",
    "    5: \"5 - Untapped High Earners\",\n",
    "    6: \"6 - Loyal High Spenders\",\n",
    "    7: \"7 - Mass Market\"\n",
    "}\n",
    "\n",
    "x['Segment'] = x['K-Means Predicted'].map(cluster_map)\n",
    "\n",
    "x['Segment'].value_counts().plot(kind='barh', figsize=(10,6), color='skyblue')\n",
    "plt.title(\"Customer Segments by Cluster Size\", fontsize=16)\n",
    "plt.xlabel(\"Number of Customers\")\n",
    "plt.tight_layout()\n",
    "plt.show()\n"
   ]
  },
  {
   "cell_type": "markdown",
   "id": "d9865ef8-2007-4d84-89a5-3b9a8759e8ee",
   "metadata": {},
   "source": [
    "## Observation\n",
    "After renaming the 8 clusters based on the mean remuneration and spending score, the resulting visualization highlights distinct customer segments, such as high-income, high-spending customers, and low-income, low-spending ones. These segments offer valuable insights for bussines. By recognizing these nuanced groups, marketing can adopt more personalized strategies to enhance customer engagement and retention retention."
   ]
  },
  {
   "cell_type": "code",
   "execution_count": null,
   "id": "845143e0-7b44-43a9-b846-2d0fccc35468",
   "metadata": {},
   "outputs": [],
   "source": []
  },
  {
   "cell_type": "markdown",
   "id": "d4b58c90",
   "metadata": {},
   "source": [
    "# Week 4 assignment: NLP using Python\n",
    "Customer reviews were downloaded from the website of Turtle Games. This data will be used to steer the marketing department on how to approach future campaigns. Therefore, the marketing department asked you to identify the 15 most common words used in online product reviews. They also want to have a list of the top 20 positive and negative reviews received from the website. Therefore, you need to apply NLP on the data set.\n",
    "\n",
    "## **Aproach**\n",
    "* `review` is the main column of relevance based on the most amount of info for the task and `summary`column is assumed to be header of sorts, hence only the `review` column will be explored for sentiment analysis.\n",
    "* no duplicates where observed at the early stages of data exploration hence all 2000 `review`column values will be treated as valid.\n",
    "\n",
    "## Instructions\n",
    "1. Load and explore the data. \n",
    "    1. Sense-check the DataFrame.\n",
    "    2. You only need to retain the `review` and `summary` columns.\n",
    "    3. Determine if there are any missing values.\n",
    "2. Prepare the data for NLP\n",
    "    1. Change to lower case and join the elements in each of the columns respectively (`review` and `summary`).\n",
    "    2. Replace punctuation in each of the columns respectively (`review` and `summary`).\n",
    "    3. Drop duplicates in both columns (`review` and `summary`).\n",
    "3. Tokenise and create wordclouds for the respective columns (separately).\n",
    "    1. Create a copy of the DataFrame.\n",
    "    2. Apply tokenisation on both columns.\n",
    "    3. Create and plot a wordcloud image.\n",
    "4. Frequency distribution and polarity.\n",
    "    1. Create frequency distribution.\n",
    "    2. Remove alphanumeric characters and stopwords.\n",
    "    3. Create wordcloud without stopwords.\n",
    "    4. Identify 15 most common words and polarity.\n",
    "5. Review polarity and sentiment.\n",
    "    1. Plot histograms of polarity (use 15 bins) for both columns.\n",
    "    2. Review the sentiment scores for the respective columns.\n",
    "6. Identify and print the top 20 positive and negative reviews and summaries respectively.\n",
    "7. Include your insights and observations."
   ]
  },
  {
   "cell_type": "markdown",
   "id": "40558b5f",
   "metadata": {
    "jp-MarkdownHeadingCollapsed": true
   },
   "source": [
    "## 1. Load and explore the data"
   ]
  },
  {
   "cell_type": "code",
   "execution_count": null,
   "id": "9f32be5a",
   "metadata": {},
   "outputs": [],
   "source": [
    "# Import all the necessary packages.\n",
    "import nltk \n",
    "import os \n",
    "\n",
    "nltk.download ('punkt')\n",
    "nltk.download ('stopwords')\n",
    "nltk.download('averaged_perceptron_tagger')\n",
    "\n",
    "from wordcloud import WordCloud\n",
    "from nltk.tokenize import word_tokenize\n",
    "from nltk.probability import FreqDist\n",
    "from nltk.corpus import stopwords\n",
    "from textblob import TextBlob\n",
    "from scipy.stats import norm\n",
    "from nltk.stem import WordNetLemmatizer\n",
    "from collections import defaultdict\n",
    "from nltk.corpus import wordnet as wn\n",
    "from nltk import pos_tag\n",
    "from vaderSentiment.vaderSentiment import SentimentIntensityAnalyzer\n",
    "\n",
    "# Import Counter.\n",
    "from collections import Counter"
   ]
  },
  {
   "cell_type": "code",
   "execution_count": null,
   "id": "85947561",
   "metadata": {},
   "outputs": [],
   "source": [
    "# View DataFrame.\n",
    "df2.head()"
   ]
  },
  {
   "cell_type": "code",
   "execution_count": null,
   "id": "d86c8b70",
   "metadata": {},
   "outputs": [],
   "source": [
    "# Explore data set.\n",
    "df2.info()"
   ]
  },
  {
   "cell_type": "code",
   "execution_count": null,
   "id": "1694122f",
   "metadata": {},
   "outputs": [],
   "source": [
    "# Drop unnecessary columns and keep 'summary' for future ref if needed.\n",
    "df6 = df2.drop(columns=['gender', 'age', 'remuneration', 'spending_score', 'loyalty_points',\n",
    "       'education', 'product'])\n",
    "\n",
    "# View DataFrame.\n",
    "df6.info()"
   ]
  },
  {
   "cell_type": "code",
   "execution_count": null,
   "id": "00736320",
   "metadata": {},
   "outputs": [],
   "source": [
    "# Recheck whether any missing values occured.\n",
    "print(df6['review'].isna().sum())\n",
    "df6['summary'].isna().sum()"
   ]
  },
  {
   "cell_type": "markdown",
   "id": "5f859f00-f397-42ed-8f26-c4aaabf6b9f6",
   "metadata": {
    "jp-MarkdownHeadingCollapsed": true
   },
   "source": [
    "## 1.1 Functions"
   ]
  },
  {
   "cell_type": "code",
   "execution_count": null,
   "id": "f21a76ac-f4b9-4542-9058-c825834ad648",
   "metadata": {},
   "outputs": [],
   "source": [
    "# Returns a sentiment score as a dictionary for ea piece of text using VADER(good w social media/informal language).\n",
    "def analyze_sentiment(text):\n",
    "    \"\"\"It takes a list of words (text), joins them into a single string, \n",
    "    and then checks how positive or negative the full sentence is by using VADER.\n",
    "    \"\"\"\n",
    "    return analyzer.polarity_scores(' '.join(text))\n",
    "\n",
    "# Returns one of three sentiment labels.\n",
    "def get_sentiment_label(compound):\n",
    "    \"\"\" It uses recommended number within the standard VADER tresholds (-1 and 1)\n",
    "    to assign a label: positive, negative, or neutral to compound score.\n",
    "    \"\"\"\n",
    "    if compound >= 0.05:\n",
    "        return 'positive'\n",
    "    elif compound <= -0.05:\n",
    "        return 'negative'\n",
    "    else:\n",
    "        return 'neutral'\n",
    "\n",
    "# Returns polarity score for each piece of text using TextBlob(simpler,more traditional, works off a lexicon and grammar rules).\n",
    "def generate_polarity(review):\n",
    "    \"\"\"Extracts polarity score (-1 to +1) for each piece of text\n",
    "    by using TextBlob\n",
    "    \"\"\"\n",
    "    return TextBlob(review).sentiment.polarity\n"
   ]
  },
  {
   "cell_type": "markdown",
   "id": "45a915a1-14f0-4f7d-acf5-80c98e250635",
   "metadata": {},
   "source": [
    "## 2. Prepare the data for NLP"
   ]
  },
  {
   "cell_type": "markdown",
   "id": "777c32d3-bf58-43b0-952c-779df2df9fb5",
   "metadata": {
    "jp-MarkdownHeadingCollapsed": true
   },
   "source": [
    "### 2a) Change to lower case and join the elements in relevant review column only"
   ]
  },
  {
   "cell_type": "code",
   "execution_count": null,
   "id": "a51d4e9b",
   "metadata": {},
   "outputs": [],
   "source": [
    "# 'review' column: Change all to lower case and join words with a space into single string.\n",
    "df6['review'] = df6['review'].apply(lambda x: \" \".join(x.lower() for x in x.split()))\n",
    "\n",
    "# Preview.\n",
    "df6['review'].head()"
   ]
  },
  {
   "cell_type": "markdown",
   "id": "1be5b39d",
   "metadata": {
    "jp-MarkdownHeadingCollapsed": true
   },
   "source": [
    "### 2b) Replace punctuation in relevant 'review' column only"
   ]
  },
  {
   "cell_type": "code",
   "execution_count": null,
   "id": "17e14ff4",
   "metadata": {},
   "outputs": [],
   "source": [
    "# Replace all the punctuations in review column.\n",
    "df6['review'] = df6['review'].str.replace(r\"[^\\w\\s]\", \"\", regex=True)\n",
    "\n",
    "# View output.\n",
    "df6['review'].head()"
   ]
  },
  {
   "cell_type": "markdown",
   "id": "aeb6d0b2",
   "metadata": {
    "jp-MarkdownHeadingCollapsed": true
   },
   "source": [
    "### 2c) Drop duplicates in both columns\n",
    "\n",
    "**Approach** Since no duplicates where observed at the early stages of data exploration hence all 2000 `review`column values will be treated as valid."
   ]
  },
  {
   "cell_type": "code",
   "execution_count": null,
   "id": "f218f38b-1e4c-478d-8fb9-1af999211f0a",
   "metadata": {},
   "outputs": [],
   "source": [
    "# Check the number of duplicate values in the column.\n",
    "#df6.review.duplicated().sum()"
   ]
  },
  {
   "cell_type": "code",
   "execution_count": null,
   "id": "b9ccb9c9-8134-4e41-a345-40184d91999f",
   "metadata": {},
   "outputs": [],
   "source": [
    "# Drop duplicates in both columns.\n",
    "#df6 = df6.drop_duplicates(subset='review', keep='first').reset_index(drop=True)\n",
    "\n",
    "# View DataFrame.\n",
    "#df6"
   ]
  },
  {
   "cell_type": "markdown",
   "id": "4ee064a9-dbc4-4b82-b6e7-17c6e441fa05",
   "metadata": {
    "jp-MarkdownHeadingCollapsed": true
   },
   "source": [
    "## 3. Tokenise, create wordclouds, lemmatize and check frequency distribution "
   ]
  },
  {
   "cell_type": "code",
   "execution_count": null,
   "id": "5111dc03",
   "metadata": {},
   "outputs": [],
   "source": [
    "# Create copy of DataFrame df6.\n",
    "df7 = df6\n",
    "\n",
    "# View DataFrame.\n",
    "df7.info()"
   ]
  },
  {
   "cell_type": "code",
   "execution_count": null,
   "id": "e7ace8c9",
   "metadata": {},
   "outputs": [],
   "source": [
    "# Apply tokenisation to 'review'.\n",
    "df7['review_tokens'] = df7['review'].apply(word_tokenize)\n",
    "\n",
    "# View DataFrame.\n",
    "df7.head()"
   ]
  },
  {
   "cell_type": "code",
   "execution_count": null,
   "id": "b832e900-633a-4518-8e26-9d34659e9081",
   "metadata": {},
   "outputs": [],
   "source": [
    "# Define an empty list of review_tokens.\n",
    "all_review_tokens = []\n",
    "\n",
    "for i in range(df7.shape[0]):\n",
    "    # Add each token to the list.\n",
    "    all_review_tokens = all_review_tokens + df7['review_tokens'][i]"
   ]
  },
  {
   "cell_type": "markdown",
   "id": "fbf3bd21-3e6c-4061-b890-3c46d7746be3",
   "metadata": {
    "jp-MarkdownHeadingCollapsed": true
   },
   "source": [
    "### 3.1 Check the most frequently occurring words"
   ]
  },
  {
   "cell_type": "code",
   "execution_count": null,
   "id": "cd367571-b891-406d-830f-ad3302309524",
   "metadata": {},
   "outputs": [],
   "source": [
    "# Calculate the frequency distribution among all_review_tokens.\n",
    "fdist_review = FreqDist(all_review_tokens)\n",
    "\n",
    "# Preview data.\n",
    "fdist_review"
   ]
  },
  {
   "attachments": {},
   "cell_type": "markdown",
   "id": "e0fb88ec-0712-415a-b017-b8cd5609baed",
   "metadata": {
    "jp-MarkdownHeadingCollapsed": true
   },
   "source": [
    "### 3.2 Further filter out tokens that are not alphabetic nor numbers and eliminate stopwords"
   ]
  },
  {
   "cell_type": "code",
   "execution_count": null,
   "id": "7737195f-9cb1-4eb3-8100-21dad6722539",
   "metadata": {},
   "outputs": [],
   "source": [
    "# Create a set of English stopwords.\n",
    "english_stopwords = set(stopwords.words('english'))"
   ]
  },
  {
   "cell_type": "code",
   "execution_count": null,
   "id": "5d5868ad-bb19-40cd-bd0f-cab05b095e19",
   "metadata": {},
   "outputs": [],
   "source": [
    "# Filter out 'review_tokens' to only have alphanumeric & number values and apply stopword removal variable for each row in df7\n",
    "df7['review_tokens_no_stopwords'] = df7['review_tokens'].apply(\n",
    "    lambda tokens: [word for word in tokens if word.isalnum() and word.lower() not in english_stopwords]\n",
    ")"
   ]
  },
  {
   "cell_type": "code",
   "execution_count": null,
   "id": "04ecda72-a045-45be-b758-fae04964d5d2",
   "metadata": {},
   "outputs": [],
   "source": [
    "df7.tail()"
   ]
  },
  {
   "cell_type": "markdown",
   "id": "4b4b1a15-4d7a-4ce5-a2a5-b64b494c3ec9",
   "metadata": {
    "jp-MarkdownHeadingCollapsed": true
   },
   "source": [
    "### 3.4 Create and plot a WordCloud"
   ]
  },
  {
   "cell_type": "code",
   "execution_count": null,
   "id": "1744a049-4f49-4c6d-b05b-f5b1fa4a0875",
   "metadata": {},
   "outputs": [],
   "source": [
    "# Define an empty string variable.\n",
    "review_tokens_no_stopwords_string = ''\n",
    "\n",
    "#for value in df7['review_tokens_no_stopwords']:\n",
    "    # Add each filtered token word to the string. Later to be used for wordcloud.\n",
    "    #review_tokens_no_stopwords_string = review_tokens_no_stopwords_string + value + ' '\n",
    "\n",
    "# Loop through each row in 'review_tokens_no_stopwords' column\n",
    "for tokens in df7['review_tokens_no_stopwords']:\n",
    "    #Loop through each token in the list of tokens\n",
    "    for value in tokens:\n",
    "        # Add each token to the string with a space in between. String required for WordCloud\n",
    "        review_tokens_no_stopwords_string += value + ' '\n",
    "\n",
    "# Create a WordCloud for review.\n",
    "wordcloud_review = WordCloud(width = 1600, height = 900, \n",
    "                background_color ='white', \n",
    "                colormap='twilight', \n",
    "                min_font_size = 10).generate(review_tokens_no_stopwords_string) \n",
    "\n",
    "# Plot the WordCloud for review.                        \n",
    "plt.figure(figsize = (16, 9), facecolor = None) \n",
    "plt.imshow(wordcloud_review) \n",
    "plt.axis('off')\n",
    "plt.tight_layout(pad = 0) \n",
    "plt.show()"
   ]
  },
  {
   "cell_type": "code",
   "execution_count": null,
   "id": "3d2ccd5d-b93c-4324-8183-3d988fad3126",
   "metadata": {},
   "outputs": [],
   "source": [
    "# View the frequency distribution of tokenized review column words.\n",
    "\n",
    "# Combine all tokens from the 'review_tokens_no_stopwords' column into a single list\n",
    "all_tokens_no_stopwords = [token for tokens in df7['review_tokens_no_stopwords'] for token in tokens]\n",
    "\n",
    "# Calculate the frequency distribution\n",
    "fd_review = FreqDist(all_tokens_no_stopwords)\n",
    "\n",
    "# Display the frequency distribution\n",
    "fd_review\n"
   ]
  },
  {
   "cell_type": "markdown",
   "id": "3c8854af-65a9-48a5-a4f8-779573c2697e",
   "metadata": {},
   "source": [
    "### Observation\n",
    "frequency distribution of tokenized review column words suports the visual of WordCloud by assigning counts to most frequently occurring words in customer reviews, but other than that does not really provide much of an insight. \n",
    "\n",
    "**Next** lemmatize the review_tokens_no_stopwords to see whether frequency distribution changes."
   ]
  },
  {
   "cell_type": "markdown",
   "id": "240f7c0c-f12a-4b00-8696-dfff6fccaff1",
   "metadata": {
    "jp-MarkdownHeadingCollapsed": true
   },
   "source": [
    "### 3.5. Lemmatize tokenised reviews"
   ]
  },
  {
   "cell_type": "code",
   "execution_count": null,
   "id": "b488c92b-b982-40e2-80f5-b4e720bfc2a1",
   "metadata": {},
   "outputs": [],
   "source": [
    "# Initialize the lemmatizer.\n",
    "lemmatizer = WordNetLemmatizer()\n",
    "\n",
    "# Define the tag map for POS tagging.\n",
    "tag_map = defaultdict(lambda: wn.NOUN)  # Default to NOUN\n",
    "tag_map['J'] = wn.ADJ  # Adjectives\n",
    "tag_map['V'] = wn.VERB  # Verbs\n",
    "tag_map['R'] = wn.ADV  # Adverbs\n",
    "\n",
    "# Lemmatize the tokens in 'review_tokens_no_stopwords' with POS tagging.\n",
    "df7['review_tokens_lemmatized'] = df7['review_tokens_no_stopwords'].apply(\n",
    "    lambda tokens: [\n",
    "        lemmatizer.lemmatize(word, pos=tag_map[tag[0]])  # Uses the first letter of the tag (e.g., 'N', 'V')\n",
    "        for word, tag in nltk.pos_tag(tokens)\n",
    "    ]\n",
    ")"
   ]
  },
  {
   "cell_type": "code",
   "execution_count": null,
   "id": "308ae3dc-d3a9-435b-9858-f15a20b99d2e",
   "metadata": {},
   "outputs": [],
   "source": [
    "df7.tail()"
   ]
  },
  {
   "cell_type": "code",
   "execution_count": null,
   "id": "3ee48afc-ac9d-4ad8-9236-5a19a17eb8f4",
   "metadata": {},
   "outputs": [],
   "source": [
    "# View the frequency distribution of 'review_tokens_lemmatized'column words.\n",
    "\n",
    "# Combine all tokens from the 'review_tokens_lemmatized' column into a single list\n",
    "all_tokens_lemmatized = [token for tokens in df7['review_tokens_lemmatized'] for token in tokens]\n",
    "\n",
    "# Calculate the frequency distribution\n",
    "fd_review_lem = FreqDist(all_tokens_lemmatized)\n",
    "\n",
    "# Display the frequency distribution\n",
    "fd_review_lem"
   ]
  },
  {
   "cell_type": "markdown",
   "id": "01c0b15b",
   "metadata": {
    "jp-MarkdownHeadingCollapsed": true
   },
   "source": [
    "### 3.6 Identify 15 most common words in tokenized reviews and in lemmatized reviews for comparison "
   ]
  },
  {
   "cell_type": "code",
   "execution_count": null,
   "id": "2745e8bc",
   "metadata": {},
   "outputs": [],
   "source": [
    "# Determine the 15 most common words and their frequencies in 'review_tokens_no_stopwords'.\n",
    "most_common_words = fd_review.most_common(15)\n",
    "most_common_words"
   ]
  },
  {
   "cell_type": "code",
   "execution_count": null,
   "id": "958f44ad-4761-4d2f-8834-7cb70ca98c92",
   "metadata": {},
   "outputs": [],
   "source": [
    "# Determine the 15 most common words and their frequencies in 'review_tokens_lemmatized'.\n",
    "most_common_words_lem = fd_review_lem.most_common(15)\n",
    "most_common_words_lem"
   ]
  },
  {
   "cell_type": "code",
   "execution_count": null,
   "id": "bdda9be4-8f0b-453d-91ee-1fbca099841b",
   "metadata": {},
   "outputs": [],
   "source": [
    "# Plot both above outputs for comparison.\n",
    "# Extract words and their frequencies from most_common_words.\n",
    "words, freqs = zip(*most_common_words)\n",
    "\n",
    "# Extract words and their frequencies from most_common_words_lem.\n",
    "words_lem, freqs_lem = zip(*most_common_words_lem)\n",
    "\n",
    "# Create subplots for both sets of most common words.\n",
    "fig, axes = plt.subplots(1, 2, figsize=(15, 6))\n",
    "\n",
    "# Plot for tokens.\n",
    "axes[0].barh(words, freqs, color='skyblue')\n",
    "axes[0].set_title('Most Common Words in Tokenised only Reviews')\n",
    "axes[0].set_xlabel('Frequency')\n",
    "axes[0].set_ylabel('Words')\n",
    "\n",
    "# Plot for lemmatized tokens.\n",
    "axes[1].barh(words_lem, freqs_lem, color='lightgreen')\n",
    "axes[1].set_title('Most Common Words in Lemmatized Reviews')\n",
    "axes[1].set_xlabel('Frequency')\n",
    "axes[1].set_ylabel('Words')\n",
    "\n",
    "# Adjust layout.\n",
    "plt.tight_layout()\n",
    "plt.show()\n"
   ]
  },
  {
   "cell_type": "markdown",
   "id": "e2615bc4-1259-48ad-8429-7826481d7edf",
   "metadata": {},
   "source": [
    "## Observation\n",
    "The difference in the most common words in reviews pre and post lemmatization is not very dissimilar. This may be due to simple text structure as reviews don't have many complex inflections or variations hence lemmatization does not dramatically change unique tokens.\n",
    "Nevertheless,lemmatization does simplify and improve quality of data as well as reduces the size of vocabulary, hence will test whether there is significant difference in polarity and sentiment analysis using VADER and TextBlob on raw reviews and tokenized lemmatized version of it."
   ]
  },
  {
   "cell_type": "markdown",
   "id": "a3b5abd1",
   "metadata": {
    "jp-MarkdownHeadingCollapsed": true
   },
   "source": [
    "## 4. Polarity and sentiment inc.plots"
   ]
  },
  {
   "cell_type": "code",
   "execution_count": null,
   "id": "592a98b9-42e1-4edd-b230-44573ab56eb0",
   "metadata": {},
   "outputs": [],
   "source": [
    "# Create additional column in df7 to hold tokenized & lemmatized reviews as string to use by TextBlob later\n",
    "df7['review_clean_string'] = df7['review_tokens_lemmatized'].apply(lambda x: ' '.join(x))\n",
    "df7.head(1)"
   ]
  },
  {
   "cell_type": "markdown",
   "id": "836d8068-fc8e-44f7-bcdd-2bbff712b504",
   "metadata": {},
   "source": [
    "#### 4.1 using VADER"
   ]
  },
  {
   "cell_type": "code",
   "execution_count": null,
   "id": "c1c03b29-1b15-4559-b5d0-5166f7e16305",
   "metadata": {},
   "outputs": [],
   "source": [
    "df2.head(1)"
   ]
  },
  {
   "cell_type": "markdown",
   "id": "0959c6a3-def1-473b-a08f-add88ab60227",
   "metadata": {
    "jp-MarkdownHeadingCollapsed": true
   },
   "source": [
    "#### 4.1.1 on raw unprocessed reviews"
   ]
  },
  {
   "cell_type": "code",
   "execution_count": null,
   "id": "71c3d6f8-35b4-49c8-8009-8c1497cf275a",
   "metadata": {},
   "outputs": [],
   "source": [
    "# Determine polarity for raw, including with punctuation reviews.\n",
    "# Create the tool that can meassure the sentiment in a piece of text.\n",
    "analyzer = SentimentIntensityAnalyzer()\n",
    "\n",
    "# Create new column to append results after applying the function analyze_sentiment to df2['review'] that has punctuation & capital letters.\n",
    "df7['sentiment_scores_r_VADER'] = df2['review'].apply(analyze_sentiment)\n",
    "\n",
    "df7.head(1)"
   ]
  },
  {
   "cell_type": "code",
   "execution_count": null,
   "id": "04b29ec6-23e5-4eb3-8bd0-2b4c70937851",
   "metadata": {},
   "outputs": [],
   "source": [
    "# Extract individual sentiment scores and split it into 4 additional columns.\n",
    "df7['neg_r'] = df7['sentiment_scores_r_VADER'].apply(lambda x: x['neg'])\n",
    "df7['neu_r'] = df7['sentiment_scores_r_VADER'].apply(lambda x: x['neu'])\n",
    "df7['pos_r'] = df7['sentiment_scores_r_VADER'].apply(lambda x: x['pos'])\n",
    "df7['compound_r'] = df7['sentiment_scores_r_VADER'].apply(lambda x: x['compound'])\n",
    "\n",
    "df7.head(1)"
   ]
  },
  {
   "cell_type": "code",
   "execution_count": null,
   "id": "af3c02f8-bec2-42f7-a9a8-d3a3f865551b",
   "metadata": {},
   "outputs": [],
   "source": [
    "# Determine overall sentiment by runing the function to assign respective sentiment label in a new column.         \n",
    "df7['overall_sentiment_r_VADER'] = df7['compound_r'].apply(get_sentiment_label)\n",
    "df7.head(1)"
   ]
  },
  {
   "cell_type": "code",
   "execution_count": null,
   "id": "f7a54bda-ba00-4c98-b09d-9ead114e2337",
   "metadata": {},
   "outputs": [],
   "source": [
    "#### Plot the sentiment distribution.\n",
    "# Sentiment labels\n",
    "sentiment_labels = df7['overall_sentiment_r_VADER']\n",
    "\n",
    "# Set the color palette for the plot\n",
    "color_palette = ['lightgreen', 'skyblue', 'red',]\n",
    "\n",
    "# Create the seaborn countplot\n",
    "plt.figure(figsize=(8, 6))\n",
    "sns.countplot(x=sentiment_labels, palette=color_palette)\n",
    "\n",
    "# Customize plot labels and title\n",
    "plt.title(\"VADER Method Sentiment Distribution for Unprocessed Reviews\")\n",
    "plt.xlabel(\"Sentiment Label\")\n",
    "plt.ylabel(\"Number of Reviews\")\n",
    "plt.xticks(rotation=0)\n",
    "\n",
    "# Show the plot\n",
    "plt.show()"
   ]
  },
  {
   "cell_type": "markdown",
   "id": "71557399-c9c8-4448-9fc6-b02bdaee307c",
   "metadata": {},
   "source": [
    "#### Observation\n",
    "When VADER is applied to raw, unprocessed reviews (with punctuation and capitalization), it fails to detect any strong negative sentiment."
   ]
  },
  {
   "cell_type": "markdown",
   "id": "b4962c35-c16d-4450-b1a7-c3651de1a60c",
   "metadata": {
    "jp-MarkdownHeadingCollapsed": true
   },
   "source": [
    "#### 4.1.2 on tokens_lemmatized reviews"
   ]
  },
  {
   "cell_type": "code",
   "execution_count": null,
   "id": "fdfe3dbc-ae96-4116-b597-ef7caeb57506",
   "metadata": {},
   "outputs": [],
   "source": [
    "# Create new column to append results after applying the function analyze_sentiment.\n",
    "df7['sentiment_scores_t_l_VADER'] = df7['review_tokens_lemmatized'].apply(analyze_sentiment)\n",
    "\n",
    "df7.head(1)"
   ]
  },
  {
   "cell_type": "code",
   "execution_count": null,
   "id": "ab6edd20-064c-415c-8f5f-f0e98705390b",
   "metadata": {},
   "outputs": [],
   "source": [
    "# Extract individual sentiment scores and split it into 4 additional columns.\n",
    "df7['neg_t_l'] = df7['sentiment_scores_t_l_VADER'].apply(lambda x: x['neg'])\n",
    "df7['neu_t_l'] = df7['sentiment_scores_t_l_VADER'].apply(lambda x: x['neu'])\n",
    "df7['pos_t_l'] = df7['sentiment_scores_t_l_VADER'].apply(lambda x: x['pos'])\n",
    "df7['compound_t_l'] = df7['sentiment_scores_t_l_VADER'].apply(lambda x: x['compound'])\n",
    "df7.head(1)"
   ]
  },
  {
   "cell_type": "code",
   "execution_count": null,
   "id": "a5725726-d986-493d-aa8d-0816fee98695",
   "metadata": {},
   "outputs": [],
   "source": [
    "# Determine overall sentiment by runing the function to assign respective sentiment label in a new column.         \n",
    "df7['overall_sentiment_t_l_VADER'] = df7['compound_t_l'].apply(get_sentiment_label)\n",
    "df7.head(1)"
   ]
  },
  {
   "cell_type": "code",
   "execution_count": null,
   "id": "c7b63ebe-bbf1-405e-85b4-50274d2a6564",
   "metadata": {},
   "outputs": [],
   "source": [
    "# Plot the sentiment distribution.\n",
    "# Sentiment labels\n",
    "sentiment_labels = df7['overall_sentiment_t_l_VADER']\n",
    "\n",
    "# Set the color palette for the plot\n",
    "color_palette = ['red', 'lightgreen', 'skyblue']\n",
    "\n",
    "# Create the seaborn countplot\n",
    "plt.figure(figsize=(8, 6))\n",
    "sns.countplot(x=sentiment_labels, palette=color_palette)\n",
    "\n",
    "# Customize plot labels and title\n",
    "plt.title(\"VADER Method Sentiment Distribution for Tokenized & Lemmatized Reviews\")\n",
    "plt.xlabel(\"Sentiment Label\")\n",
    "plt.ylabel(\"Number of Reviews\")\n",
    "plt.xticks(rotation=0)\n",
    "\n",
    "# Show the plot\n",
    "plt.show()"
   ]
  },
  {
   "cell_type": "markdown",
   "id": "4e855844-1f5b-4178-8013-4a906ada0a65",
   "metadata": {},
   "source": [
    "#### Observation\n",
    "when VADER is applied to tokenized and lemmatized reviews (with punctuation removed), it produces mostly positive sentiment, with a small number of negative and neutral reviews."
   ]
  },
  {
   "cell_type": "markdown",
   "id": "c3a683a0-d653-4939-a5d4-db5a811fa7ec",
   "metadata": {},
   "source": [
    "### 4.2 using TextBlob"
   ]
  },
  {
   "cell_type": "markdown",
   "id": "71c67542-c2b2-4b21-ab0e-788da5590d06",
   "metadata": {
    "jp-MarkdownHeadingCollapsed": true
   },
   "source": [
    "#### 4.2.1 on punctuation removed, but otherwise unprocessed reviews"
   ]
  },
  {
   "cell_type": "code",
   "execution_count": null,
   "id": "10f97c07-f87a-46d6-84f7-80933378bfba",
   "metadata": {},
   "outputs": [],
   "source": [
    "# Apply the polarity function to extract polatity score for each review using TextBlob and output results in the new column.\n",
    "df7['polarity_score_r_TextBlob'] = df7['review'].apply(generate_polarity)"
   ]
  },
  {
   "cell_type": "code",
   "execution_count": null,
   "id": "a81e9665-7b0f-499c-ab37-c5341981f6f5",
   "metadata": {},
   "outputs": [],
   "source": [
    "# Determine overall sentiment by runing the function to assign respective sentiment label in a new column. \n",
    "df7['overall_sentiment_r_TextBlob'] = df7['polarity_score_r_TextBlob'].apply(get_sentiment_label)\n",
    "\n",
    "# Display the DataFrame with new columns\n",
    "df7.head(1)"
   ]
  },
  {
   "cell_type": "code",
   "execution_count": null,
   "id": "5fac2504-8424-4798-ad7d-d610386e8225",
   "metadata": {},
   "outputs": [],
   "source": [
    "# Plot the sentiment distribution on TextBlob output.\n",
    "# Sentiment labels\n",
    "sentiment_labels = df7['overall_sentiment_r_TextBlob']\n",
    "\n",
    "# Set the color palette for the plot\n",
    "color_palette = ['skyblue', 'lightgreen', 'red']\n",
    "\n",
    "# Create the seaborn countplot\n",
    "plt.figure(figsize=(8, 6))\n",
    "sns.countplot(x=sentiment_labels, palette=color_palette)\n",
    "\n",
    "# Customize plot labels and title\n",
    "plt.title(\"TextBlob Method Sentiment Distribution for Unrocessed Reviews\")\n",
    "plt.xlabel(\"Sentiment Label\")\n",
    "plt.ylabel(\"Number of Reviews\")\n",
    "plt.xticks(rotation=0)\n",
    "\n",
    "# Show the plot\n",
    "plt.show()"
   ]
  },
  {
   "cell_type": "markdown",
   "id": "ac0c7b91-e3c1-4b49-9600-470dfbf745b5",
   "metadata": {
    "jp-MarkdownHeadingCollapsed": true
   },
   "source": [
    "#### 4.2.2 on tokens_lemmatized reviews"
   ]
  },
  {
   "cell_type": "code",
   "execution_count": null,
   "id": "4c2029d1-43fc-4c54-bdf8-ca182eb385a9",
   "metadata": {},
   "outputs": [],
   "source": [
    "# Apply the polarity function to extract polatity score for each review using TextBlob and output results in the new column.\n",
    "df7['polarity_score_t_l_TextBlob'] = df7['review_clean_string'].apply(generate_polarity)"
   ]
  },
  {
   "cell_type": "code",
   "execution_count": null,
   "id": "4df19919-5f8b-4b33-ae98-e738de85513c",
   "metadata": {},
   "outputs": [],
   "source": [
    "# Determine overall sentiment by runing the function to assign respective sentiment label in a new column. \n",
    "df7['overall_sentiment_t_lTextBlob'] = df7['polarity_score_t_l_TextBlob'].apply(get_sentiment_label)\n",
    "\n",
    "# Display the DataFrame with new columns\n",
    "df7.head(1)"
   ]
  },
  {
   "cell_type": "code",
   "execution_count": null,
   "id": "0730706b-cc82-40c6-b0bd-fff5b71ec35d",
   "metadata": {},
   "outputs": [],
   "source": [
    "# Plot the sentiment distribution on TextBlob output.\n",
    "# Sentiment labels\n",
    "sentiment_labels = df7['overall_sentiment_t_lTextBlob']\n",
    "\n",
    "# Set the color palette for the plot\n",
    "color_palette = ['red','skyblue', 'lightgreen']\n",
    "\n",
    "# Create the seaborn countplot\n",
    "plt.figure(figsize=(8, 6))\n",
    "sns.countplot(x=sentiment_labels, palette=color_palette)\n",
    "\n",
    "# Customize plot labels and title\n",
    "plt.title(\"TextBlob Method Sentiment Distribution for Tokenized & Lemmatized Reviews\")\n",
    "plt.xlabel(\"Sentiment Label\")\n",
    "plt.ylabel(\"Number of Reviews\")\n",
    "plt.xticks(rotation=0)\n",
    "\n",
    "# Show the plot\n",
    "plt.show()"
   ]
  },
  {
   "cell_type": "markdown",
   "id": "d91fd143-9651-4f06-89d9-34883c4548f6",
   "metadata": {},
   "source": [
    "### Observation\n",
    "TextBlob, on both pre-processed and lemmatized reviews, returns a lower number of positive results than VADER, but still detects very few negative and neutral sentiments."
   ]
  },
  {
   "cell_type": "markdown",
   "id": "59291784-3505-41e5-9914-e4ec8914524b",
   "metadata": {
    "jp-MarkdownHeadingCollapsed": true
   },
   "source": [
    "## 5. Review polarity and sentiment: VADER vs TextBlob"
   ]
  },
  {
   "cell_type": "markdown",
   "id": "875b5436-111b-4d98-a0ec-2ce01783a435",
   "metadata": {
    "jp-MarkdownHeadingCollapsed": true
   },
   "source": [
    "### 5.1 unprocessed reviews"
   ]
  },
  {
   "cell_type": "code",
   "execution_count": null,
   "id": "3d9d1928",
   "metadata": {},
   "outputs": [],
   "source": [
    "# Plot the sentiment analysis output VADER vs TextBlob.\n",
    "# Count the sentiment labels for both VADER and TextBlob.\n",
    "vader_counts = df7['overall_sentiment_r_VADER'].value_counts()\n",
    "textblob_counts = df7['overall_sentiment_r_TextBlob'].value_counts()\n",
    "\n",
    "# Combine the counts into a DataFrame for easier plotting.\n",
    "sentiment_df = pd.DataFrame({\n",
    "    'VADER': vader_counts,\n",
    "    'TextBlob': textblob_counts\n",
    "}).fillna(0)  \n",
    "\n",
    "# Plot the results side by side using seaborn.\n",
    "ax = sentiment_df.plot(kind='bar', figsize=(10, 6), color=['skyblue', 'salmon'])\n",
    "\n",
    "# Customize the plot.\n",
    "plt.title('Comparison of Review Sentiment: VADER vs TextBlob on Unprocessed Reviews')\n",
    "plt.xlabel('Sentiment')\n",
    "plt.ylabel('Frequency')\n",
    "plt.xticks(rotation=0) \n",
    "plt.legend(title='Sentiment Method', loc='upper left', bbox_to_anchor=(1.05, 1))\n",
    "\n",
    "# Add counts above each bar.\n",
    "for p in ax.patches:\n",
    "    ax.annotate(f'{int(p.get_height())}',  # Displays the height as integer.\n",
    "                (p.get_x() + p.get_width() / 2., p.get_height()),  # Positions the label.\n",
    "                ha='center', va='center',  # Aligns the text.\n",
    "                fontsize=10, color='black',  \n",
    "                xytext=(0, 5),  # Distance of the text from the bar.\n",
    "                textcoords='offset points')\n",
    "\n",
    "plt.show()"
   ]
  },
  {
   "cell_type": "markdown",
   "id": "a5971f55-fa71-43e6-8f7d-775d2857dada",
   "metadata": {
    "jp-MarkdownHeadingCollapsed": true
   },
   "source": [
    "### 5.2 on tokens_lemmatized reviews"
   ]
  },
  {
   "cell_type": "code",
   "execution_count": null,
   "id": "02908082-54e1-4453-86ad-8215b0b4d5f8",
   "metadata": {},
   "outputs": [],
   "source": [
    "# Plot the sentiment analysis output VADER vs TextBlob.\n",
    "# Count the sentiment labels for both VADER and TextBlob.\n",
    "vader_counts = df7['overall_sentiment_t_l_VADER'].value_counts()\n",
    "textblob_counts = df7['overall_sentiment_t_lTextBlob'].value_counts()\n",
    "\n",
    "# Combine the counts into a DataFrame for easier plotting.\n",
    "sentiment_df = pd.DataFrame({\n",
    "    'VADER': vader_counts,\n",
    "    'TextBlob': textblob_counts\n",
    "}).fillna(0)  \n",
    "\n",
    "# Plot the results side by side using seaborn.\n",
    "ax = sentiment_df.plot(kind='bar', figsize=(10, 6), color=['skyblue', 'salmon'])\n",
    "\n",
    "# Customize the plot.\n",
    "plt.title('Comparison of Review Sentiment: VADER vs TextBlob on Tokenized Lemmatized Reviews')\n",
    "plt.xlabel('Sentiment')\n",
    "plt.ylabel('Frequency')\n",
    "plt.xticks(rotation=0) \n",
    "plt.legend(title='Sentiment Method', loc='upper left', bbox_to_anchor=(1.05, 1))\n",
    "\n",
    "# Add counts above each bar.\n",
    "for p in ax.patches:\n",
    "    ax.annotate(f'{int(p.get_height())}',  # Displays the height as integer.\n",
    "                (p.get_x() + p.get_width() / 2., p.get_height()),  # Positions the label.\n",
    "                ha='center', va='center',  # Aligns the text.\n",
    "                fontsize=10, color='black',  \n",
    "                xytext=(0, 5),  # Distance of the text from the bar.\n",
    "                textcoords='offset points')\n",
    "\n",
    "plt.show()"
   ]
  },
  {
   "cell_type": "markdown",
   "id": "7de2b86e-ecdd-47fa-9809-f18fb30e27bb",
   "metadata": {},
   "source": [
    "## Observation\n",
    "While VADER is intended to work best on raw text, in practice it may fail to detect negative sentiment when that sentiment is expressed mildly or indirectly. It appears that tokenization and lemmatization improves detection by helping VADER match sentiment-bearing words more reliably.\r\n",
    "TextBlob tends to produce lower sentiment scores overall, but struggles similarly with negative sentiment detection. \n",
    "\r\n",
    "Ultimately, both models reveal an overall positive sentiment trend, which may reflect either a true bias in the reviews themselves or limitations in these lexicon-based sentiment tools when handling subtle or mixed emotional to.ne\r\n"
   ]
  },
  {
   "cell_type": "markdown",
   "id": "7a2523b8",
   "metadata": {},
   "source": [
    "## 6. Identify top 20 positive and negative reviews\n",
    "will use 'compound' column for VADER output and 'polarity_score_TextBlob' TextBlob"
   ]
  },
  {
   "cell_type": "markdown",
   "id": "cb1c19e5-f848-4f30-8215-db524838d5e8",
   "metadata": {},
   "source": [
    "### 6.1 VADER"
   ]
  },
  {
   "cell_type": "markdown",
   "id": "90effb8f-adcf-41af-a616-f8720519ff54",
   "metadata": {
    "jp-MarkdownHeadingCollapsed": true
   },
   "source": [
    "###  6.1.1 raw pre-processed reviews"
   ]
  },
  {
   "cell_type": "code",
   "execution_count": null,
   "id": "66d7c797",
   "metadata": {
    "scrolled": true
   },
   "outputs": [],
   "source": [
    "# Top 20 negative reviews.\n",
    "# Sort the df7 by the 'compound_r' column in ascending order.\n",
    "top_negative_reviews = df7.sort_values(by='compound_r').head(20)\n",
    "\n",
    "# Display the top 20 reviews with the most negative sentiment\n",
    "print(top_negative_reviews[['review', 'compound_r']])\n"
   ]
  },
  {
   "cell_type": "code",
   "execution_count": null,
   "id": "348d8b54",
   "metadata": {
    "scrolled": true
   },
   "outputs": [],
   "source": [
    "# Top 20 positive reviews.\n",
    "# Sort the df7 by the 'compound_r' column in descending order.\n",
    "top_positive_reviews = df7.sort_values(by='compound_r', ascending=False).head(20)\n",
    "\n",
    "# Display the top 20 reviews with the most positive sentiment (highest compound scores)\n",
    "print(top_positive_reviews[['review', 'compound_r']])\n"
   ]
  },
  {
   "cell_type": "markdown",
   "id": "224e53ac-64b1-415b-8829-6c90538fe613",
   "metadata": {},
   "source": [
    "### Observation\n",
    "* When trying to get the 20 \"most negative\" reviews, it didn’t find any with truly negative scores — most were neutral (compound score = 0).\r",
    "*  Manual skim shows many of these “neutral” reviews were actually positive, suggesting VADER's scoring was inaccurate\n",
    "* 20 0 \"most positive\" reviews were accurately labeled as positive — VADER is reliable with positivity, as expecte.\r\n"
   ]
  },
  {
   "cell_type": "markdown",
   "id": "3a0445d2-f49a-47e8-8c2d-27c936d9db1f",
   "metadata": {
    "jp-MarkdownHeadingCollapsed": true
   },
   "source": [
    "###  6.1.2 tokenized and lemmatized reviews "
   ]
  },
  {
   "cell_type": "code",
   "execution_count": null,
   "id": "eeb15fc6-926a-4309-bcc1-8459e6bf540a",
   "metadata": {
    "scrolled": true
   },
   "outputs": [],
   "source": [
    "# Top 20 negative reviews.\n",
    "# Sort the df7 by the 'compound_r' column in ascending order.\n",
    "top_negative_reviews = df7.sort_values(by='compound_t_l').head(20)\n",
    "\n",
    "# Display the top 20 reviews with the most negative sentiment\n",
    "print(top_negative_reviews[['review', 'compound_t_l']])"
   ]
  },
  {
   "cell_type": "code",
   "execution_count": null,
   "id": "bdefde10-3fda-48fa-97f7-bffccf025b41",
   "metadata": {},
   "outputs": [],
   "source": [
    "# to read any given full review.\n",
    "#print(df7.loc[551, 'review'])"
   ]
  },
  {
   "cell_type": "markdown",
   "id": "8444a58b-8f1b-4d12-a05d-db693b33d840",
   "metadata": {},
   "source": [
    "### Observation:\n",
    "* Positive detection remains strong — 20/20 labeled positives were indeed positive.\r",
    "*  Negative detection is less reliable \r\n",
    "11/20 were truly negati, e\r\n",
    "6 were actually posit, ve\r\n",
    "2–3 were neu. l\r\n",
    "→ That’s 45% misclassification in the “most negative” samples.\r\n"
   ]
  },
  {
   "cell_type": "markdown",
   "id": "cf31b949-0490-4a7d-a48c-70614459c302",
   "metadata": {},
   "source": [
    "### 6.2 TextBlob"
   ]
  },
  {
   "cell_type": "markdown",
   "id": "542f7def-b327-436a-9fbb-a7c2bff8dd06",
   "metadata": {
    "jp-MarkdownHeadingCollapsed": true
   },
   "source": [
    "###  6.2.1 punctuation removed, but otherwise pre-processed reviews"
   ]
  },
  {
   "cell_type": "code",
   "execution_count": null,
   "id": "93b94d43-4245-4a99-b3fe-2eba068f4047",
   "metadata": {
    "scrolled": true
   },
   "outputs": [],
   "source": [
    "# Top 20 negative reviews.\n",
    "# Sort the df7 by the 'polarity_score_r_TextBlob' column in ascending order.\n",
    "top_negative_reviews = df7.sort_values(by='polarity_score_r_TextBlob').head(20)\n",
    "\n",
    "# Display the top 20 reviews with the most negative sentiment\n",
    "print(top_negative_reviews[['review', 'polarity_score_r_TextBlob']])\n"
   ]
  },
  {
   "cell_type": "code",
   "execution_count": null,
   "id": "4fb95b41-2497-4491-9492-6c9dce9a684f",
   "metadata": {},
   "outputs": [],
   "source": [
    "# Read any given review\n",
    "#print(df7.loc[1359, 'review'])"
   ]
  },
  {
   "cell_type": "code",
   "execution_count": null,
   "id": "c893a000-a16f-470f-998f-8222fe72ab1a",
   "metadata": {
    "scrolled": true
   },
   "outputs": [],
   "source": [
    "# Top 20 positive reviews.\n",
    "# Sort the df7 by the 'polarity_score_r_TextBlob' column in descending order.\n",
    "top_positive_reviews = df7.sort_values(by='polarity_score_r_TextBlob', ascending=False).head(20)\n",
    "\n",
    "# Display the top 20 reviews with the most positive sentiment\n",
    "print(top_positive_reviews[['review', 'polarity_score_r_TextBlob']])\n"
   ]
  },
  {
   "cell_type": "markdown",
   "id": "e04e7d6c-8374-441c-a1be-121a3b451a6a",
   "metadata": {},
   "source": [
    "### Observation:\n",
    "* Manualy skimming through showed that positives were solid.\r",
    "*  Among the \"most negative\" 2, \r\n",
    "12 were truly negati, e\r\n",
    "5 were actually posit, ve\r\n",
    "3 neu. l\r\n",
    "→ So, 40% were misclassified — slightly better than VADER, but still flwed.\r\n"
   ]
  },
  {
   "cell_type": "markdown",
   "id": "293c693d-c231-4383-93cb-51c2f8eeda54",
   "metadata": {
    "jp-MarkdownHeadingCollapsed": true
   },
   "source": [
    "###  6.2.2 tokenized and lemmatized reviews "
   ]
  },
  {
   "cell_type": "code",
   "execution_count": null,
   "id": "fdec49a7-23c8-4f45-ad55-f1b22da3ef90",
   "metadata": {
    "scrolled": true
   },
   "outputs": [],
   "source": [
    "# Top 20 negative reviews.\n",
    "# Sort the df7 by the 'overall_sentiment_t_lTextBlob' column in ascending order.\n",
    "top_negative_reviews = df7.sort_values(by='overall_sentiment_t_lTextBlob').head(20)\n",
    "\n",
    "# Display the top 20 reviews with the most negative sentiment\n",
    "print(top_negative_reviews[['review', 'overall_sentiment_t_lTextBlob']])\n"
   ]
  },
  {
   "cell_type": "code",
   "execution_count": null,
   "id": "4caa4337-ff91-477a-ba9e-af02ca3d5021",
   "metadata": {
    "scrolled": true
   },
   "outputs": [],
   "source": [
    "# Top 20 positive reviews.\n",
    "# Sort the df7 by the 'overall_sentiment_t_lTextBlob' column in descending order.\n",
    "top_positive_reviews = df7.sort_values(by='overall_sentiment_t_lTextBlob', ascending=False).head(20)\n",
    "\n",
    "# Display the top 20 reviews with the most positive sentiment\n",
    "print(top_positive_reviews[['review', 'overall_sentiment_t_lTextBlob']])\n"
   ]
  },
  {
   "cell_type": "markdown",
   "id": "9900492b-8920-4a5e-b65f-a95105980234",
   "metadata": {},
   "source": [
    "### Observation\n",
    "* Positives again were reliable — all 20 labeled positives were indeed positive.\r",
    "*  Negatives had mixed accuracy \r\n",
    "10 were truly negati, e\r\n",
    "8 were actually posit, ve\r\n",
    "2 were neu. l\r\n",
    "→ That’s 50% misclassified or uncear.\r\n"
   ]
  },
  {
   "cell_type": "markdown",
   "id": "db100989-3790-4ed3-9163-c2a38069dd11",
   "metadata": {},
   "source": [
    "## Observations\n",
    "Overall, \n",
    "* positive sentiment detection is consistently strong across all methods and text formats. This supports the idea that positive sentiment is easier to detect — more direct, more strongly worded, and better represented in sentiment lexicons. \n",
    "* Negative sentiment is harder to detect — especially by VADER. This supports the known limitation of VADER where it underperforms on indirect, nuanced, or less emotionally-charged negative sentiment. TextBlob performs slightly better on negative sentiment than VADER, but still weak overall.\n",
    "* Preprocessing and lemmatization may improve detection modestly, but the inherent limitations of lexicon-based models mean they are prone to underestimating or misclassifying negative sentiment, especially when expressed in a subtle or indirect way."
   ]
  },
  {
   "cell_type": "markdown",
   "id": "c3ac5e57",
   "metadata": {},
   "source": [
    "#### "
   ]
  }
 ],
 "metadata": {
  "kernelspec": {
   "display_name": "Python 3 (ipykernel)",
   "language": "python",
   "name": "python3"
  },
  "language_info": {
   "codemirror_mode": {
    "name": "ipython",
    "version": 3
   },
   "file_extension": ".py",
   "mimetype": "text/x-python",
   "name": "python",
   "nbconvert_exporter": "python",
   "pygments_lexer": "ipython3",
   "version": "3.12.4"
  }
 },
 "nbformat": 4,
 "nbformat_minor": 5
}
